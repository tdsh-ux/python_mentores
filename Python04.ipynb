{
  "nbformat": 4,
  "nbformat_minor": 0,
  "metadata": {
    "colab": {
      "name": "Copy of Python04.ipynb",
      "provenance": [],
      "collapsed_sections": [],
      "toc_visible": true
    },
    "kernelspec": {
      "name": "python3",
      "display_name": "Python 3"
    }
  },
  "cells": [
    {
      "cell_type": "markdown",
      "metadata": {
        "id": "0pzP5L1B6PQ_",
        "colab_type": "text"
      },
      "source": [
        "#Reutilização de código"
      ]
    },
    {
      "cell_type": "markdown",
      "metadata": {
        "id": "SwFKfUvF4Vdk",
        "colab_type": "text"
      },
      "source": [
        "##Chamada de função\n",
        "Você já viu um exemplo de uma chamada de função:"
      ]
    },
    {
      "cell_type": "code",
      "metadata": {
        "id": "pqhGZmLE4cz9",
        "colab_type": "code",
        "colab": {
          "base_uri": "https://localhost:8080/",
          "height": 34
        },
        "outputId": "8955cd84-487b-4a7b-dfe1-9d46e76989c5"
      },
      "source": [
        "type('32')"
      ],
      "execution_count": null,
      "outputs": [
        {
          "output_type": "execute_result",
          "data": {
            "text/plain": [
              "str"
            ]
          },
          "metadata": {
            "tags": []
          },
          "execution_count": 2
        }
      ]
    },
    {
      "cell_type": "code",
      "metadata": {
        "id": "Phf_okG74oBd",
        "colab_type": "code",
        "colab": {
          "base_uri": "https://localhost:8080/",
          "height": 34
        },
        "outputId": "e678b365-c8aa-42f5-999e-e758174f5339"
      },
      "source": [
        "print(\"Hello world!\")"
      ],
      "execution_count": null,
      "outputs": [
        {
          "output_type": "stream",
          "text": [
            "Hello world!\n"
          ],
          "name": "stdout"
        }
      ]
    },
    {
      "cell_type": "markdown",
      "metadata": {
        "id": "Zz_mJ9PN43dx",
        "colab_type": "text"
      },
      "source": [
        "No primeiro exemplo, o nome da função é *type* e ela exibe o tipo de um valor ou variável. O valor ou variável, que é chamado de argumento ou parâmetro da função, tem que vir entre parênteses. É comum se dizer que uma função ‘recebe’ um valor ou mais valores e ‘retorna’ um resultado. O resultado é chamado de valor de retorno.\n",
        "\n",
        "No segundo exemplo, o nome da função é *print* e ela exibe na tela a mensagem entre aspas (\"). A mensagem ou variável é o parâmetro da função *print()*."
      ]
    },
    {
      "cell_type": "markdown",
      "metadata": {
        "id": "lCieYRJ6QuqV",
        "colab_type": "text"
      },
      "source": [
        "##O que é uma função?\n",
        "O conceito de função é um dos mais importantes na matemática. Em computação, uma função é uma sequência de instruções que computa um ou mais resultados.\n",
        "\n",
        "As funções são as partes reutilizáveis do código que nos ajudam a organizar a estrutura do código. Existem as funções já prontas, que fazem parte de uma vasta biblioteca do Python mas também podemos criar nossas próprias funções.\n",
        "\n",
        "O objetivo de ser criar novas funções surge da necessidade de executar um conjunto de instruções várias vezes em um programa, sem precisar repetir aquela mesma parte do código.\n",
        "\n",
        "Você pode usar o nome que quiser para as funções que criar, exceto as [palavras reservadas do Python](https://www.w3schools.com/python/python_ref_keywords.asp). A lista de parâmetros especifica que informação, se houver alguma, você tem que fornecer para poder usar a nova função.\n",
        "\n",
        "Podemos criar nossa própria função para calcular a razão do espaço pelo tempo, definindo uma função recebendo que receberá como parâmetros os valores de espaço e tempo.\n",
        "\n",
        "    f(espaco, tempo) = espaco/tempo\n",
        "\n",
        "Essa razão do espaço pelo tempo é o que chamamos de velocidade média na física. Podemos então dar este nome a nossa função:\n",
        "\n",
        "    velocidade(espaco, tempo) = espaco/tempo\n",
        "\n",
        "Se um carro percorreu uma distância de 100 metros em 20 segundos podemos calcular sua velocidade média:\n",
        "\n",
        "    velocidade(100, 20) = 100/20 = 5 m/s\n",
        "\n",
        "O Python permite definirmos funções como essa da velocidade média. A sintaxe é muito parecida com a da matemática. Para definirmos uma função no Python utilizamos o comando def:\n",
        "\n",
        "\n"
      ]
    },
    {
      "cell_type": "code",
      "metadata": {
        "id": "3Yth6xANp_5y",
        "colab_type": "code",
        "colab": {}
      },
      "source": [
        "def velocidade(espaco, tempo):\n",
        "  v = espaco/tempo\n",
        "  print(f\"Velocidade: {v} m/s\")"
      ],
      "execution_count": null,
      "outputs": []
    },
    {
      "cell_type": "markdown",
      "metadata": {
        "id": "xrYQ0YEFpwen",
        "colab_type": "text"
      },
      "source": [
        "Logo após o def vem o nome da função e entre parêntese vêm os seus parâmetros. Uma função também tem um escopo, um bloco de instruções em que colocamos os cálculos.\n",
        "\n",
        "Agora, vamos testar nossa função!"
      ]
    },
    {
      "cell_type": "code",
      "metadata": {
        "id": "krfuJ-qMqaxn",
        "colab_type": "code",
        "colab": {
          "base_uri": "https://localhost:8080/",
          "height": 34
        },
        "outputId": "14ace260-9c6d-4191-87b3-18edd5361e3d"
      },
      "source": [
        "velocidade(100,20)"
      ],
      "execution_count": null,
      "outputs": [
        {
          "output_type": "stream",
          "text": [
            "Velocidade: 5.0 m/s\n"
          ],
          "name": "stdout"
        }
      ]
    },
    {
      "cell_type": "markdown",
      "metadata": {
        "id": "bJbVpuL9vOS7",
        "colab_type": "text"
      },
      "source": [
        "De maneira geral, uma função é um estrutura para agrupar um conjunto de instruções que podem ser reutilizadas. Agora qualquer parte do nosso programa pode chamar a função velocidade quando precisar calcular a velocidade média de um veículo, por exemplo. E podemos chamá-la mais de uma vez, o que significa que não precisamos escrever o mesmo código novamente.\n",
        "\n",
        "Funções são conhecidas por diversos nomes em linguagens de programação como subrotinas, rotinas, procedimentos, métodos e subprogramas.\n",
        "\n",
        "Podemos ter funções sem parâmetros. Por exemplo, podemos ter uma função que diz 'oi' na tela:"
      ]
    },
    {
      "cell_type": "code",
      "metadata": {
        "id": "BPNSePgXvZj5",
        "colab_type": "code",
        "colab": {}
      },
      "source": [
        "def diz_oi():\n",
        "  print(\"oi\")"
      ],
      "execution_count": null,
      "outputs": []
    },
    {
      "cell_type": "code",
      "metadata": {
        "id": "15PcRToyvhYw",
        "colab_type": "code",
        "colab": {
          "base_uri": "https://localhost:8080/",
          "height": 34
        },
        "outputId": "6ce4982d-bd62-484c-b0da-586c62628cbd"
      },
      "source": [
        "diz_oi()"
      ],
      "execution_count": null,
      "outputs": [
        {
          "output_type": "stream",
          "text": [
            "oi\n"
          ],
          "name": "stdout"
        }
      ]
    },
    {
      "cell_type": "markdown",
      "metadata": {
        "id": "9ZYyn1OF6EeM",
        "colab_type": "text"
      },
      "source": [
        "##Parâmetros de funções\n",
        "Um conjunto de parâmetros consiste em uma lista com nenhum ou mais elementos que podem ser obrigatórios ou opcionais. Para um parâmetro ser opcional atribuímos um valor padrão (*default*) para ele - o mais comum é utilizar *None*. Por exemplo:"
      ]
    },
    {
      "cell_type": "code",
      "metadata": {
        "id": "XP7QkHFT7CBg",
        "colab_type": "code",
        "colab": {
          "base_uri": "https://localhost:8080/",
          "height": 50
        },
        "outputId": "464a91b8-7041-4e52-c273-c7705bf2a559"
      },
      "source": [
        "def dados(nome, idade=None):\n",
        "        print(f\"Nome: {nome}\")\n",
        "        if(idade is not None):\n",
        "            print(f\"Idade: {idade}\")\n",
        "        else:\n",
        "            print(\"Idade: não informada\")\n",
        "\n",
        "dados (\"Maria\", 16)"
      ],
      "execution_count": null,
      "outputs": [
        {
          "output_type": "stream",
          "text": [
            "Nome: Maria\n",
            "Idade: 16\n"
          ],
          "name": "stdout"
        }
      ]
    },
    {
      "cell_type": "code",
      "metadata": {
        "id": "YelbTA8u7cqE",
        "colab_type": "code",
        "colab": {
          "base_uri": "https://localhost:8080/",
          "height": 50
        },
        "outputId": "a21b781c-050f-4be7-bde1-228e47f9372b"
      },
      "source": [
        "dados(\"Helena\", 25)"
      ],
      "execution_count": null,
      "outputs": [
        {
          "output_type": "stream",
          "text": [
            "Nome: Helena\n",
            "Idade: 25\n"
          ],
          "name": "stdout"
        }
      ]
    },
    {
      "cell_type": "markdown",
      "metadata": {
        "id": "LDATl8qy7q0P",
        "colab_type": "text"
      },
      "source": [
        "#Exercício 1:\n",
        "O que acontece se passarmos somente a idade? Teste a função passando só a idade e explique o que você entendeu a partir do resultado."
      ]
    },
    {
      "cell_type": "code",
      "metadata": {
        "id": "TvMoZ5R7h028",
        "colab_type": "code",
        "colab": {
          "base_uri": "https://localhost:8080/",
          "height": 50
        },
        "outputId": "0483de8c-6455-4197-f5af-5790e8b639d1"
      },
      "source": [
        "dados(19)\n",
        "\n",
        "#A função exige o argumento posicional \"nome\"; sua omissão, em linhas elementares, impede o programa de executá-la."
      ],
      "execution_count": null,
      "outputs": [
        {
          "output_type": "stream",
          "text": [
            "Nome: 19\n",
            "Idade: não informada\n"
          ],
          "name": "stdout"
        }
      ]
    },
    {
      "cell_type": "markdown",
      "metadata": {
        "id": "65fLxFcu8qvf",
        "colab_type": "text"
      },
      "source": [
        "##Função com retono\n",
        "E se ao invés de apenas mostrar o resultado, quisermos utilizar a velocidade média para fazer outro cálculo, como calcular a aceleração? Da maneira como está, nossa função velocidade() não conseguimos utilizar seu resultado final para cálculos.\n",
        "\n",
        "    Exemplo: \n",
        "    aceleracao = velocidade(parametros) / tempo\n",
        "\n",
        "Para conseguirmos este comportamento, precisamos que nossa função retorne o valor calculado por ela. No Python, utilizamos o comando *return*:"
      ]
    },
    {
      "cell_type": "code",
      "metadata": {
        "id": "zdbyF-lw9Gmz",
        "colab_type": "code",
        "colab": {}
      },
      "source": [
        "def velocidade(espaco, tempo):\n",
        "  v = espaco/tempo\n",
        "  return v"
      ],
      "execution_count": null,
      "outputs": []
    },
    {
      "cell_type": "code",
      "metadata": {
        "id": "7VfBNJGV9LpT",
        "colab_type": "code",
        "colab": {
          "base_uri": "https://localhost:8080/",
          "height": 34
        },
        "outputId": "e986fad2-d30f-4eb1-e153-4b175819acce"
      },
      "source": [
        "velocidade (100,20)"
      ],
      "execution_count": null,
      "outputs": [
        {
          "output_type": "execute_result",
          "data": {
            "text/plain": [
              "5.0"
            ]
          },
          "metadata": {
            "tags": []
          },
          "execution_count": 17
        }
      ]
    },
    {
      "cell_type": "markdown",
      "metadata": {
        "id": "KBmN4zmi9yS1",
        "colab_type": "text"
      },
      "source": [
        "Também podemos atrituir o valor de retorno da função a uma variável."
      ]
    },
    {
      "cell_type": "code",
      "metadata": {
        "id": "wNdSwQqT92wL",
        "colab_type": "code",
        "colab": {
          "base_uri": "https://localhost:8080/",
          "height": 34
        },
        "outputId": "4bf9b150-00c6-485b-94a3-7dcede751ae7"
      },
      "source": [
        "resultado = velocidade(100,20)\n",
        "resultado"
      ],
      "execution_count": null,
      "outputs": [
        {
          "output_type": "execute_result",
          "data": {
            "text/plain": [
              "5.0"
            ]
          },
          "metadata": {
            "tags": []
          },
          "execution_count": 18
        }
      ]
    },
    {
      "cell_type": "markdown",
      "metadata": {
        "id": "jh4IQVoV-uU6",
        "colab_type": "text"
      },
      "source": [
        "E assim, conseguimos utilizar o valor de retorno da função velocidade() para o cálculo da aceleração."
      ]
    },
    {
      "cell_type": "code",
      "metadata": {
        "id": "M5_wFvjl-2qg",
        "colab_type": "code",
        "colab": {
          "base_uri": "https://localhost:8080/",
          "height": 34
        },
        "outputId": "ac8835b2-a32a-40a0-8927-d5b6cba31af6"
      },
      "source": [
        "aceleracao = velocidade (100, 20)/20\n",
        "aceleracao"
      ],
      "execution_count": null,
      "outputs": [
        {
          "output_type": "execute_result",
          "data": {
            "text/plain": [
              "0.25"
            ]
          },
          "metadata": {
            "tags": []
          },
          "execution_count": 19
        }
      ]
    },
    {
      "cell_type": "markdown",
      "metadata": {
        "id": "eyd63gfOUcr6",
        "colab_type": "text"
      },
      "source": [
        "#Exercício 2:\n",
        "Defina uma função soma() que receba dois números como parâmetros e calcule a soma entre eles. Faça uma chamada à função soma()."
      ]
    },
    {
      "cell_type": "code",
      "metadata": {
        "id": "yx91Om2zjZ9H",
        "colab_type": "code",
        "colab": {
          "base_uri": "https://localhost:8080/",
          "height": 34
        },
        "outputId": "673519a4-fc87-40dc-97e0-2573479e88b6"
      },
      "source": [
        "def soma(a,b):\n",
        "  if(type(a) not in [int, float] or type(b) not in [int, float]):\n",
        "    print(\"Ora, a soma não está definida para as estranhas unidades lexicais.\")\n",
        "  else:\n",
        "    return a+b\n",
        "\n",
        "soma(11, 11)"
      ],
      "execution_count": null,
      "outputs": [
        {
          "output_type": "execute_result",
          "data": {
            "text/plain": [
              "22"
            ]
          },
          "metadata": {
            "tags": []
          },
          "execution_count": 25
        }
      ]
    },
    {
      "cell_type": "markdown",
      "metadata": {
        "id": "lm6PAN7JUg3L",
        "colab_type": "text"
      },
      "source": [
        "#Exercício 3: \n",
        "Defina uma função tabuada, que receba um número como parâmetro e calcule seus múltiplos até 10. Faça uma chamada à função tabuada()."
      ]
    },
    {
      "cell_type": "code",
      "metadata": {
        "id": "czbvsKErk2Dy",
        "colab_type": "code",
        "colab": {
          "base_uri": "https://localhost:8080/",
          "height": 202
        },
        "outputId": "6e491033-289d-48ef-d763-81b76beb7d36"
      },
      "source": [
        "def tabuada(a):\n",
        "  if(type(a) != int):\n",
        "    print(\"Abra, por gentileza, o livro na página 45.8 para rever as definições.\")\n",
        "  else:\n",
        "    print(f\"A tabuada do {a} é:\")\n",
        "    for i in range(1,11):\n",
        "      print(f\"{a} * {i} = {a * i}\", end = \"\\n\")\n",
        "\n",
        "tabuada(9)"
      ],
      "execution_count": null,
      "outputs": [
        {
          "output_type": "stream",
          "text": [
            "A tabuada do 9 é:\n",
            "9 * 1 = 9\n",
            "9 * 2 = 18\n",
            "9 * 3 = 27\n",
            "9 * 4 = 36\n",
            "9 * 5 = 45\n",
            "9 * 6 = 54\n",
            "9 * 7 = 63\n",
            "9 * 8 = 72\n",
            "9 * 9 = 81\n",
            "9 * 10 = 90\n"
          ],
          "name": "stdout"
        }
      ]
    },
    {
      "cell_type": "markdown",
      "metadata": {
        "id": "RJMdcC5-WEF2",
        "colab_type": "text"
      },
      "source": [
        "#Exercício 4:\n",
        "Escreva uma função area_triangulo, que receba como parâmetro os três lados de um triângulo e calcule a área dos triângulos abaixo.\n",
        "\n",
        "![alt text](https://github.com/alexiaca/mentores-python/blob/master/t01.png?raw=true)\n",
        "![alt text](https://github.com/alexiaca/mentores-python/blob/master/t02.png?raw=true)\n",
        "![alt text](https://github.com/alexiaca/mentores-python/blob/master/t03.png?raw=true)"
      ]
    },
    {
      "cell_type": "code",
      "metadata": {
        "id": "wrZDBthBmbHD",
        "colab_type": "code",
        "colab": {
          "base_uri": "https://localhost:8080/",
          "height": 67
        },
        "outputId": "09b132fb-a5c2-4033-d2f9-c701a4dc46a2"
      },
      "source": [
        "def area_triangulo(a,b,c):\n",
        "  p = (a+b+c)/2\n",
        "  return round((p*(p-a)*(p-b)*(p-c))**(1/2), 2)\n",
        "\n",
        "print(\n",
        "area_triangulo(1.28,1.1,1.4),\n",
        "\n",
        "area_triangulo(2.1,3.97,4.45),\n",
        "\n",
        "area_triangulo(1.75,3.12,1.53), sep = \"\\n\")"
      ],
      "execution_count": null,
      "outputs": [
        {
          "output_type": "stream",
          "text": [
            "0.67\n",
            "4.17\n",
            "0.79\n"
          ],
          "name": "stdout"
        }
      ]
    },
    {
      "cell_type": "markdown",
      "metadata": {
        "id": "60f-7JvLWwgX",
        "colab_type": "text"
      },
      "source": [
        "#Exercício 5:\n",
        "Escreva uma função area_poligono que receba como parâmetro a área de um triângulo e calcule a ârea dos polígonos abaixo. Reaproveite a função area_triangulo que você escreveu no exercício acima, para calcular as áreas dos triângulos que servirão de parâmetro para a função area_poligono().\n",
        "\n",
        "![alt text](https://github.com/alexiaca/mentores-python/blob/master/p01.png?raw=true)\n",
        "![alt text](https://github.com/alexiaca/mentores-python/blob/master/p02.png?raw=true)\n",
        "![alt text](https://github.com/alexiaca/mentores-python/blob/master/p03.png?raw=true)"
      ]
    },
    {
      "cell_type": "code",
      "metadata": {
        "id": "I8k2G-3BnKSK",
        "colab_type": "code",
        "colab": {
          "base_uri": "https://localhost:8080/",
          "height": 67
        },
        "outputId": "88beaa3a-ad14-4300-8c8a-fee9c8cf7028"
      },
      "source": [
        "def area_poligono(a = 0, b = 0, c = 0, d = 0, e = 0, f = 0, g = 0, h = 0, i = 0, j = 0, k = 0, l = 0):\n",
        "  return area_triangulo(a,b,c) + area_triangulo(d,e,f) + area_triangulo(g,h,i) + area_triangulo(j,k,l)\n",
        "\n",
        "print(area_poligono(4.72,5.3,4.42,4.42,3.65,3.39),\n",
        "      area_poligono(2.95,4.04,4.48,4.48,2.66,2.35,2.35,3.58,3.34,2.66,1.57,2.89),\n",
        "      area_poligono(3.62,2.84,1.61,2.84,2.08,3.34,2.08,5.14,4.69,5.14,6.63,2.51), sep = \"\\n\")"
      ],
      "execution_count": null,
      "outputs": [
        {
          "output_type": "stream",
          "text": [
            "15.89\n",
            "14.21\n",
            "15.829999999999998\n"
          ],
          "name": "stdout"
        }
      ]
    },
    {
      "cell_type": "code",
      "metadata": {
        "id": "O-PIMayiwSgh",
        "colab_type": "code",
        "colab": {
          "base_uri": "https://localhost:8080/",
          "height": 101
        },
        "outputId": "8a1444e9-6ce7-4bdc-fb18-c9e840c215f4"
      },
      "source": [
        "#Podemos fazer uma função que enseje o cálculo de uma quantidade arbitrariamente grande de triângulos; no entanto,\n",
        "#para os propósitos desse exercício, ela parece bastante desnecessária - um flamingo num campo de croquet.\n",
        "def area():\n",
        "  n = int(input('O número de triângulos é igual a: ',))\n",
        "  i = 1\n",
        "  l = []\n",
        "  print(\"Insira as medidas dos lados separadas por vírgulas e sem espaço; e.g., 8,9,11.\")\n",
        "  while i < n+1:\n",
        "    a = input().split(\",\")\n",
        "    l.append(area_triangulo(float(a[0]),float(a[1]),float(a[2])))\n",
        "    i = i + 1\n",
        "  return sum(l)\n",
        "\n",
        "area()"
      ],
      "execution_count": null,
      "outputs": [
        {
          "output_type": "stream",
          "text": [
            "O número de triângulos é igual a: 2\n",
            "Insira as medidas dos lados separadas por vírgulas e sem espaço; e.g., 8,9,11.\n",
            "4.72,5.3,4.42\n",
            "4.42,3.39,3.65\n"
          ],
          "name": "stdout"
        },
        {
          "output_type": "execute_result",
          "data": {
            "text/plain": [
              "15.89"
            ]
          },
          "metadata": {
            "tags": []
          },
          "execution_count": 101
        }
      ]
    },
    {
      "cell_type": "markdown",
      "metadata": {
        "id": "sC6ujhCEdcZ7",
        "colab_type": "text"
      },
      "source": [
        "#Exercício 6:\n",
        "Escreva uma função area_circulo, que receba como parâmetro o raio e retorne a área calculada. Faça uma chamada à função."
      ]
    },
    {
      "cell_type": "code",
      "metadata": {
        "id": "N2t2Wq7UuL3q",
        "colab_type": "code",
        "colab": {
          "base_uri": "https://localhost:8080/",
          "height": 34
        },
        "outputId": "d12a4850-b53a-4040-804d-d43cfca54cd2"
      },
      "source": [
        "def area_circulo(r):\n",
        "  return round(3.1415926535 * r ** 2, 2)\n",
        "\n",
        "area_circulo(9)"
      ],
      "execution_count": null,
      "outputs": [
        {
          "output_type": "execute_result",
          "data": {
            "text/plain": [
              "254.47"
            ]
          },
          "metadata": {
            "tags": []
          },
          "execution_count": 56
        }
      ]
    },
    {
      "cell_type": "markdown",
      "metadata": {
        "id": "X8W8RyeLdl2n",
        "colab_type": "text"
      },
      "source": [
        "#Exercício 7:\n",
        "Escreva uma função area_trapézio, que receba como parâmetro os lados a e b e a altura h e calcule a área de um trapézio. Faça uma chamada à função."
      ]
    },
    {
      "cell_type": "code",
      "metadata": {
        "id": "d18npAfaukCd",
        "colab_type": "code",
        "colab": {
          "base_uri": "https://localhost:8080/",
          "height": 34
        },
        "outputId": "868a65e6-77fc-4070-a6f3-da582f86e0af"
      },
      "source": [
        "def area_trapezio(a,b,h):\n",
        "  return (a+b)*h/2\n",
        "\n",
        "area_trapezio(4,5,8)"
      ],
      "execution_count": null,
      "outputs": [
        {
          "output_type": "execute_result",
          "data": {
            "text/plain": [
              "36.0"
            ]
          },
          "metadata": {
            "tags": []
          },
          "execution_count": 57
        }
      ]
    },
    {
      "cell_type": "markdown",
      "metadata": {
        "id": "k9uP22iI-JHn",
        "colab_type": "text"
      },
      "source": [
        "Nota: Esse material foi produzido a partir da compilação de materias de outros autores.\n",
        "\n",
        "1. Material disponibilizado pelo Prof. Leonardo de Oliveira Carvalho da UFF\n",
        "2. Apostila Pyton e Orientação a Objetos, disponível em https://www.caelum.com.br/apostila-python-orientacao-objetos/f"
      ]
    },
    {
      "cell_type": "markdown",
      "metadata": {
        "id": "A3s5fkxscKlD",
        "colab_type": "text"
      },
      "source": [
        "#Trabalhando com *strings*\n",
        "Como vimos anteriormente, *string* é um tipo de dado no Python que trata uma cadeia de caracteres.\n",
        "\n",
        "O jeito mais básico de manipular *strings* é através de métodos que estão dentro delas (*strings*). Podemos fazer um limitado número de tarefas em *string*s através desses métodos."
      ]
    },
    {
      "cell_type": "markdown",
      "metadata": {
        "id": "kkSyyFQTdw7N",
        "colab_type": "text"
      },
      "source": [
        "## A função *len()*\n",
        "A função *len()* é usada para encontrar o tamanho de uma string contando espacos e caracteres especiais, ou seja, tudo que pertencer a essa string."
      ]
    },
    {
      "cell_type": "code",
      "metadata": {
        "id": "jyRaWTWrdfaV",
        "colab_type": "code",
        "colab": {
          "base_uri": "https://localhost:8080/",
          "height": 34
        },
        "outputId": "c1d86a91-1e2b-443c-d39b-e24adb9e8839"
      },
      "source": [
        "a = 'casa'\n",
        "len(a)"
      ],
      "execution_count": null,
      "outputs": [
        {
          "output_type": "execute_result",
          "data": {
            "text/plain": [
              "4"
            ]
          },
          "metadata": {
            "tags": []
          },
          "execution_count": 58
        }
      ]
    },
    {
      "cell_type": "code",
      "metadata": {
        "id": "IpAQUVrhdmun",
        "colab_type": "code",
        "colab": {
          "base_uri": "https://localhost:8080/",
          "height": 34
        },
        "outputId": "ebcc1edb-e031-4e35-891a-b6a96b08ee85"
      },
      "source": [
        "b = 'Valendo um milhao de reais em barras de ouro, que valem mais do que dinheiro!'\n",
        "len(b)"
      ],
      "execution_count": null,
      "outputs": [
        {
          "output_type": "execute_result",
          "data": {
            "text/plain": [
              "77"
            ]
          },
          "metadata": {
            "tags": []
          },
          "execution_count": 59
        }
      ]
    },
    {
      "cell_type": "code",
      "metadata": {
        "id": "AF8tvlg1drkO",
        "colab_type": "code",
        "colab": {
          "base_uri": "https://localhost:8080/",
          "height": 34
        },
        "outputId": "e4dc779f-2339-44a3-8673-4d3447eebeb2"
      },
      "source": [
        "c = 'Ja acabou, Jessica?'\n",
        "len(c)"
      ],
      "execution_count": null,
      "outputs": [
        {
          "output_type": "execute_result",
          "data": {
            "text/plain": [
              "19"
            ]
          },
          "metadata": {
            "tags": []
          },
          "execution_count": 60
        }
      ]
    },
    {
      "cell_type": "markdown",
      "metadata": {
        "id": "qb8Y62TneIeG",
        "colab_type": "text"
      },
      "source": [
        "##O método *replace()*\n",
        "O método *replace()* substitui uma parte do texto por uma outra *string*.\n",
        "\n",
        "No código a seguir, iremos definir uma *string* e em seguida, substituiremos uma parte do texto por outra."
      ]
    },
    {
      "cell_type": "code",
      "metadata": {
        "id": "ZfvO8_dNetb6",
        "colab_type": "code",
        "colab": {
          "base_uri": "https://localhost:8080/",
          "height": 34
        },
        "outputId": "b959f375-bb3e-4939-fced-282db16af3ec"
      },
      "source": [
        "frase = \"Isto é somente uma simples string.\"\n",
        "frase = frase.replace('simples', 'pequena')\n",
        "frase"
      ],
      "execution_count": null,
      "outputs": [
        {
          "output_type": "execute_result",
          "data": {
            "text/plain": [
              "'Isto é somente uma pequena string.'"
            ]
          },
          "metadata": {
            "tags": []
          },
          "execution_count": 61
        }
      ]
    },
    {
      "cell_type": "markdown",
      "metadata": {
        "id": "3OVcz_N0g7c7",
        "colab_type": "text"
      },
      "source": [
        "##O método *count()*\n",
        "O método *count()* conta o número de vezes que a palavra especificada aparece na *string*."
      ]
    },
    {
      "cell_type": "code",
      "metadata": {
        "id": "JvV-d72-hILg",
        "colab_type": "code",
        "colab": {
          "base_uri": "https://localhost:8080/",
          "height": 34
        },
        "outputId": "934eeb07-b454-4aa6-f164-8c3de5392014"
      },
      "source": [
        "frase = \"Isto é somente uma simples string.\"\n",
        "frase.count(\"s\")"
      ],
      "execution_count": null,
      "outputs": [
        {
          "output_type": "execute_result",
          "data": {
            "text/plain": [
              "5"
            ]
          },
          "metadata": {
            "tags": []
          },
          "execution_count": 62
        }
      ]
    },
    {
      "cell_type": "markdown",
      "metadata": {
        "id": "7EjzYSKNhVJM",
        "colab_type": "text"
      },
      "source": [
        "##O método *find()*\n",
        "O método *find()* busca em que posição está certa levra ou palavra."
      ]
    },
    {
      "cell_type": "code",
      "metadata": {
        "id": "ANY8SUgphejX",
        "colab_type": "code",
        "colab": {
          "base_uri": "https://localhost:8080/",
          "height": 34
        },
        "outputId": "17d5b770-9365-431e-98e4-eb2d0ffee90c"
      },
      "source": [
        "frase = \"Isto é somente uma simples string.\"\n",
        "frase.find(\"somente\")"
      ],
      "execution_count": null,
      "outputs": [
        {
          "output_type": "execute_result",
          "data": {
            "text/plain": [
              "7"
            ]
          },
          "metadata": {
            "tags": []
          },
          "execution_count": 63
        }
      ]
    },
    {
      "cell_type": "code",
      "metadata": {
        "id": "S65BCbvOhweT",
        "colab_type": "code",
        "colab": {
          "base_uri": "https://localhost:8080/",
          "height": 34
        },
        "outputId": "31e477f0-b4c7-4914-ec36-2b6ec797fcbc"
      },
      "source": [
        "frase.find(\"s\")"
      ],
      "execution_count": null,
      "outputs": [
        {
          "output_type": "execute_result",
          "data": {
            "text/plain": [
              "1"
            ]
          },
          "metadata": {
            "tags": []
          },
          "execution_count": 64
        }
      ]
    },
    {
      "cell_type": "markdown",
      "metadata": {
        "id": "SZDeaIamiUIO",
        "colab_type": "text"
      },
      "source": [
        "##O método *split*\n",
        "O método *split* quebra uma *string* em pedaços."
      ]
    },
    {
      "cell_type": "code",
      "metadata": {
        "id": "6tI1d-DZigE1",
        "colab_type": "code",
        "colab": {
          "base_uri": "https://localhost:8080/",
          "height": 34
        },
        "outputId": "62c25e9c-0e2b-406b-b1ae-0471d5880e94"
      },
      "source": [
        "frase = \"Isto é somente uma simples string.\"\n",
        "frase.split()"
      ],
      "execution_count": null,
      "outputs": [
        {
          "output_type": "execute_result",
          "data": {
            "text/plain": [
              "['Isto', 'é', 'somente', 'uma', 'simples', 'string.']"
            ]
          },
          "metadata": {
            "tags": []
          },
          "execution_count": 67
        }
      ]
    },
    {
      "cell_type": "markdown",
      "metadata": {
        "id": "FX5IbILzi38A",
        "colab_type": "text"
      },
      "source": [
        "Neste caso, a *string* foi separada a cada espaço em branco encontrado.\n",
        "\n",
        "Podemos definir onde ocorrerá a quebra da *string*."
      ]
    },
    {
      "cell_type": "code",
      "metadata": {
        "id": "RpnseHZJjJAL",
        "colab_type": "code",
        "colab": {
          "base_uri": "https://localhost:8080/",
          "height": 34
        },
        "outputId": "03ab3e9b-9b90-43d5-f53f-9bf8e259b863"
      },
      "source": [
        "frase = \"Isto é somente uma simples string.\"\n",
        "frase.split(\"uma\")"
      ],
      "execution_count": null,
      "outputs": [
        {
          "output_type": "execute_result",
          "data": {
            "text/plain": [
              "['Isto é somente ', ' simples string.']"
            ]
          },
          "metadata": {
            "tags": []
          },
          "execution_count": 68
        }
      ]
    }
  ]
}