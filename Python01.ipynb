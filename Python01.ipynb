{
  "nbformat": 4,
  "nbformat_minor": 0,
  "metadata": {
    "colab": {
      "name": "Copy of Python01.ipynb",
      "provenance": [],
      "toc_visible": true
    },
    "kernelspec": {
      "name": "python3",
      "display_name": "Python 3"
    }
  },
  "cells": [
    {
      "cell_type": "markdown",
      "metadata": {
        "id": "bHIlw65UJh59",
        "colab_type": "text"
      },
      "source": [
        "# Introdução à Linguagem de Programação Python\n",
        "Python é uma linguagem de programação fácil de aprender, que possui uma leitura fácil e consequentemente uma fácil compreensão do seu código quando comparado a outras linguagens de programação. É utilizada em diversas universidades ao redor do mundo em cursos introdutórios à programação de computadores."
      ]
    },
    {
      "cell_type": "markdown",
      "metadata": {
        "id": "pH17PKkN6Tnk",
        "colab_type": "text"
      },
      "source": [
        "## Por que aprender a programar computadores?\n",
        "\n",
        "Programação promove a criatividade, o raciocínio e a solução de problemas. O programador tem a oportunidade de criar alguma coisa do nada, usando a lógica para construindo um programa que o computador pode executar e quando as coisas não funcionarem como esperado, ele pode usar a solução de problemas para descobrir o que deu errado. Programar é uma atividade divertida, às vezes desafiadora e ocasionalmente frustrante. As habilidades aprendidas com ela podem ser úteis tanto na escola como no trabalho, mesmo que sua carreira não tenha nada a ver com computadores."
      ]
    },
    {
      "cell_type": "markdown",
      "metadata": {
        "id": "molFxCf-Avgn",
        "colab_type": "text"
      },
      "source": [
        "##Como aprender a programar?\n",
        "\n",
        "Como qualquer coisa que você tenta pela primeira vez, é sempre melhor começar com o básico. \n",
        "Experimente cada um dos exemplos disponibilizados no curso, para que você possa ver como funcionam. Lembre-se de quando melhor você aprender o básico, mais fácil fica entender os conceitos mais complicados.\n",
        "\n",
        "Quando você achar alguma coisa frustrante ou muito difícil, tente isso:\n",
        "1. Divida o problema em partes menores. Tente entender o que um pequeno pedaço do código faz ou pense somente sobre pedaço difícil do código (tente se concentrar em uma pequena parte do código ao invés de tentar entender tudo de uma vez).\n",
        "2. Se isso não te ajudar, as vezes é melhor deixar de lado por um tempo e retomar em um outro momento.\n",
        "3. Lembre-se, aprender a programar é um maravilhoso exercício mental e os resultados podem ser muito gratificantes."
      ]
    },
    {
      "cell_type": "markdown",
      "metadata": {
        "id": "kj7XzKgmCGNg",
        "colab_type": "text"
      },
      "source": [
        "#Começando com Python\n",
        "Grande parte dos programadores, quando estavam aprendendo uma linguagem de programação, começaram com um \"Hello \n",
        "world!\". Basicamente, é uma trandição quando se está começando a conhecer uma linguagem de programação. \n",
        "Então, não vamos mudar está tradição."
      ]
    },
    {
      "cell_type": "code",
      "metadata": {
        "id": "W2rk4l6yCzO5",
        "colab_type": "code",
        "colab": {
          "base_uri": "https://localhost:8080/",
          "height": 34
        },
        "outputId": "37e58364-20e4-4538-ee73-2b87b579b4b2"
      },
      "source": [
        "print (\"Projeto Mentores - Linguagem de programação Python\")"
      ],
      "execution_count": null,
      "outputs": [
        {
          "output_type": "stream",
          "text": [
            "Projeto Mentores - Linguagem de programação Python\n"
          ],
          "name": "stdout"
        }
      ]
    },
    {
      "cell_type": "markdown",
      "metadata": {
        "id": "ff5KB-WODM3Y",
        "colab_type": "text"
      },
      "source": [
        "Se você executar está única linha de código, poderá ver na sua saída a mensagem que está entre aspas.\n",
        "Depois que você executar, mude o código do programa para que ele imprima a mensagem: \n",
        "*Projeto Mentores - Linguagem de programação Python para soluções de problemas*"
      ]
    },
    {
      "cell_type": "markdown",
      "metadata": {
        "id": "RNfKUIB4K5uq",
        "colab_type": "text"
      },
      "source": [
        "#Operações matemáticas básicas\n",
        "Python pode ser usado como uma calculadora, fazendo cálculos simples. Basta digitar uma expressão matemática e o Python realizará o cálculo para você. Você pode realizar **adições** e **subtrações** utilizando os operadores **“+”** e **“-”**.\n",
        "Vejamos alguns exemplos:"
      ]
    },
    {
      "cell_type": "code",
      "metadata": {
        "id": "q0arsyiEYzLY",
        "colab_type": "code",
        "colab": {
          "base_uri": "https://localhost:8080/",
          "height": 34
        },
        "outputId": "baf082a1-54a7-475e-8d60-f7efec6db953"
      },
      "source": [
        "1 + 3 "
      ],
      "execution_count": null,
      "outputs": [
        {
          "output_type": "execute_result",
          "data": {
            "text/plain": [
              "4"
            ]
          },
          "metadata": {
            "tags": []
          },
          "execution_count": 3
        }
      ]
    },
    {
      "cell_type": "code",
      "metadata": {
        "id": "dERPWR6qZHos",
        "colab_type": "code",
        "colab": {
          "base_uri": "https://localhost:8080/",
          "height": 34
        },
        "outputId": "5b036aa7-454e-48d6-f7d9-729771ab705d"
      },
      "source": [
        "4567 + 345"
      ],
      "execution_count": null,
      "outputs": [
        {
          "output_type": "execute_result",
          "data": {
            "text/plain": [
              "4912"
            ]
          },
          "metadata": {
            "tags": []
          },
          "execution_count": 4
        }
      ]
    },
    {
      "cell_type": "code",
      "metadata": {
        "id": "5EvVzdLVZKFT",
        "colab_type": "code",
        "colab": {
          "base_uri": "https://localhost:8080/",
          "height": 34
        },
        "outputId": "19fa9608-c5a2-4909-e652-42f5bc6fcc1c"
      },
      "source": [
        "827 - 27"
      ],
      "execution_count": null,
      "outputs": [
        {
          "output_type": "execute_result",
          "data": {
            "text/plain": [
              "800"
            ]
          },
          "metadata": {
            "tags": []
          },
          "execution_count": 5
        }
      ]
    },
    {
      "cell_type": "code",
      "metadata": {
        "id": "z17SDIDIZMH4",
        "colab_type": "code",
        "colab": {
          "base_uri": "https://localhost:8080/",
          "height": 34
        },
        "outputId": "58927054-6491-432e-bcb9-b0d2955f70bd"
      },
      "source": [
        "827 - 27 + 45"
      ],
      "execution_count": null,
      "outputs": [
        {
          "output_type": "execute_result",
          "data": {
            "text/plain": [
              "845"
            ]
          },
          "metadata": {
            "tags": []
          },
          "execution_count": 6
        }
      ]
    },
    {
      "cell_type": "markdown",
      "metadata": {
        "id": "3kcv3TxJZVEF",
        "colab_type": "text"
      },
      "source": [
        "**Dica:** Para resolver as questões proprostas, selecione a célula texto referente a questão e em seguida clique no botão **+Code**, localizado no topo esquerdo da barra de ferramentas. Será adicionado uma célula código, onde você deverá escrever o código para a resolução do problema.\n",
        "\n",
        "**Observação:** Os problemas a seguir foram retirados da apostila disponível no site da OBMEP, [Iniciação à Aritmética de Abramo Hefez](http://www.obmep.org.br/docs/apostila1.pdf).\n",
        "\n",
        "Agora, resolva esses problemas:"
      ]
    },
    {
      "cell_type": "markdown",
      "metadata": {
        "id": "OQMkUQd36HDJ",
        "colab_type": "text"
      },
      "source": [
        "#Exercício 1:\n",
        " Quantos números naturais existem maiores ou iguais a 37 e menores ou iguais a 72?"
      ]
    },
    {
      "cell_type": "code",
      "metadata": {
        "id": "ts-8o_aGRQG9",
        "colab_type": "code",
        "colab": {
          "base_uri": "https://localhost:8080/",
          "height": 34
        },
        "outputId": "837f3909-e031-4783-9668-9b3e9cc81988"
      },
      "source": [
        "72-37+1"
      ],
      "execution_count": null,
      "outputs": [
        {
          "output_type": "execute_result",
          "data": {
            "text/plain": [
              "36"
            ]
          },
          "metadata": {
            "tags": []
          },
          "execution_count": 13
        }
      ]
    },
    {
      "cell_type": "markdown",
      "metadata": {
        "id": "vZ7KnxyrbnYg",
        "colab_type": "text"
      },
      "source": [
        "#Exercício 2:\n",
        "Quantos números naturais existem em cada um dos intervalos (32, 75], [32, 75) e (32, 75)?"
      ]
    },
    {
      "cell_type": "code",
      "metadata": {
        "id": "0W498ZWDRRSd",
        "colab_type": "code",
        "colab": {
          "base_uri": "https://localhost:8080/",
          "height": 34
        },
        "outputId": "ae9004c1-2459-4671-9620-7c3f0852c85e"
      },
      "source": [
        "a = 75-32\n",
        "b = 75-32\n",
        "c = 75-32-1\n",
        "\n",
        "print(a,b,c)"
      ],
      "execution_count": null,
      "outputs": [
        {
          "output_type": "stream",
          "text": [
            "43 43 42\n"
          ],
          "name": "stdout"
        }
      ]
    },
    {
      "cell_type": "markdown",
      "metadata": {
        "id": "J0JkeAhsfoNF",
        "colab_type": "text"
      },
      "source": [
        "#Exercício 3:\n",
        "Descubra quantos múltiplos de 7 existem entre 14 e 7 000, inclusive."
      ]
    },
    {
      "cell_type": "code",
      "metadata": {
        "id": "-gj7FBf-RSD2",
        "colab_type": "code",
        "colab": {
          "base_uri": "https://localhost:8080/",
          "height": 34
        },
        "outputId": "b500d077-f368-4356-c776-e71238234314"
      },
      "source": [
        "7000/7 - 14/7 + 1"
      ],
      "execution_count": null,
      "outputs": [
        {
          "output_type": "execute_result",
          "data": {
            "text/plain": [
              "999.0"
            ]
          },
          "metadata": {
            "tags": []
          },
          "execution_count": 19
        }
      ]
    },
    {
      "cell_type": "markdown",
      "metadata": {
        "id": "5858lzJye0Jy",
        "colab_type": "text"
      },
      "source": [
        "Para multiplicar, use o operador de **multiplicação (*)**."
      ]
    },
    {
      "cell_type": "code",
      "metadata": {
        "id": "KENjEmfZe34l",
        "colab_type": "code",
        "colab": {
          "base_uri": "https://localhost:8080/",
          "height": 34
        },
        "outputId": "48b94a41-0644-40ed-8e54-5cde93c67ba6"
      },
      "source": [
        "3 * 2"
      ],
      "execution_count": null,
      "outputs": [
        {
          "output_type": "execute_result",
          "data": {
            "text/plain": [
              "6"
            ]
          },
          "metadata": {
            "tags": []
          },
          "execution_count": 20
        }
      ]
    },
    {
      "cell_type": "code",
      "metadata": {
        "id": "SjUT91r0e8kl",
        "colab_type": "code",
        "colab": {
          "base_uri": "https://localhost:8080/",
          "height": 34
        },
        "outputId": "9062df9a-7b81-4bb0-888c-392f6ce83e09"
      },
      "source": [
        "3.5 * 1.5"
      ],
      "execution_count": null,
      "outputs": [
        {
          "output_type": "execute_result",
          "data": {
            "text/plain": [
              "5.25"
            ]
          },
          "metadata": {
            "tags": []
          },
          "execution_count": 21
        }
      ]
    },
    {
      "cell_type": "markdown",
      "metadata": {
        "id": "rOFdM8urfG5X",
        "colab_type": "text"
      },
      "source": [
        "Agora, resolva esses problemas:\n",
        "#Exercício 4:\n",
        " Quantos números naturais existem maiores ou iguais a 37 e menores ou iguais a 72?"
      ]
    },
    {
      "cell_type": "code",
      "metadata": {
        "id": "sJ18WiV5cryO",
        "colab_type": "code",
        "colab": {
          "base_uri": "https://localhost:8080/",
          "height": 34
        },
        "outputId": "d9bd4c86-09a9-4b5f-84bf-b68b88ec6109"
      },
      "source": [
        "72-37+1"
      ],
      "execution_count": null,
      "outputs": [
        {
          "output_type": "execute_result",
          "data": {
            "text/plain": [
              "36"
            ]
          },
          "metadata": {
            "tags": []
          },
          "execution_count": 23
        }
      ]
    },
    {
      "cell_type": "markdown",
      "metadata": {
        "id": "R1XOYNebfIYN",
        "colab_type": "text"
      },
      "source": [
        "#Exercício 5: \n",
        "Considere dois múltiplos de um mesmo número natural, por exemplo 6 × 12 e 3 × 12, qual é o resultado da soma desses dois números?"
      ]
    },
    {
      "cell_type": "code",
      "metadata": {
        "id": "cqULsBf3RUA6",
        "colab_type": "code",
        "colab": {
          "base_uri": "https://localhost:8080/",
          "height": 34
        },
        "outputId": "89164edc-3507-44d1-9cd5-f4fb14456414"
      },
      "source": [
        "12*9"
      ],
      "execution_count": null,
      "outputs": [
        {
          "output_type": "execute_result",
          "data": {
            "text/plain": [
              "108"
            ]
          },
          "metadata": {
            "tags": []
          },
          "execution_count": 24
        }
      ]
    },
    {
      "cell_type": "markdown",
      "metadata": {
        "id": "AXbVg6wn9mBL",
        "colab_type": "text"
      },
      "source": [
        "Para dividir, use o operador de **divisão (/)**."
      ]
    },
    {
      "cell_type": "code",
      "metadata": {
        "id": "nbqZxiZY9vYU",
        "colab_type": "code",
        "colab": {
          "base_uri": "https://localhost:8080/",
          "height": 34
        },
        "outputId": "a62395d6-1fdf-412c-ba8b-d7f17fba3ec5"
      },
      "source": [
        "3 / 2"
      ],
      "execution_count": null,
      "outputs": [
        {
          "output_type": "execute_result",
          "data": {
            "text/plain": [
              "1.5"
            ]
          },
          "metadata": {
            "tags": []
          },
          "execution_count": 25
        }
      ]
    },
    {
      "cell_type": "code",
      "metadata": {
        "id": "cnRrVZd69zTQ",
        "colab_type": "code",
        "colab": {
          "base_uri": "https://localhost:8080/",
          "height": 34
        },
        "outputId": "999468a6-816f-4370-cc92-425770604e4a"
      },
      "source": [
        "4 / 2"
      ],
      "execution_count": null,
      "outputs": [
        {
          "output_type": "execute_result",
          "data": {
            "text/plain": [
              "2.0"
            ]
          },
          "metadata": {
            "tags": []
          },
          "execution_count": 26
        }
      ]
    },
    {
      "cell_type": "markdown",
      "metadata": {
        "id": "DcbKxRUf-h9E",
        "colab_type": "text"
      },
      "source": [
        "Como você pode ver, quando pedimos ao Python para realizar uma divisão, ele retorna a parti fracionada dos números. Se você quiser que o resultado seja um inteiro, com qualquer valor decimal removido, você pode usar o operador **parte inteira (//)**.\n"
      ]
    },
    {
      "cell_type": "code",
      "metadata": {
        "id": "qaUXjjv8-jcJ",
        "colab_type": "code",
        "colab": {
          "base_uri": "https://localhost:8080/",
          "height": 34
        },
        "outputId": "7bf77684-8272-4509-eb2b-519bb5634530"
      },
      "source": [
        "3 // 2"
      ],
      "execution_count": null,
      "outputs": [
        {
          "output_type": "execute_result",
          "data": {
            "text/plain": [
              "1"
            ]
          },
          "metadata": {
            "tags": []
          },
          "execution_count": 27
        }
      ]
    },
    {
      "cell_type": "markdown",
      "metadata": {
        "id": "20FfWGOa_m_f",
        "colab_type": "text"
      },
      "source": [
        "O operador **parte inteira** divide o primeiro número pelo segundo número e arredonda para baixo o resultado. Isto fica interessante quando um dos números é negativo. Por exemplo: "
      ]
    },
    {
      "cell_type": "code",
      "metadata": {
        "id": "M3wEcoJ1AAtK",
        "colab_type": "code",
        "colab": {
          "base_uri": "https://localhost:8080/",
          "height": 34
        },
        "outputId": "dc5884d2-1d64-4ad3-91cb-30e32e7fc66a"
      },
      "source": [
        "-3 // 2"
      ],
      "execution_count": null,
      "outputs": [
        {
          "output_type": "execute_result",
          "data": {
            "text/plain": [
              "-2"
            ]
          },
          "metadata": {
            "tags": []
          },
          "execution_count": 28
        }
      ]
    },
    {
      "cell_type": "markdown",
      "metadata": {
        "id": "7t04bpEsAm10",
        "colab_type": "text"
      },
      "source": [
        "Agora, se você quiser o resto de uma divisão é só usar o operador **módulo (%)**."
      ]
    },
    {
      "cell_type": "code",
      "metadata": {
        "id": "SzGH5H5XAsMx",
        "colab_type": "code",
        "colab": {
          "base_uri": "https://localhost:8080/",
          "height": 34
        },
        "outputId": "8a53ca85-3f6d-4ab6-fbae-f24b995a7da9"
      },
      "source": [
        "9 % 2"
      ],
      "execution_count": null,
      "outputs": [
        {
          "output_type": "execute_result",
          "data": {
            "text/plain": [
              "1"
            ]
          },
          "metadata": {
            "tags": []
          },
          "execution_count": 29
        }
      ]
    },
    {
      "cell_type": "markdown",
      "metadata": {
        "id": "R_60hUwwBGQf",
        "colab_type": "text"
      },
      "source": [
        "Para calcular o valor exponencial de um número, use o operador de **exponenciação ($**$)**."
      ]
    },
    {
      "cell_type": "code",
      "metadata": {
        "id": "7DVe6WztBx5p",
        "colab_type": "code",
        "colab": {
          "base_uri": "https://localhost:8080/",
          "height": 34
        },
        "outputId": "6229e163-c8c8-4c05-8ee1-1568a00554e2"
      },
      "source": [
        "2 ** 2"
      ],
      "execution_count": null,
      "outputs": [
        {
          "output_type": "execute_result",
          "data": {
            "text/plain": [
              "4"
            ]
          },
          "metadata": {
            "tags": []
          },
          "execution_count": 30
        }
      ]
    },
    {
      "cell_type": "code",
      "metadata": {
        "id": "-Ok7qZujB0Cz",
        "colab_type": "code",
        "colab": {
          "base_uri": "https://localhost:8080/",
          "height": 34
        },
        "outputId": "aeb1d7a8-e7a6-4c0a-e826-392965c4cf97"
      },
      "source": [
        "2 ** 10"
      ],
      "execution_count": null,
      "outputs": [
        {
          "output_type": "execute_result",
          "data": {
            "text/plain": [
              "1024"
            ]
          },
          "metadata": {
            "tags": []
          },
          "execution_count": 31
        }
      ]
    },
    {
      "cell_type": "markdown",
      "metadata": {
        "id": "qJyvVC6CCqzw",
        "colab_type": "text"
      },
      "source": [
        "Podemos usar o operador de exponenciação para calcular uma exponenciação de um número elevado a um valor menor do que 1.\n",
        "Por exemplo, para calcular a raiz quadrada de n, podemos ter a expressão $n^{\\frac {1}{2}}$ e a raiz cúbica como $n^{\\frac{1}{3}}$."
      ]
    },
    {
      "cell_type": "code",
      "metadata": {
        "id": "CzZs3h-vJt0n",
        "colab_type": "code",
        "colab": {
          "base_uri": "https://localhost:8080/",
          "height": 34
        },
        "outputId": "6138b5a0-80ba-4e79-9f34-74a2f6dae19a"
      },
      "source": [
        "4 ** (1/2)"
      ],
      "execution_count": null,
      "outputs": [
        {
          "output_type": "execute_result",
          "data": {
            "text/plain": [
              "2.0"
            ]
          },
          "metadata": {
            "tags": []
          },
          "execution_count": 32
        }
      ]
    },
    {
      "cell_type": "code",
      "metadata": {
        "id": "ne5bXJgCJylC",
        "colab_type": "code",
        "colab": {
          "base_uri": "https://localhost:8080/",
          "height": 34
        },
        "outputId": "f774f9e9-6a97-4387-ff7d-ad96e92f27ab"
      },
      "source": [
        "8 ** (1/3)"
      ],
      "execution_count": null,
      "outputs": [
        {
          "output_type": "execute_result",
          "data": {
            "text/plain": [
              "2.0"
            ]
          },
          "metadata": {
            "tags": []
          },
          "execution_count": 33
        }
      ]
    },
    {
      "cell_type": "markdown",
      "metadata": {
        "id": "nO7BGPsTLWz3",
        "colab_type": "text"
      },
      "source": [
        "Como mostra o exemplo acima, você pode usar parênteses para combinar operações matemáticas dentro de uma expressão complicada. O Python calculará a expressão seguindo as regras do padrão PEMDAS para ordenar os cálculos – parênteses, expoentes, multiplicação, divisão, adição e subtração. Observe a seguinte expressão – com e sem parênteses:"
      ]
    },
    {
      "cell_type": "code",
      "metadata": {
        "id": "-WwhWRW0LcvS",
        "colab_type": "code",
        "colab": {
          "base_uri": "https://localhost:8080/",
          "height": 34
        },
        "outputId": "fa05eaab-2dc1-4c4f-a7f7-52ad3d0c985e"
      },
      "source": [
        "5 + 5 * 5"
      ],
      "execution_count": null,
      "outputs": [
        {
          "output_type": "execute_result",
          "data": {
            "text/plain": [
              "30"
            ]
          },
          "metadata": {
            "tags": []
          },
          "execution_count": 34
        }
      ]
    },
    {
      "cell_type": "code",
      "metadata": {
        "id": "htCOlauqL4dD",
        "colab_type": "code",
        "colab": {
          "base_uri": "https://localhost:8080/",
          "height": 34
        },
        "outputId": "57487f22-88d6-403e-89de-282a50d105cf"
      },
      "source": [
        "(5 + 5) * 5"
      ],
      "execution_count": null,
      "outputs": [
        {
          "output_type": "execute_result",
          "data": {
            "text/plain": [
              "50"
            ]
          },
          "metadata": {
            "tags": []
          },
          "execution_count": 35
        }
      ]
    },
    {
      "cell_type": "markdown",
      "metadata": {
        "id": "NnvC-sWokWO_",
        "colab_type": "text"
      },
      "source": [
        "##Operadores aritméticos\n",
        "\n",
        "Operação| Operador\n",
        "--- | ---\n",
        "Adição | **+**\n",
        "Subtração | **-**\n",
        "Multiplicação | **\\***\n",
        "Divisão | **/**\n",
        "Exponenciação | **\\****\n",
        "Parte inteira | **\\\\\\**\n",
        "Módulo | **%**"
      ]
    },
    {
      "cell_type": "markdown",
      "metadata": {
        "id": "D6p6Z0Y1wj6L",
        "colab_type": "text"
      },
      "source": [
        "#Expressões: Regra de precedência\n",
        "1. Expressões entre parêntes\n",
        "2. Exponenciação\n",
        "3. Multiplicação, divisão e módulo(*)\n",
        "4. Adição e subtração (*)\n",
        "\n",
        "\\* Ocorre da esquerda para a direita\n",
        "\n",
        "\n"
      ]
    },
    {
      "cell_type": "markdown",
      "metadata": {
        "id": "hw6ovABjUvnH",
        "colab_type": "text"
      },
      "source": [
        "#Exercício 6:\n",
        "Calcule a seguinte expresão: \n",
        "\n",
        "1 + 2 * 3"
      ]
    },
    {
      "cell_type": "code",
      "metadata": {
        "id": "ocbOmUUCdBxj",
        "colab_type": "code",
        "colab": {
          "base_uri": "https://localhost:8080/",
          "height": 34
        },
        "outputId": "6c1beba4-b4e2-4cb3-8735-87bcc5ab3462"
      },
      "source": [
        "1+2*3"
      ],
      "execution_count": null,
      "outputs": [
        {
          "output_type": "execute_result",
          "data": {
            "text/plain": [
              "7"
            ]
          },
          "metadata": {
            "tags": []
          },
          "execution_count": 36
        }
      ]
    },
    {
      "cell_type": "markdown",
      "metadata": {
        "id": "XoiIjI3iW2bO",
        "colab_type": "text"
      },
      "source": [
        "#Exercício 7:\n",
        "Calcule a seguinte expresão: \n",
        "\n",
        "$\\frac {3 * 5 - 2}{5}$\n"
      ]
    },
    {
      "cell_type": "code",
      "metadata": {
        "id": "SVO20ahCdD3z",
        "colab_type": "code",
        "colab": {
          "base_uri": "https://localhost:8080/",
          "height": 34
        },
        "outputId": "71277d2b-88c8-4804-e70a-8d2e6cebffef"
      },
      "source": [
        "(3*5-2)/5"
      ],
      "execution_count": null,
      "outputs": [
        {
          "output_type": "execute_result",
          "data": {
            "text/plain": [
              "2.6"
            ]
          },
          "metadata": {
            "tags": []
          },
          "execution_count": 37
        }
      ]
    },
    {
      "cell_type": "markdown",
      "metadata": {
        "id": "6nAL5j28ayep",
        "colab_type": "text"
      },
      "source": [
        "#Exercício 8:\n",
        "Calcule a seguinte expresão: \n",
        "\n",
        "$\\frac{357,85 + 5,12}{200 - 6,2 * 5}$ "
      ]
    },
    {
      "cell_type": "code",
      "metadata": {
        "id": "30b1LWDhdF41",
        "colab_type": "code",
        "colab": {
          "base_uri": "https://localhost:8080/",
          "height": 34
        },
        "outputId": "14a2a987-2185-47cb-c233-e47ea0d96ef9"
      },
      "source": [
        "(357.85-5.12)/(200-6.2*5)"
      ],
      "execution_count": null,
      "outputs": [
        {
          "output_type": "execute_result",
          "data": {
            "text/plain": [
              "2.0871597633136094"
            ]
          },
          "metadata": {
            "tags": []
          },
          "execution_count": 38
        }
      ]
    },
    {
      "cell_type": "markdown",
      "metadata": {
        "id": "FpEHF9jme0Kb",
        "colab_type": "text"
      },
      "source": [
        "#Exercício 9:\n",
        "Quais desses valores são múltiplos de 157?\n",
        "5751, 7379, 3103, 7520, 6028, 8780, 1056, 1050, 1256, 7222, 5846, 8380, 1884, 3413, 4867"
      ]
    },
    {
      "cell_type": "code",
      "metadata": {
        "id": "s7ne3PU-dJzs",
        "colab_type": "code",
        "colab": {
          "base_uri": "https://localhost:8080/",
          "height": 34
        },
        "outputId": "5ce3b358-35c0-4674-fdb0-0653c1d03b86"
      },
      "source": [
        "def mod_157(x):\n",
        "            return x % 157\n",
        "\n",
        "\n",
        "mylis = [5751, 7379, 3103, 7520, 6028, 8780, 1056,\n",
        "         1050, 1256, 7222, 5846, 8380, 1884, 3413, 4867]\n",
        "\n",
        "\n",
        "[mod_157(x) for x in mylis] \n",
        "\n",
        "\n",
        "\n",
        "\n",
        "\n",
        "\n"
      ],
      "execution_count": null,
      "outputs": [
        {
          "output_type": "execute_result",
          "data": {
            "text/plain": [
              "[99, 0, 120, 141, 62, 145, 114, 108, 0, 0, 37, 59, 0, 116, 0]"
            ]
          },
          "metadata": {
            "tags": []
          },
          "execution_count": 66
        }
      ]
    },
    {
      "cell_type": "code",
      "metadata": {
        "id": "7Hl-mopcwdae",
        "colab_type": "code",
        "colab": {
          "base_uri": "https://localhost:8080/",
          "height": 197
        },
        "outputId": "272339e1-0e89-4fcf-cd35-fe3b21558e76"
      },
      "source": [
        "import rpy2.robjects as robjects\n",
        "\n",
        "c <- 1\n"
      ],
      "execution_count": null,
      "outputs": [
        {
          "output_type": "error",
          "ename": "NameError",
          "evalue": "ignored",
          "traceback": [
            "\u001b[0;31m---------------------------------------------------------------------------\u001b[0m",
            "\u001b[0;31mNameError\u001b[0m                                 Traceback (most recent call last)",
            "\u001b[0;32m<ipython-input-16-c8b1f3e997f3>\u001b[0m in \u001b[0;36m<module>\u001b[0;34m()\u001b[0m\n\u001b[1;32m      1\u001b[0m \u001b[0;32mimport\u001b[0m \u001b[0mrpy2\u001b[0m\u001b[0;34m.\u001b[0m\u001b[0mrobjects\u001b[0m \u001b[0;32mas\u001b[0m \u001b[0mrobjects\u001b[0m\u001b[0;34m\u001b[0m\u001b[0;34m\u001b[0m\u001b[0m\n\u001b[1;32m      2\u001b[0m \u001b[0;34m\u001b[0m\u001b[0m\n\u001b[0;32m----> 3\u001b[0;31m \u001b[0mc\u001b[0m \u001b[0;34m<\u001b[0m\u001b[0;34m-\u001b[0m \u001b[0;36m1\u001b[0m\u001b[0;34m\u001b[0m\u001b[0;34m\u001b[0m\u001b[0m\n\u001b[0m",
            "\u001b[0;31mNameError\u001b[0m: name 'c' is not defined"
          ]
        }
      ]
    },
    {
      "cell_type": "markdown",
      "metadata": {
        "id": "f3q78uk0weMj",
        "colab_type": "text"
      },
      "source": [
        ""
      ]
    }
  ]
}