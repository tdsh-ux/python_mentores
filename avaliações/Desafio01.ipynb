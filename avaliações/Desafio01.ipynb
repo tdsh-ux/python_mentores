{
  "nbformat": 4,
  "nbformat_minor": 0,
  "metadata": {
    "colab": {
      "name": "Copy of Desafio01.ipynb",
      "provenance": []
    },
    "kernelspec": {
      "name": "python3",
      "display_name": "Python 3"
    }
  },
  "cells": [
    {
      "cell_type": "markdown",
      "metadata": {
        "id": "K8_WmaN12YAU",
        "colab_type": "text"
      },
      "source": [
        "#DESAFIO 01\n",
        "\n",
        "\n",
        "1. Para qualquer número inteiro positivo n, como podemos descobrir todos os seus fatores positivos? \n",
        "\n",
        "  Escreva um programa que receba um número e determine seus fatores. O programa deverá receber um número inteiro de entrada e exibir na saída os fatores desse número. Faça o tratamento de erros.\n",
        "\n",
        "\n",
        "\n"
      ]
    },
    {
      "cell_type": "code",
      "metadata": {
        "id": "GaXPQGJ0FwA3",
        "colab_type": "code",
        "colab": {
          "base_uri": "https://localhost:8080/",
          "height": 68
        },
        "outputId": "34534c14-d081-4c1a-e6da-f6aaae8dea7b"
      },
      "source": [
        "try:\n",
        "  n = int(input(\"Insira um número inteiro: \", ))\n",
        "except ValueError:\n",
        "  print(\"Veja qualquer livro de aritmética.\")\n",
        "\n",
        "print(\"Os divisores positivos de seu número são:\")\n",
        "for i in range(1, n+1):\n",
        "  if(n % i == 0):\n",
        "    print(i, end = \", \")"
      ],
      "execution_count": null,
      "outputs": [
        {
          "output_type": "stream",
          "text": [
            "Insira um número inteiro: 123456789\n",
            "Os divisores potivios de seu número são:\n",
            "1, 3, 9, 3607, 3803, 10821, 11409, 32463, 34227, 13717421, 41152263, 123456789, "
          ],
          "name": "stdout"
        }
      ]
    },
    {
      "cell_type": "markdown",
      "metadata": {
        "id": "Oio3CNpxJtSl",
        "colab_type": "text"
      },
      "source": [
        "2. Escreva uma função raízes que receba como parâmetros a, b e c e retorne as raízes de uma equação quadrática. Faça o tratamento de erros."
      ]
    },
    {
      "cell_type": "code",
      "metadata": {
        "id": "bnSeOZ_lGv4o",
        "colab_type": "code",
        "colab": {
          "base_uri": "https://localhost:8080/",
          "height": 102
        },
        "outputId": "bafd18a5-486e-469a-b730-9c13825aebff"
      },
      "source": [
        "def delta(a,b,c):\n",
        "  return b**2 - 4*a*c\n",
        "def root(a,b,c):\n",
        "  print(\"As raízes de são \", [(-b + delta(a,b,c)**0.5)/(2*a),\n",
        "          (-b - delta(a,b,c)**0.5)/(2*a)], \".\", sep = \"\")\n",
        "\n",
        "try:\n",
        "  print(\"Escreva os coeficientes reais da equação ax^2 + bx + c =0\")\n",
        "  a = float(input(\"a = \",))\n",
        "  b = float(input(\"b = \",))\n",
        "  c = float(input(\"c = \",))\n",
        "  root(a,b,c)\n",
        "except ValueError:\n",
        "  print(\"Philip Dick questionou a realidade; Hawking a descreveu. Você só precisa digitar um número real.\")"
      ],
      "execution_count": null,
      "outputs": [
        {
          "output_type": "stream",
          "text": [
            "Escreva os coeficientes reais da equação ax^2 + bx + c =0\n",
            "a = 8\n",
            "b = -15\n",
            "c = -17\n",
            "As raízes de são [2.670678077982756, -0.7956780779827559].\n"
          ],
          "name": "stdout"
        }
      ]
    },
    {
      "cell_type": "markdown",
      "metadata": {
        "id": "ca8I4UcVJxxr",
        "colab_type": "text"
      },
      "source": [
        "3. Crie uma função que recebe uma sequência L de valores e retorna uma lista contendo a diferença entre valores consecutivos de L.\n",
        "\n",
        "  Exemplo:\n",
        "\n",
        "  diferencas([1, 2, 5, 7, 9, 8]) [1, 3, 2, 2, -1]\n",
        "\n",
        "  diferencas([18, 5, 9, 10, 30]) [-13, 4, 1, 20]\n",
        "\n",
        "  diferencas([7, 8, 8, 8, 9, 9, 3, 3, 3]) [1, 0, 0, 1, 0, -6, 0, 0]"
      ]
    },
    {
      "cell_type": "code",
      "metadata": {
        "id": "9t7oE1VoKLpZ",
        "colab_type": "code",
        "colab": {
          "base_uri": "https://localhost:8080/",
          "height": 68
        },
        "outputId": "414a3d7f-270c-41a6-c37f-360071d83a3a"
      },
      "source": [
        "def diferencas(x):\n",
        "  dif = []\n",
        "  for i in range(1, len(x)):\n",
        "    dif.append(x[i] - x[i-1])\n",
        "  return dif\n",
        "\n",
        "#Teste da função:\n",
        "print(\"\", \n",
        "diferencas([1, 2, 5, 7, 9, 8]), \"\\n\",\n",
        "diferencas([18, 5, 9, 10, 30]), \"\\n\",\n",
        "diferencas([7, 8, 8, 8, 9, 9, 3, 3, 3]))\n",
        "\n",
        "\n",
        "\n"
      ],
      "execution_count": null,
      "outputs": [
        {
          "output_type": "stream",
          "text": [
            " [1, 3, 2, 2, -1] \n",
            " [-13, 4, 1, 20] \n",
            " [1, 0, 0, 1, 0, -6, 0, 0]\n"
          ],
          "name": "stdout"
        }
      ]
    }
  ]
}
