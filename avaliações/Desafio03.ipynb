{
  "nbformat": 4,
  "nbformat_minor": 0,
  "metadata": {
    "colab": {
      "name": "Copy of Desafio03.ipynb",
      "provenance": []
    },
    "kernelspec": {
      "name": "python3",
      "display_name": "Python 3"
    }
  },
  "cells": [
    {
      "cell_type": "markdown",
      "metadata": {
        "id": "_x9YnmZRFrYg",
        "colab_type": "text"
      },
      "source": [
        "#Desafio 03\n",
        "\n",
        "1. Vamos imaginar que você participou de uma campanha de doação para ajudar alunos que não tem dinheiro para comprar o material escolar. Você recolheu valores de algumas pessoas e registrou em um caderno. Agora, vamos calcular a mediana desses valores.\n",
        "\n",
        "  Primeiro, crie uma lista com os valores: 100, 60, 70, 900, 100, 200, 500, 500, 503, 600, 1000 e 1200.\n",
        "\n",
        "  Escreva um programa que tenha uma função que calcule a mediana de um conjunto de valores e retorne seu valor na saída.\n",
        "\n",
        "2. Para votar, cinco eleitores demoraram, respectivamente, 3min 38s, 3min 18s, 2min 46s, 2min 57s e 3min 26s. Escreva um programa que receba como entrada o tempo de cada eleitor, adicione essa entrada em uma lista e calcule o tempo médio de votação, retornando o resultado em minutos e também em segundos. Calcule também a mediana do tempo de votação."
      ]
    },
    {
      "cell_type": "code",
      "metadata": {
        "id": "vzfEX39ywiqx",
        "colab_type": "code",
        "colab": {
          "base_uri": "https://localhost:8080/",
          "height": 34
        },
        "outputId": "d6f71aac-242b-4436-aa49-2759dacfbf08"
      },
      "source": [
        "valores = [100, 60, 70, 900, 100, 200, 500, 500, 503, 600, 1000, 1200]\n",
        "\n",
        "def ordenar(lista):\n",
        "  listaordenada = []\n",
        "  while len(lista) != 0:\n",
        "    posicao = lista.index(min(lista))\n",
        "    listaordenada.append(lista.pop(posicao))\n",
        "  return listaordenada\n",
        "\n",
        "def mediana(lista):\n",
        "  listaordenada = ordenar(lista)\n",
        "  if len(listaordenada) % 2 == 0:\n",
        "    mediana = .5 * (listaordenada[len(listaordenada) // 2 - 1] + listaordenada[len(listaordenada) // 2])\n",
        "    return mediana\n",
        "  if len(listaordenada) % 2 != 0:\n",
        "    mediana = listaordenada[(len(listaordenada) - 1)// 2]\n",
        "    return mediana\n",
        "  \n",
        "mediana(valores)"
      ],
      "execution_count": null,
      "outputs": [
        {
          "output_type": "execute_result",
          "data": {
            "text/plain": [
              "500.0"
            ]
          },
          "metadata": {
            "tags": []
          },
          "execution_count": 31
        }
      ]
    },
    {
      "cell_type": "code",
      "metadata": {
        "id": "0Cytlhs_zG1u",
        "colab_type": "code",
        "colab": {
          "base_uri": "https://localhost:8080/",
          "height": 168
        },
        "outputId": "7bc5b4c5-25d9-4106-87a5-03beb3c2bbb1"
      },
      "source": [
        "def round(num):\n",
        "  if num - num//1 > .5:\n",
        "    num = num//1 + 1\n",
        "  else:\n",
        "    num = num//1\n",
        "  return num\n",
        "\n",
        "def segundos_to_minutos(tempo):\n",
        "  minutos = int(tempo//60)\n",
        "  segundos = int(round(tempo - 60 * minutos))\n",
        "  return minutos, segundos\n",
        "  \n",
        "\n",
        "def sufragio():\n",
        "  numero_eleitores = int(input(\"Quantos eleitores exercerão seu indelével direito à democracia hoje? \"))\n",
        "  print(\"Adicione o tempo que eles dedicaram a seu escrutínio democrático (e.g., 2.45 = 2min45s): \")\n",
        "  tempo_sufragio = []\n",
        "\n",
        "  for eleitores in range(numero_eleitores):\n",
        "    tempo = float(input())\n",
        "    while tempo - tempo//1 > 0.59:\n",
        "      print(\"A escala de tempo humana, utilizada nesse sistema - e, se o mundo segue as normas de antes de março, de muitos outros - não permite suas digitações.\")\n",
        "      tempo = float(input())\n",
        "    tempo_sufragio.append(tempo)\n",
        "  \n",
        "  sufragio_segundos = []\n",
        "  for tempo in tempo_sufragio:\n",
        "    minutos = tempo//1\n",
        "    segundos = (tempo - tempo//1)*100\n",
        "    sufragio_segundos.append(minutos * 60 + segundos)\n",
        "  \n",
        "  media = segundos_to_minutos(sum(sufragio_segundos)/len(sufragio_segundos))\n",
        "  median = segundos_to_minutos(mediana(sufragio_segundos))\n",
        "  print(f\"A média dos tempos investidos em atividades democraticamente veneráveis foi {media[0]}min {media[1]}s; a mediana, {median[0]}min {median[1]}s.\")\n",
        "  return media\n",
        "  \n",
        "\n",
        "sufragio()\n",
        "\n",
        "\n"
      ],
      "execution_count": null,
      "outputs": [
        {
          "output_type": "stream",
          "text": [
            "Quantos eleitores exercerão seu indelével direito à democracia hoje? 5\n",
            "Adicione o tempo que eles dedicaram a seu escrutínio democrático (e.g., 2.45 = 2min45s): \n",
            "3.38\n",
            "3.18\n",
            "2.46\n",
            "2.57\n",
            "3.26\n",
            "A média dos tempos investidos em atividades democraticamente veneráveis foi 3min 13s; a mediana, 3min 18s.\n"
          ],
          "name": "stdout"
        },
        {
          "output_type": "execute_result",
          "data": {
            "text/plain": [
              "(3, 13)"
            ]
          },
          "metadata": {
            "tags": []
          },
          "execution_count": 34
        }
      ]
    }
  ]
}
