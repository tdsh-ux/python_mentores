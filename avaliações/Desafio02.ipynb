{
  "nbformat": 4,
  "nbformat_minor": 0,
  "metadata": {
    "colab": {
      "name": "Copy of Desafio02.ipynb",
      "provenance": []
    },
    "kernelspec": {
      "name": "python3",
      "display_name": "Python 3"
    }
  },
  "cells": [
    {
      "cell_type": "markdown",
      "metadata": {
        "id": "JHpjfsLmeqlf",
        "colab_type": "text"
      },
      "source": [
        "#Desafio 02\n",
        "1. Implemente uma função que calcule o mdc entre dois números, usando o algoritmo de Euclides. Faça chamadas à função.\n",
        "\n",
        "\n",
        "2. Crie uma função que recebe um número inteiro n e retorna uma lista contendo n valores entre 0.0 e 1.0, igualmente espaçados.\n",
        "\n",
        "  Exemplo:\n",
        "\n",
        "  Sequência(3) [0.0, 0.5, 1.0]\n",
        "\n",
        "  Sequência(6) [0.0, 0.2, 0.4, 0.6, 0.8, 1.0]\n",
        "\n",
        "  Sequência(20) [0.0, 0.05263157894736842, 0.10526315789473684, 0.15789473684210525, 0.21052631578947367, 0.2631578947368421, 0.3157894736842105, 0.3684210526315789, 0.42105263157894735, 0.47368421052631576, 0.5263157894736842, 0.5789473684210527, 0.631578947368421, 0.6842105263157895, 0.7368421052631579, 0.7894736842105263, 0.8421052631578947, 0.8947368421052632, 0.9473684210526315, 1.0]"
      ]
    },
    {
      "cell_type": "code",
      "metadata": {
        "id": "tKBrksMASm3S",
        "colab_type": "code",
        "colab": {
          "base_uri": "https://localhost:8080/",
          "height": 974
        },
        "outputId": "a8915a00-92b5-4d35-8c22-893809d9ebcb"
      },
      "source": [
        "def mdc(a,b):\n",
        "  while (a != 0) and (b != 0):   #Enquanto a e b forem não nulos, iteramos o algoritmo de Euclides.\n",
        "    if a < b:\n",
        "      b = b % a\n",
        "    else:\n",
        "      a = a % b\n",
        "  return max(a,b)\n",
        "\n",
        "for i in range(1, 18):\n",
        "  for j in range(1, i + 1):\n",
        "    if mdc(i,j) != 1:\n",
        "      print(f\"mdc({i},{j}) = {mdc(i,j)}\", end = \"\\n\")"
      ],
      "execution_count": null,
      "outputs": [
        {
          "output_type": "stream",
          "text": [
            "mdc(2,2) = 2\n",
            "mdc(3,3) = 3\n",
            "mdc(4,2) = 2\n",
            "mdc(4,4) = 4\n",
            "mdc(5,5) = 5\n",
            "mdc(6,2) = 2\n",
            "mdc(6,3) = 3\n",
            "mdc(6,4) = 2\n",
            "mdc(6,6) = 6\n",
            "mdc(7,7) = 7\n",
            "mdc(8,2) = 2\n",
            "mdc(8,4) = 4\n",
            "mdc(8,6) = 2\n",
            "mdc(8,8) = 8\n",
            "mdc(9,3) = 3\n",
            "mdc(9,6) = 3\n",
            "mdc(9,9) = 9\n",
            "mdc(10,2) = 2\n",
            "mdc(10,4) = 2\n",
            "mdc(10,5) = 5\n",
            "mdc(10,6) = 2\n",
            "mdc(10,8) = 2\n",
            "mdc(10,10) = 10\n",
            "mdc(11,11) = 11\n",
            "mdc(12,2) = 2\n",
            "mdc(12,3) = 3\n",
            "mdc(12,4) = 4\n",
            "mdc(12,6) = 6\n",
            "mdc(12,8) = 4\n",
            "mdc(12,9) = 3\n",
            "mdc(12,10) = 2\n",
            "mdc(12,12) = 12\n",
            "mdc(13,13) = 13\n",
            "mdc(14,2) = 2\n",
            "mdc(14,4) = 2\n",
            "mdc(14,6) = 2\n",
            "mdc(14,7) = 7\n",
            "mdc(14,8) = 2\n",
            "mdc(14,10) = 2\n",
            "mdc(14,12) = 2\n",
            "mdc(14,14) = 14\n",
            "mdc(15,3) = 3\n",
            "mdc(15,5) = 5\n",
            "mdc(15,6) = 3\n",
            "mdc(15,9) = 3\n",
            "mdc(15,10) = 5\n",
            "mdc(15,12) = 3\n",
            "mdc(15,15) = 15\n",
            "mdc(16,2) = 2\n",
            "mdc(16,4) = 4\n",
            "mdc(16,6) = 2\n",
            "mdc(16,8) = 8\n",
            "mdc(16,10) = 2\n",
            "mdc(16,12) = 4\n",
            "mdc(16,14) = 2\n",
            "mdc(16,16) = 16\n",
            "mdc(17,17) = 17\n"
          ],
          "name": "stdout"
        }
      ]
    },
    {
      "cell_type": "code",
      "metadata": {
        "id": "vIA0O6UDUvgR",
        "colab_type": "code",
        "colab": {
          "base_uri": "https://localhost:8080/",
          "height": 34
        },
        "outputId": "16fdda9b-1b0b-43f3-9db2-8fd50473fc4a"
      },
      "source": [
        "def uniform_partition(n):\n",
        "  partition = []\n",
        "  for i in range(0, n):\n",
        "    partition.append(i/(n-1))\n",
        "  return partition\n",
        "\n",
        "#Testando a função:\n",
        "if(uniform_partition(3) == [0.0, 0.5, 1.0] and\n",
        "   uniform_partition(6) == [0.0, 0.2, 0.4, 0.6, 0.8, 1.0] and\n",
        "   uniform_partition(20) == [0.0, 0.05263157894736842, 0.10526315789473684, 0.15789473684210525, 0.21052631578947367, 0.2631578947368421, \n",
        "                             0.3157894736842105, 0.3684210526315789, 0.42105263157894735, 0.47368421052631576, 0.5263157894736842, \n",
        "                             0.5789473684210527, 0.631578947368421, 0.6842105263157895, 0.7368421052631579, 0.7894736842105263, 0.8421052631578947, \n",
        "                             0.8947368421052632, 0.9473684210526315, 1.0]):\n",
        "  print(\"Ora, a função funciona! Ou será só um trocadilho?\")\n",
        "else:\n",
        "  print(\"Talvez seja a Poeira radioativa; quiçá a bagulhificação da função.\")"
      ],
      "execution_count": null,
      "outputs": [
        {
          "output_type": "stream",
          "text": [
            "Ora, a função funciona! Ou será só um trocadilho?\n"
          ],
          "name": "stdout"
        }
      ]
    }
  ]
}
