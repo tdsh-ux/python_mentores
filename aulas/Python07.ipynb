{
  "nbformat": 4,
  "nbformat_minor": 0,
  "metadata": {
    "colab": {
      "name": "Copy of Python07.ipynb",
      "provenance": [],
      "toc_visible": true
    },
    "kernelspec": {
      "name": "python3",
      "display_name": "Python 3"
    }
  },
  "cells": [
    {
      "cell_type": "markdown",
      "metadata": {
        "id": "khNX6AVjZMF_",
        "colab_type": "text"
      },
      "source": [
        "#Explorando dados estatísticos com Python\n",
        "Nesta aula iremos abordar estatística com Python para que possamos estudar, descrever e entender melhor um conjuntos de dados. \n",
        "Nesse estudo, aprenderemos a usar algumas medidas estatísticas básicas, como a média, mediana, moda e amplitude. Também vamos aprender sobre variância e desvio padrão. Outro cálculos que veremos é o coeficiente de correlação, que permite quantificar o relacionamento entre dois conjuntos de dados. Isso tudo nos levará aos gráficos de dispersão.\n",
        "Todo esse conteúdo sobre estatística nos permitirá, aprender aplicando, mais sobre a linguagem Python e suas bibliotecas.\n",
        "Vamos começar com uma das medidas mais usadas e que vemos o tempo todo, a média.\n",
        "\n",
        "\n"
      ]
    },
    {
      "cell_type": "markdown",
      "metadata": {
        "id": "PRTN_MbgcMP6",
        "colab_type": "text"
      },
      "source": [
        "#Calculando a Média\n",
        "A média é uma maneira comum e intuitiva de resumir um conjunto de números. Vamos pegar um conjunto de números de uma amostra e calcular a média.\n",
        "\n",
        "Por exemplo, imagine que você estude em uma escola que tenha 4 notas para definir se você atingiu a média para ser aprovado. No caso, vamos considerar que a média a ser atingida é 7,0.\n",
        "\n",
        "Como já sabemos, para calcular a média das quatro notas, precisamos somar todas as notas e dividir pela quantidade que é quatro. \n",
        "\n",
        "Nesse caso, imagine que nós temos uma lista com todoas as essas notas. Temos que fazer o somatório dessa lista e dividir pelo número de elementos contidos na lista. \n",
        "\n",
        "Vamos ver duas funções em Python que tornam essas operações muito fáceis: sum () e len ().\n"
      ]
    },
    {
      "cell_type": "code",
      "metadata": {
        "id": "moi9JLR6dpi4",
        "colab_type": "code",
        "colab": {
          "base_uri": "https://localhost:8080/",
          "height": 34
        },
        "outputId": "b0234aec-71f3-4e45-8494-1fef44ef6e49"
      },
      "source": [
        "notas = [6.5, 4.8, 7.6, 8.7]\n",
        "sum (notas)"
      ],
      "execution_count": null,
      "outputs": [
        {
          "output_type": "execute_result",
          "data": {
            "text/plain": [
              "27.599999999999998"
            ]
          },
          "metadata": {
            "tags": []
          },
          "execution_count": 1
        }
      ]
    },
    {
      "cell_type": "markdown",
      "metadata": {
        "id": "tgP0bq4Md1Hj",
        "colab_type": "text"
      },
      "source": [
        "Quando você usa a função *sum ()* em uma lista de números, ela soma todos os números da lista e retorna o resultado desta soma.\n",
        "\n",
        "Agora, nos precisamos saber quantos elementos tem nessa lista, para depois calcularmos a média final."
      ]
    },
    {
      "cell_type": "code",
      "metadata": {
        "id": "bfSHPbOReNll",
        "colab_type": "code",
        "colab": {
          "base_uri": "https://localhost:8080/",
          "height": 34
        },
        "outputId": "97167c6a-74e9-4a85-ee87-e3752796913a"
      },
      "source": [
        "len (notas)"
      ],
      "execution_count": null,
      "outputs": [
        {
          "output_type": "execute_result",
          "data": {
            "text/plain": [
              "4"
            ]
          },
          "metadata": {
            "tags": []
          },
          "execution_count": 2
        }
      ]
    },
    {
      "cell_type": "markdown",
      "metadata": {
        "id": "5sSTTNT4eXFI",
        "colab_type": "text"
      },
      "source": [
        "#Exercício 1\n",
        "Agora, você está pronto para escrever um programa que receba as notas de um aluno e informe se ele foi aprovado ou reprovado, considerando que a média para aprovação é maior ou igual a 7,0.\n",
        "Escreva uma função que receba a lista de notas de um aluno e retorne a média final. Depois, imprima uma mensagem se ele foi aprovado ou reprovado. Faça o tratamento de erros."
      ]
    },
    {
      "cell_type": "code",
      "metadata": {
        "id": "dikQmLpdsup4",
        "colab_type": "code",
        "colab": {
          "base_uri": "https://localhost:8080/",
          "height": 101
        },
        "outputId": "3b37dba7-ed24-4f54-a666-378be812361c"
      },
      "source": [
        "def mean(notas = []):\n",
        "  try:\n",
        "    quantidade_notas = int(input(\"Quantas provas você teve?\"))\n",
        "    for i in range(quantidade_notas):\n",
        "      notas.append(int(input(\"Insira sua nota: \")))\n",
        "    mean = sum(notas)/len(notas)\n",
        "    if mean >= 7.0:\n",
        "      print(\"Parabéns, você foi aprovado!\")\n",
        "    else:\n",
        "      print(\"Nota inadequada! Mas fique tranquilo(a); ainda teremos uma avaliação substitutiva! :)\")\n",
        "    return mean\n",
        "  except ValueError:\n",
        "    print(\"Scrooge trocou papéis por palavras; mas não estamos no Natal.\")\n",
        "\n",
        "mean()\n",
        "\n",
        "  "
      ],
      "execution_count": null,
      "outputs": [
        {
          "output_type": "stream",
          "text": [
            "Quantas provas você teve?2\n",
            "Insira sua nota: 9\n",
            "Insira sua nota: 10\n",
            "Parabéns, você foi aprovado!\n"
          ],
          "name": "stdout"
        },
        {
          "output_type": "execute_result",
          "data": {
            "text/plain": [
              "9.5"
            ]
          },
          "metadata": {
            "tags": []
          },
          "execution_count": 10
        }
      ]
    },
    {
      "cell_type": "markdown",
      "metadata": {
        "id": "5ixsY6JAfN0N",
        "colab_type": "text"
      },
      "source": [
        "#Calculando a mediana\n",
        "A mediana de uma coleção de números é outro tipo de média. Para encontrar a mediana, classificamos os números em ordem crescente. Se o comprimento da lista de números for ímpar, o número no meio da lista é a mediana. Se o comprimento da lista de números for par, obtemos a mediana calculando a média dos dois números do meio. \n",
        "\n",
        "Por exemplo:\n",
        "\n",
        "Idade dos alunos do sexto ano: 10, 10, 12, 12, 13, 10, 11\n",
        "Temos a idade de 7 anos, logo o comprimento desta lista é ímpar. Então depois de colocarmos em ordem crescente, podemos pegar a mediana, que é o elemento do meio dessa lista.\n",
        "\n",
        "Ordenando:\n",
        "\n",
        "idades: 10, 10, 10, 11, 12, 12, 13  \n",
        "Mediana = 11 anos\n",
        "\n",
        "Agora, imagine que tenha entrado mais um aluno nesta turma.  \n",
        "Idade dos alunos do sexto ano: 10, 10, 12, 12, 13, 10, 11, 12  \n",
        "Temos 8 alunos, logo o comprimento desta lista é par. Então, para calcularmos a mediana, precisamos ordenar a lista e tirar a média dos dois elementos do meio.\n",
        "\n",
        "Ordenando: 10, 10, 10, 11, 12, 12, 12,  13  \n",
        "Mediana =  (11 + 12)/2 = 11,5 anos\n",
        "\n"
      ]
    },
    {
      "cell_type": "markdown",
      "metadata": {
        "id": "WxxnjRk2z5_0",
        "colab_type": "text"
      },
      "source": [
        "#Exercício 2\n",
        "Um professor de matemática costuma verificar a aprendizagem de seus alunos através da mediana das notas obtidas pela turma. Considere que a turma de 2014 obteve as seguintes notas no 2° bimestre: 2.5, 7.6, 8.9, 9.1, 3.4, 6.7, 5.8, 6.9, 10, 8.6, 5.7, 4.9, 8.3, 6.7, 7.9, 9.2, 8.1, 7.5, 8.3, 1.9\n",
        "\n",
        "Escreva um programa que tenha uma função que calcule a mediana das notas dos alunos. Considerando que a média é 7.0, informe se a mediana está acima ou abaixo dessa média."
      ]
    },
    {
      "cell_type": "code",
      "metadata": {
        "id": "YV1AxjJqvnFQ",
        "colab_type": "code",
        "colab": {
          "base_uri": "https://localhost:8080/",
          "height": 50
        },
        "outputId": "a3d529a8-ebc1-4050-e3e0-9a1d2b220aa1"
      },
      "source": [
        "def median(notas = []):\n",
        "  notas.sort()\n",
        "  median = 0\n",
        "  if len(notas) % 2 == 0:\n",
        "    median = (notas[int(len(notas)/2)] + notas[int(len(notas)/2 + 1)])/2\n",
        "  else:\n",
        "    median = notas[int((len(notas) + 1)/2)]\n",
        "  if median > 7.0:\n",
        "    print(\"A nota mediana da turma está acima da média.\")\n",
        "  else:\n",
        "    print(\"A mediana das notas da turma está inadequada.\")\n",
        "  return median\n",
        "\n",
        "median([2.5, 7.6, 8.9, 9.1, 3.4, 6.7, 5.8, 6.9, 10, 8.6, 5.7, 4.9, 8.3, 6.7, 7.9, 9.2, 8.1, 7.5, 8.3, 1.9])"
      ],
      "execution_count": null,
      "outputs": [
        {
          "output_type": "stream",
          "text": [
            "A nota mediana da turma está acima da média.\n"
          ],
          "name": "stdout"
        },
        {
          "output_type": "execute_result",
          "data": {
            "text/plain": [
              "7.75"
            ]
          },
          "metadata": {
            "tags": []
          },
          "execution_count": 23
        }
      ]
    },
    {
      "cell_type": "markdown",
      "metadata": {
        "id": "JLxiSMJo1zGO",
        "colab_type": "text"
      },
      "source": [
        "#Achando a moda e criando uma tabela de frequência\n",
        "Se ao invés de querer saber a média ou a mediana de um conjunto de valores, você quisesse saber qual é o número que ocorre com mais frequência? Este número é chamado de moda.\n",
        "\n",
        "Por exemplo, considere as notas de um teste de matemática que valia 10 pontos, em uma turma de 20 alunos: 7, 8, 9, 2, 10, 9, 9, 9, 9, 9, 4, 5, 6, 1, 5, 6, 7, 8, 6, 1 e 10.\n",
        "\n",
        "Para encontrar a moda nesta lista, basta procurar o valor que ocorre com mais frequência. Neste caso, a nota 9 é a que ocorre com mais frequência, logo, ela é a moda da turma.\n",
        "\n",
        "Não existe uma fórmula simbólica para calcular a moda - basta contar quantas vezes cada número único ocorre e encontrar o que mais ocorre.\n",
        "\n",
        "Vamos ver como fazer isso.\n",
        "\n",
        "O jeito mais simples de fazer a contagem de ocorrências dos elementos de uma sequência é através da classe *Counter*, também presente no módulo *collections*. "
      ]
    },
    {
      "cell_type": "code",
      "metadata": {
        "id": "_xr7KZsyPrrz",
        "colab_type": "code",
        "colab": {
          "base_uri": "https://localhost:8080/",
          "height": 34
        },
        "outputId": "63b6f7e5-77ec-42a3-d112-b5cf9ba27f23"
      },
      "source": [
        "from collections import Counter\n",
        "\n",
        "simplelist = [4, 2, 1, 3, 4]\n",
        "\n",
        "c = Counter(simplelist)\n",
        "c.most_common()"
      ],
      "execution_count": null,
      "outputs": [
        {
          "output_type": "execute_result",
          "data": {
            "text/plain": [
              "[(4, 2), (2, 1), (1, 1), (3, 1)]"
            ]
          },
          "metadata": {
            "tags": []
          },
          "execution_count": 24
        }
      ]
    },
    {
      "cell_type": "markdown",
      "metadata": {
        "id": "LzAWcAmTP2sT",
        "colab_type": "text"
      },
      "source": [
        "\n",
        "Um dos métodos mais interessantes da função *Counter* é o *most_common()*, que retorna uma lista contendo os elementos mais comuns na sequência, numa ordem decrescente.\n",
        "\n",
        "A lista retornada acima significa que o método most_common() achou 2 vezes o número 4, 1 vez o número 2, 1 vez o número 1 e 1 vez o número 3."
      ]
    },
    {
      "cell_type": "markdown",
      "metadata": {
        "id": "dhij_azORtd3",
        "colab_type": "text"
      },
      "source": [
        "Voltando ao cálculo da moda das notas de uma turma de 20 alunos, temos:"
      ]
    },
    {
      "cell_type": "code",
      "metadata": {
        "id": "YF0_NXNUMMG-",
        "colab_type": "code",
        "colab": {
          "base_uri": "https://localhost:8080/",
          "height": 34
        },
        "outputId": "d0823257-faf2-4fc5-c119-32db043ad3c2"
      },
      "source": [
        "from collections import Counter\n",
        "\n",
        "def calcular_moda(numbers):\n",
        "  c = Counter(numbers)\n",
        "  moda = c.most_common(1)\n",
        "  return moda[0][0]\n",
        "\n",
        "scores = [7, 8, 9, 2, 10, 9, 9, 9, 9, 4, 5, 6, 1, 5, 6, 7, 8, 6, 1, 10] \n",
        "moda = calcular_moda(scores)\n",
        "print(f\"A moda da lista de números é: {moda}\")\n"
      ],
      "execution_count": null,
      "outputs": [
        {
          "output_type": "stream",
          "text": [
            "A moda da lista de números é: 9\n"
          ],
          "name": "stdout"
        }
      ]
    },
    {
      "cell_type": "markdown",
      "metadata": {
        "id": "Qj--p7b6SW7N",
        "colab_type": "text"
      },
      "source": [
        "E se você tiver um conjunto de dados em que dois ou mais números ocorram o mesmo número máximo de vezes? Por exemplo, na lista de números 5, 5, 5, 4, 4, 4, 9, 1 e 3, ambos os números, 4 e 5, estão presentes três vezes. Nesses casos, diz-se que a lista de números possui várias modas, e nosso programa deve encontrar e imprimir todas as modas. O programa modificado é o seguinte:"
      ]
    },
    {
      "cell_type": "code",
      "metadata": {
        "id": "w55mzd7NThX4",
        "colab_type": "code",
        "colab": {
          "base_uri": "https://localhost:8080/",
          "height": 67
        },
        "outputId": "ecb2307b-2233-4025-e41f-eb41b105747f"
      },
      "source": [
        "from collections import Counter\n",
        "\n",
        "def calcular_moda(numbers):\n",
        "  c = Counter(numbers)\n",
        "  numbers_freq = c.most_common()\n",
        "  #print (numbers_freq)\n",
        "  max_count = numbers_freq[0][1]\n",
        "  #print (max_count)\n",
        "  \n",
        "  modas = []\n",
        "  \n",
        "  for num in numbers_freq:\n",
        "    if num[1] == max_count:\n",
        "      modas.append(num[0])\n",
        "\n",
        "  return modas\n",
        "\n",
        "valores = [5, 5, 5, 4, 4, 4, 9, 1, 3]\n",
        "modas = calcular_moda(valores)\n",
        "print(\"A(s) moda(s) da lista de números são: \")\n",
        "\n",
        "for moda in modas:\n",
        "  print(moda)"
      ],
      "execution_count": null,
      "outputs": [
        {
          "output_type": "stream",
          "text": [
            "A(s) moda(s) da lista de números são: \n",
            "5\n",
            "4\n"
          ],
          "name": "stdout"
        }
      ]
    },
    {
      "cell_type": "markdown",
      "metadata": {
        "id": "W8Fp4MM0ThpZ",
        "colab_type": "text"
      },
      "source": [
        "Ao invés de encontrar apenas o elemento mais comum, achamos por todos os números e o número de vezes que cada um deles aparece. Em seguida, encontramos o valor da contagem máxima - ou seja, o número máximo de vezes que um número ocorre. Então, para cada um dos números, verificamos se o número de vezes que aparece é igual à contagem máxima. Cada número que atende a essa condição é uma moda, e o adicionamos à lista moda e depois retornamos ela."
      ]
    },
    {
      "cell_type": "markdown",
      "metadata": {
        "id": "fmD6jcPSWFbo",
        "colab_type": "text"
      },
      "source": [
        "#Tabela de frequência\n",
        "E se você quisesse encontrar o número de vezes que cada número ocorre, e não apenas a moda? Uma tabela de frequência, como o nome indica, é uma tabela que mostra quantas vezes cada número ocorre em uma coleção de números.\n",
        "\n",
        "Vamos aprender como fazer uma tabela de frequência, usando a mesma lista com as notas dos alunos que usamos logo acima: 7, 8, 9, 2, 10, 9, 9, 9, 9, 4, 5, 6, 1, 5, 6, 7, 8, 6, 1 e 10.\n",
        "\n",
        "##Tabela de frequência\n",
        "\n",
        "___\n",
        "Nota | Frequência\n",
        "--- | ---\n",
        "1 | 1\n",
        "2 | 1\n",
        "4 | 1\n",
        "5 | 2\n",
        "6 | 3\n",
        "7 | 2\n",
        "8 | 2\n",
        "9 | 5\n",
        "10 | 2\n",
        "\n",
        "___\n",
        "\n",
        "\n",
        "Observe que a soma das frequências individuais na segunda coluna soma o número total de 20, que é a quantidade de notas.\n",
        "\n",
        "Usaremos o método *most_common ()* mais uma vez para imprimir a tabela de frequências para um determinado conjunto de números. Lembre-se de que, quando não fornecemos um argumento para o método *most_common ()*, ele retorna uma lista de tuplas com todos os números e o número de vezes que eles aparecem. \n"
      ]
    },
    {
      "cell_type": "code",
      "metadata": {
        "id": "sywc4bNDYnBV",
        "colab_type": "code",
        "colab": {
          "base_uri": "https://localhost:8080/",
          "height": 185
        },
        "outputId": "3cfaffcb-2876-44f1-9bcf-b8ea7b6c170e"
      },
      "source": [
        "from collections import Counter\n",
        "\n",
        "def tabela_frequencia(numeros):\n",
        "  tabela = Counter(numeros)\n",
        "  freq_numeros =  tabela.most_common()\n",
        "  print(\"Nota\\tFrequencia\")\n",
        "  \n",
        "  for nota in freq_numeros:\n",
        "    print(f\"{nota[0]}\\t{nota[1]}\")\n",
        "  \n",
        "notas = [7, 8, 9, 2, 10, 9, 9, 9, 9, 4, 5, 6, 1, 5, 6, 7, 8, 6, 1, 10] \n",
        "tabela_frequencia(notas)"
      ],
      "execution_count": null,
      "outputs": [
        {
          "output_type": "stream",
          "text": [
            "Nota\tFrequencia\n",
            "9\t5\n",
            "6\t3\n",
            "7\t2\n",
            "8\t2\n",
            "10\t2\n",
            "5\t2\n",
            "1\t2\n",
            "2\t1\n",
            "4\t1\n"
          ],
          "name": "stdout"
        }
      ]
    },
    {
      "cell_type": "markdown",
      "metadata": {
        "id": "JmLCY1qOok2l",
        "colab_type": "text"
      },
      "source": [
        "A saída está em ordem decrescente de frequência, porque a função most_common() returno os números nesta ordem. Mas, se desejarmos, podemos ordenar a saída de forma que o resultado saia em ordem crescente de valor, basta usar a função sort() para isso."
      ]
    },
    {
      "cell_type": "code",
      "metadata": {
        "id": "zWOzfgVqomJu",
        "colab_type": "code",
        "colab": {
          "base_uri": "https://localhost:8080/",
          "height": 185
        },
        "outputId": "aed4efce-2555-44d4-f8a7-1ffd130db587"
      },
      "source": [
        "from collections import Counter\n",
        "\n",
        "def tabela_frequencia(numeros):\n",
        "  tabela = Counter(numeros)\n",
        "  freq_numeros = tabela.most_common()\n",
        "  freq_numeros.sort() #Coloca a lista em ordem crescente\n",
        "\n",
        "  print(\"Nota\\tFrequencia\")\n",
        "  \n",
        "  for nota in freq_numeros:\n",
        "    print(f\"{nota[0]}\\t{nota[1]}\")\n",
        "  \n",
        "notas = [7, 8, 9, 2, 10, 9, 9, 9, 9, 4, 5, 6, 1, 5, 6, 7, 8, 6, 1, 10] \n",
        "tabela_frequencia(notas)"
      ],
      "execution_count": null,
      "outputs": [
        {
          "output_type": "stream",
          "text": [
            "Nota\tFrequencia\n",
            "1\t2\n",
            "2\t1\n",
            "4\t1\n",
            "5\t2\n",
            "6\t3\n",
            "7\t2\n",
            "8\t2\n",
            "9\t5\n",
            "10\t2\n"
          ],
          "name": "stdout"
        }
      ]
    },
    {
      "cell_type": "markdown",
      "metadata": {
        "id": "LDwNZvvTvhyw",
        "colab_type": "text"
      },
      "source": [
        "#Caracteres especiais em Python\n",
        "Uma pausa para explicar sobre o **\\t** que aparece no print da função tabela_frequencia().\n",
        "\n",
        "    print(\"Nota\\tFrequencia\")\n",
        "\n",
        "O Python, como qualquer outra linguagem de programação, usa caracteres especiais para compor suas saídas. O Python 3.x usa codificação [UTF-8 ](https://www.w3schools.com/charsets/ref_html_utf8.asp) como padrão. Já o Python 2.x usa a codificação [ASCII](https://pt.wikipedia.org/wiki/ASCII) como padrão.\n",
        "\n",
        "Caracteres não imprimíveis como o **\\t**, podem ser expressos usando notação “barra­invertida” (\\).\n",
        "* \\n é o mesmo que new line\n",
        "* \\r é o mesmo que carriage return\n",
        "* \\t é o mesmo que tab\n",
        "* \\b é o mesmo que backspace\n",
        "* \\\\ é o mesmo que \\ \n",
        "* \\x41 é o mesmo que o caractere cujo código hexadecimal é 41 (“A” maiúsculo)"
      ]
    },
    {
      "cell_type": "code",
      "metadata": {
        "id": "KOYZrXqv5ljC",
        "colab_type": "code",
        "colab": {
          "base_uri": "https://localhost:8080/",
          "height": 67
        },
        "outputId": "6b0ef4b9-c0e8-4460-ed1b-48a88ebd0460"
      },
      "source": [
        "print (\"\\x41\")\n",
        "print (\"\\]\")\n",
        "print(\"um\\ttab\")"
      ],
      "execution_count": null,
      "outputs": [
        {
          "output_type": "stream",
          "text": [
            "A\n",
            "\\]\n",
            "um\ttab\n"
          ],
          "name": "stdout"
        }
      ]
    },
    {
      "cell_type": "markdown",
      "metadata": {
        "id": "pVzGuHWf858j",
        "colab_type": "text"
      },
      "source": [
        "#Formatação de strings em Python\n",
        "Outro assunto que ainda não foi abordo no curso é sobre a formatação de strings, como vocês acabaram de ver no programa acima.\n",
        "\n"
      ]
    },
    {
      "cell_type": "markdown",
      "metadata": {
        "id": "pRZYV5OVtLE7",
        "colab_type": "text"
      },
      "source": [
        "#Continuando com medidas estatísticas"
      ]
    },
    {
      "cell_type": "markdown",
      "metadata": {
        "id": "i0VXbG7xtRh8",
        "colab_type": "text"
      },
      "source": [
        "#Medidas de dispersão\n",
        "Nos próximos cálculos estatísticos, mediremos a dispersão, que nos indica a que distância os números de um conjunto de dados estão da média do conjunto de dados. Aprenderemos a calcular três medidas diferentes de dispersão: faixa, variância e desvio padrão."
      ]
    },
    {
      "cell_type": "markdown",
      "metadata": {
        "id": "0SOzS8DRv8QD",
        "colab_type": "text"
      },
      "source": [
        "#Encontrando a amplitude de um conjunto de números\n",
        "Vamos trabalhar com uma lista com valores de doações ocorridas em um dia, onde A: 100, 60, 70, 900, 100, 200, 500, 500, 503, 600, 1000 e 1200. Descobrimos que a doação média por dia é 477,75. Mas, olhando apenas a média, não temos idéia se todas as doações caíram em uma faixa estreita - digamos entre 400 e 500 - ou se variaram muito mais que isso - digamos entre 60 e 1200, como neste caso. Para uma lista de números, a amplitude é a diferença entre o número mais alto e o número mais baixo. Você pode ter dois grupos de números com a mesma média exata, mas com amplitudes muito diferentes, portanto, conhecer a amplitude preenche mais informações sobre um conjunto de números além do que podemos aprender apenas olhando a média, a mediana e a moda."
      ]
    },
    {
      "cell_type": "code",
      "metadata": {
        "id": "XfuFx8dByVGT",
        "colab_type": "code",
        "colab": {
          "base_uri": "https://localhost:8080/",
          "height": 34
        },
        "outputId": "dfa74585-d89a-4ab6-d5a7-a40f5b398b72"
      },
      "source": [
        "def amplitude(numbers): \n",
        "  minimo = min(numbers)\n",
        "  maximo = max(numbers)\n",
        "  \n",
        "  # Calculando a amplitude\n",
        "  a = maximo-minimo\n",
        "  return minimo, maximo, a\n",
        "\n",
        "doacoes = [100, 60, 70, 900, 100, 200, 500, 500, 503, 600, 1000, 1200]\n",
        "minimo, maximo, a = amplitude(doacoes)\n",
        "\n",
        "print(f\"Mínimo: {minimo}, Máximo: {maximo} e Amplitude: {a}\")"
      ],
      "execution_count": null,
      "outputs": [
        {
          "output_type": "stream",
          "text": [
            "Mínimo: 60, Máximo: 1200 e Amplitude: 1140\n"
          ],
          "name": "stdout"
        }
      ]
    },
    {
      "cell_type": "markdown",
      "metadata": {
        "id": "oCIqtgGUzkLV",
        "colab_type": "text"
      },
      "source": [
        "O resultado nos mostra que os valores doados foram bem variados, com uma amplitude de 1140, com doações como um mínimo de 60 e um máximo de 1200.\n"
      ]
    },
    {
      "cell_type": "markdown",
      "metadata": {
        "id": "Qf7sI1vZz8rW",
        "colab_type": "text"
      },
      "source": [
        "#Calculando a variância e o desvio padrão\n",
        "A amplitude nos diz a diferença entre os dois extremos em um conjunto de números, mas e se quisermos saber mais sobre como todos os números individuais variam em relação à média? \n",
        "Eles eram todos semelhantes, agrupados perto da média, ou eram todos diferentes, mais próximos dos extremos? Existem duas medidas de dispersão que nos dizem mais sobre uma lista de números: a variância e o desvio padrão."
      ]
    },
    {
      "cell_type": "markdown",
      "metadata": {
        "id": "ctdPTteO0itg",
        "colab_type": "text"
      },
      "source": [
        "##Calculando a variância\n",
        "A variância é uma medida de dispersão que mostra o quão distante cada valor desse conjunto está do valor central (médio).\n",
        "\n",
        "Quanto menor é a variância, mais próximos os valores estão da média; mas quanto maior ela é, mais os valores estão distantes da média.\n",
        "\n",
        "Temos dois tipos de cálculo de variância, um para a **polulação**, que é quando usamos todo os elementos de um conjunto de dados, e outro para uma **amostra**, que é quando usamos uma parte da população, isto é, apenas alguns elementos do conjunto total.\n",
        "\n",
        "Considere que $x_1, x_2, …, x_n$ são os **n** elementos de um conjunto de dados e que $x_m$ é a média aritmética desses elementos. O cálculo da **variância populacional** é dado por:\n",
        "\n",
        "$v_p =\\frac{\\sum(x_i - x_m)^2}{n}$\n",
        "\n",
        "O cálculo da variância amostral é dado por:\n",
        "\n",
        "$v_a =\\frac{\\sum(x_i - x_m)^2}{n-1}$\n",
        "\n",
        "E o cálculo do desvio padrão é dado por:\n",
        "\n",
        "$dp = \\sqrt v$\n",
        "\n",
        "Vamos agora aplicar o cálculo da variância e do desvio padrão usando os dados das doações, onde A: 100, 60, 70, 900, 100, 200, 500, 500, 503, 600, 1000 e 1200.\n",
        "\n",
        "Passos:\n",
        "1. Calcular a média de doações\n",
        "2. Calcular a diferença entre cada valor e a média\n",
        "3. Calcular a variância, neste caso, de uma população, já que usaremos todos os elementos do conjunto de dados\n",
        "4. Calcular o desvio padrão\n",
        "\n"
      ]
    },
    {
      "cell_type": "code",
      "metadata": {
        "id": "uqvHQNhNHpvM",
        "colab_type": "code",
        "colab": {
          "base_uri": "https://localhost:8080/",
          "height": 50
        },
        "outputId": "d0fdfbc3-7fc5-434d-b03b-1c6c0d96784f"
      },
      "source": [
        "def calcular_media(numbers):\n",
        "  s = sum(numbers)\n",
        "  n = len(numbers)\n",
        "  \n",
        "  # Calcular a média \n",
        "  media = s/n\n",
        "  \n",
        "  return media\n",
        "\n",
        "def calcular_diferenca(numbers):\n",
        "  # calcular a média\n",
        "  media = calcular_media(numbers)\n",
        "  \n",
        "  # calcular as diferencas a partir da média\n",
        "  diferenca = []\n",
        "  for num in numbers:\n",
        "    diferenca.append(num - media)\n",
        "  \n",
        "  return diferenca\n",
        "\n",
        "def calcular_variancia(numbers):\n",
        "  # Achar as diferenças\n",
        "  diferenca = calcular_diferenca(numbers)\n",
        "  \n",
        "  # achar o quadrado das diferencas\n",
        "  squared_diff = []\n",
        "  for d in diferenca:\n",
        "    squared_diff.append(d**2)\n",
        "  \n",
        "  # Achar a variância\n",
        "  sum_squared_diff = sum(squared_diff)\n",
        "  variancia = sum_squared_diff/len(numbers)\n",
        "  \n",
        "  return variancia\n",
        "\n",
        "doacoes = [100, 60, 70, 900, 100, 200, 500, 500, 503, 600, 1000, 1200]\n",
        "variancia = calcular_variancia(doacoes)\n",
        "print(f\"A variância da lista de números é {variancia:.2f}\")\n",
        "\n",
        "#Achar o desvio padrão\n",
        "std = variancia**0.5\n",
        "print(f\"O desvio padrão da lista de números é {std:.2f}\")"
      ],
      "execution_count": null,
      "outputs": [
        {
          "output_type": "stream",
          "text": [
            "A variância da lista de números é 141047.35\n",
            "O desvio padrão da lista de números é 375.56\n"
          ],
          "name": "stdout"
        }
      ]
    },
    {
      "cell_type": "markdown",
      "metadata": {
        "id": "khZIEB49NQug",
        "colab_type": "text"
      },
      "source": [
        "#Exercício 3\n",
        "\n",
        "Temos um conjunto de dados B: 382, 389, 377, 397, 396, 368, 369, 392, 398, 367, 393 e 396, que representa as doações de um outro dia. \n",
        "\n",
        "Escreva um programa que calcule a variância e o desvio padrão desse novo conjunto de dados e projete um gráfico de linhas que exiba as doações do conjunto A e do conjunto B."
      ]
    },
    {
      "cell_type": "code",
      "metadata": {
        "id": "K4ytTrXN1DNy",
        "colab_type": "code",
        "colab": {
          "base_uri": "https://localhost:8080/",
          "height": 312
        },
        "outputId": "f82a337b-7f11-41fe-e7c1-600d03d6d2ad"
      },
      "source": [
        "def mean(data):\n",
        "  return sum(data)/len(data)\n",
        "\n",
        "def var(data):\n",
        "  desv_squared = []\n",
        "  for value in data:\n",
        "    desv_squared.append((value - mean(data))**2)\n",
        "  return round(sum(desv_squared)/len(data), 2)\n",
        "\n",
        "def sd(data):\n",
        "  return round(var(data)**.5, 2)\n",
        "\n",
        "var_ = var(data = [382, 389, 377, 397, 396, 368, 369, 392, 398, 367, 393, 396])\n",
        "sd_ = sd(data = [382, 389, 377, 397, 396, 368, 369, 392, 398, 367, 393, 396])\n",
        "print(f\"A variância é igual a {var_}; o desvio padrão, {sd_}.\")\n",
        "\n",
        "\n",
        "import pylab\n",
        "from pylab import plot, title, legend, xlabel, ylabel\n",
        "\n",
        "id = []\n",
        "for i in range(1, len([382, 389, 377, 397, 396, 368, 369, 392, 398, 367, 393, 396]) + 1):\n",
        "  id.append(i)\n",
        "\n",
        "plot(id, [382, 389, 377, 397, 396, 368, 369, 392, 398, 367, 393, 396],\n",
        "     id, [100, 60, 70, 900, 100, 200, 500, 500, 503, 600, 1000, 1200])\n",
        "xlabel(\"Identificador da compra.\")\n",
        "ylabel(\"Quantidade de compras.\")\n",
        "legend([\"Empresa B.\", \"Empresa A.\"])\n",
        "title(\"Doações das empresas A e B.\")\n",
        "pylab.show()"
      ],
      "execution_count": null,
      "outputs": [
        {
          "output_type": "stream",
          "text": [
            "A variância é igual a 135.39; o desvio padrão, 11.64.\n"
          ],
          "name": "stdout"
        },
        {
          "output_type": "display_data",
          "data": {
            "image/png": "[encoded data removed]",
            "text/plain": [
              "<Figure size 432x288 with 1 Axes>"
            ]
          },
          "metadata": {
            "tags": [],
            "needs_background": "light"
          }
        }
      ]
    },
    {
      "cell_type": "markdown",
      "metadata": {
        "id": "rfCYMVGJHEVS",
        "colab_type": "text"
      },
      "source": [
        "#Exercício 4\n",
        "Em uma escola, a direção decidiu observar a quantidade de alunos que apresentam todas as notas acima da média em todas as disciplinas. Para analisar melhor, a diretora resolveu montar uma tabela com a quantidade de notas “azuis” em uma **amostra** de quatro turmas ao longo de um ano. Observe a seguir a tabela organizada pela diretora:\n",
        "\n",
        "![alt text](https://github.com/alexiaca/mentores-python/blob/master/tabela.png?raw=true)\n",
        "\n",
        "Escreva um programa que calcule a variância e o desvio padrão para cada uma das turmas.\n",
        "\n"
      ]
    },
    {
      "cell_type": "code",
      "metadata": {
        "id": "LBdykb4L4_TP",
        "colab_type": "code",
        "colab": {
          "base_uri": "https://localhost:8080/",
          "height": 84
        },
        "outputId": "82fbb497-7153-49cb-db3a-74275d78fb5c"
      },
      "source": [
        "def varA(data):\n",
        "  squared_diff = []\n",
        "  for j in range(len(data)):\n",
        "    squared_diff.append((data[j] - mean(data))**2)\n",
        "  return round(sum(squared_diff)/(len(squared_diff) - 1),2)\n",
        "\n",
        "def sdA(data):\n",
        "  return round(varA(data)**.5, 2)\n",
        "\n",
        "quant = [[5,8,10,7], [8,6,6,12], [11,9,5,10], [8,13,9,4]]\n",
        "\n",
        "for j in range(len(quant)):\n",
        "  print(f\"O desvio padrão da quantidade, por bimestre, de notas azuis para o {j + 1 + 5}º ano é igual a {sdA(quant[j])}; a variância, {varA(quant[j])}.\")\n",
        "\n"
      ],
      "execution_count": null,
      "outputs": [
        {
          "output_type": "stream",
          "text": [
            "O desvio padrão da quantidade, por bimestre, de notas azuis para o 6º ano é igual a 2.08; a variância, 4.33.\n",
            "O desvio padrão da quantidade, por bimestre, de notas azuis para o 7º ano é igual a 2.83; a variância, 8.0.\n",
            "O desvio padrão da quantidade, por bimestre, de notas azuis para o 8º ano é igual a 2.63; a variância, 6.92.\n",
            "O desvio padrão da quantidade, por bimestre, de notas azuis para o 9º ano é igual a 3.7; a variância, 13.67.\n"
          ],
          "name": "stdout"
        }
      ]
    }
  ]
}
