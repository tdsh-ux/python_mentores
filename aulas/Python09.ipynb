{
  "nbformat": 4,
  "nbformat_minor": 0,
  "metadata": {
    "colab": {
      "name": "Copy of Python09.ipynb",
      "provenance": [],
      "collapsed_sections": [],
      "toc_visible": true
    },
    "kernelspec": {
      "name": "python3",
      "display_name": "Python 3"
    }
  },
  "cells": [
    {
      "cell_type": "markdown",
      "metadata": {
        "id": "Cq5_zykRYXu1",
        "colab_type": "text"
      },
      "source": [
        "#Conjuntos e probabilidade com Python\n",
        "Vamos ver como podemos fazer para que nossos programas compreendam e\n",
        "manipulem conjuntos de números, como esses conjuntos podem nos ajudar a entender os conceitos básicos de probabilidade e, por fim, veremos sobre a geração de números aleatórios para simular eventos aleatórios."
      ]
    },
    {
      "cell_type": "markdown",
      "metadata": {
        "id": "AkleHdWamVWj",
        "colab_type": "text"
      },
      "source": [
        "#O que é um conjunto\n",
        "Um conjunto é uma reunião de elementos que podem, ou não, possuir característica em comum, desde que estejam determinado em um espaço fechado. \n",
        "Existem duas características de um conjunto que o tornam diferente de qualquer coleção de objetos. \n",
        "1. Um conjunto pode ser considerado bem definido quando é possível identificar os seus componentes. \n",
        "2. Um conjunto não possui dois membros iguais.\n",
        "\n",
        "Um conjunto pode conter qualquer coisa - números, pessoas, coisas, palavras e assim por diante.\n",
        "\n",
        "Em Python, um conjunto (set) é um tipo de dados de coleção, suportando o operador de associação *in*, a função *len()* e é iterável. Conjuntos não possuem noção de ordem por isso seus elementos não podem ser acessados com colchetes [] nem podem ser fatiados.\n",
        "\n",
        "Os conjuntos (set) não aceitam valores repetidos. Ao tentar criar um conjunto com valores repetidos eles serão descartados só sobrando um valor do mesmo."
      ]
    },
    {
      "cell_type": "markdown",
      "metadata": {
        "id": "F5LSPwOOoWbX",
        "colab_type": "text"
      },
      "source": [
        "#Criando um conjunto\n",
        "Na notação matemática, você representa um conjunto escrevendo os membros do conjunto entre colchetes. Por exemplo, {2, 4, 6} representa um conjunto com 2, 4 e 6 como seus membros. \n",
        "\n",
        "Conjuntos só aceitam tipos de dados imutáveis como inteiros, floats, tuplas e strings não aceitando listas, dicionários e outros conjuntos (set).\n",
        "\n",
        "Para criar um conjunto basta colocar os valores entre chaves {} :"
      ]
    },
    {
      "cell_type": "code",
      "metadata": {
        "id": "YUZhD6Cfoqni",
        "colab_type": "code",
        "colab": {
          "base_uri": "https://localhost:8080/",
          "height": 34
        },
        "outputId": "aec3e400-fd30-44a2-86a0-67e904f55e99"
      },
      "source": [
        "s = {2, 4, 6}\n",
        "print (s)"
      ],
      "execution_count": null,
      "outputs": [
        {
          "output_type": "stream",
          "text": [
            "{2, 4, 6}\n"
          ],
          "name": "stdout"
        }
      ]
    },
    {
      "cell_type": "code",
      "metadata": {
        "id": "Lbf9syuxEuTp",
        "colab_type": "code",
        "colab": {
          "base_uri": "https://localhost:8080/",
          "height": 34
        },
        "outputId": "8c3fc0a6-4e65-455f-a96a-021bb5f96468"
      },
      "source": [
        "c = {\"Maria\", \"João\", \"Paulo\", \"Márcia\"}\n",
        "print (c)"
      ],
      "execution_count": null,
      "outputs": [
        {
          "output_type": "stream",
          "text": [
            "{'Paulo', 'Maria', 'Márcia', 'João'}\n"
          ],
          "name": "stdout"
        }
      ]
    },
    {
      "cell_type": "markdown",
      "metadata": {
        "id": "UEK0RZcrpecv",
        "colab_type": "text"
      },
      "source": [
        "A cardinalidade de um conjunto é o número de membros no conjunto, que você pode encontrar usando a função len ():"
      ]
    },
    {
      "cell_type": "code",
      "metadata": {
        "id": "k5ZcN5i2piNQ",
        "colab_type": "code",
        "colab": {
          "base_uri": "https://localhost:8080/",
          "height": 34
        },
        "outputId": "b1532abf-f397-4551-f962-5664dcea35d8"
      },
      "source": [
        "s = {1, 1.5, 3}\n",
        "print (len(s))"
      ],
      "execution_count": null,
      "outputs": [
        {
          "output_type": "stream",
          "text": [
            "3\n"
          ],
          "name": "stdout"
        }
      ]
    },
    {
      "cell_type": "markdown",
      "metadata": {
        "id": "NWsXHnitFwRZ",
        "colab_type": "text"
      },
      "source": [
        "#Criando conjuntos a partir de listas ou tuplas\n",
        "Podemos ainda criar conjuntos a partir de uma lista ou tupla com *set*, uma grande vantagem é por exemplo limpar os dados repetidos em uma lista:"
      ]
    },
    {
      "cell_type": "code",
      "metadata": {
        "id": "e7Su4iauF23L",
        "colab_type": "code",
        "colab": {
          "base_uri": "https://localhost:8080/",
          "height": 34
        },
        "outputId": "a5432908-142d-4e10-c8f4-776961466826"
      },
      "source": [
        "li = ['Maçã', 'Laranja', 'Uva', 'Abacaxi', 'Maçã', 'Abacate', 'Laranja']\n",
        "c = set(li)\n",
        "print(c)"
      ],
      "execution_count": null,
      "outputs": [
        {
          "output_type": "stream",
          "text": [
            "{'Abacaxi', 'Uva', 'Maçã', 'Laranja', 'Abacate'}\n"
          ],
          "name": "stdout"
        }
      ]
    },
    {
      "cell_type": "markdown",
      "metadata": {
        "id": "DIbvfcd1GIal",
        "colab_type": "text"
      },
      "source": [
        "Repare que ao transformar uma lista em conjunto (set), os elementos repetidos são descartados."
      ]
    },
    {
      "cell_type": "markdown",
      "metadata": {
        "id": "ywej8JVtGkcZ",
        "colab_type": "text"
      },
      "source": [
        "#Conjunto vazio\n",
        "Um conjunto vazio só pode ser criado através de set() sem argumentos:\n",
        "\n",
        "c = set()\n",
        "\n",
        "Usar as chaves vazias para criar um conjunto vazio não é uma forma válida para se criar um conjunto vazio pois o Python vai interpretar como um dicionário vazio."
      ]
    },
    {
      "cell_type": "code",
      "metadata": {
        "id": "K_yl-XoVGx3F",
        "colab_type": "code",
        "colab": {
          "base_uri": "https://localhost:8080/",
          "height": 50
        },
        "outputId": "fcab29a1-0b3a-4ec6-d0d7-46b0842eb197"
      },
      "source": [
        "c = set()\n",
        "s = {}\n",
        "print (type(c))\n",
        "print (type(s))"
      ],
      "execution_count": null,
      "outputs": [
        {
          "output_type": "stream",
          "text": [
            "<class 'set'>\n",
            "<class 'dict'>\n"
          ],
          "name": "stdout"
        }
      ]
    },
    {
      "cell_type": "markdown",
      "metadata": {
        "id": "WPFKMGzSptLX",
        "colab_type": "text"
      },
      "source": [
        "#Pertinência\n",
        "Para verificar se um número é membro de um conjunto existente, use o operador *in*. Esse operador pergunta ao Python: \"Esse número está neste conjunto?\". Ele retorna *True* se o número pertencer ao conjunto e *False*, se não. Se, por exemplo, quisermos verificar se 4 está no conjunto anterior, faremos o seguinte:"
      ]
    },
    {
      "cell_type": "code",
      "metadata": {
        "id": "P8ix-HK7qMDM",
        "colab_type": "code",
        "colab": {
          "base_uri": "https://localhost:8080/",
          "height": 50
        },
        "outputId": "66d36e3c-b854-43e3-aceb-c60df37efc0f"
      },
      "source": [
        "n = {1, 3, 5, 7, 9}\n",
        "print (4 in n)\n",
        "print (3 in n)"
      ],
      "execution_count": null,
      "outputs": [
        {
          "output_type": "stream",
          "text": [
            "False\n",
            "True\n"
          ],
          "name": "stdout"
        }
      ]
    },
    {
      "cell_type": "markdown",
      "metadata": {
        "id": "jqQTphEFr0Hw",
        "colab_type": "text"
      },
      "source": [
        "#Repetição e Ordem em um conjunto\n",
        "Os conjuntos em Python (como conjuntos matemáticos) ignoram as repetições de um membro e não acompanham a ordem dos membros de um conjunto. Por exemplo, se você criar um conjunto a partir de uma lista que possua várias instâncias de um número, o número será adicionado ao conjunto apenas uma vez e as outras instâncias serão descartadas:"
      ]
    },
    {
      "cell_type": "code",
      "metadata": {
        "id": "Zc4EF0ahsIIZ",
        "colab_type": "code",
        "colab": {
          "base_uri": "https://localhost:8080/",
          "height": 34
        },
        "outputId": "4fa7bb8f-8bb0-46f5-b686-727dedbc0878"
      },
      "source": [
        "casas = [1, 2, 3, 2]\n",
        "conj = set(casas)\n",
        "print (conj)\n"
      ],
      "execution_count": null,
      "outputs": [
        {
          "output_type": "stream",
          "text": [
            "{1, 2, 3}\n"
          ],
          "name": "stdout"
        }
      ]
    },
    {
      "cell_type": "markdown",
      "metadata": {
        "id": "e0iG-ressan_",
        "colab_type": "text"
      },
      "source": [
        "Apesar de termos passado uma lista que tinha duas instâncias do número 2, o número 2 aparece apenas uma vez no conjunto criado a partir dessa lista.\n",
        "Nas listas e tuplas do Python, cada elemento é armazenado em uma ordem específica, mas o mesmo nem sempre é verdadeiro para os conjuntos. Por exemplo, podemos imprimir cada membro de um conjunto iterando-o da seguinte maneira:"
      ]
    },
    {
      "cell_type": "code",
      "metadata": {
        "id": "F6--4NqzshP0",
        "colab_type": "code",
        "colab": {
          "base_uri": "https://localhost:8080/",
          "height": 84
        },
        "outputId": "b6393908-2946-464b-9ae1-7b543ec96137"
      },
      "source": [
        "c = {\"Maria\", \"João\", \"Paulo\", \"Márcia\"}\n",
        "for n in c:\n",
        "  print(n)"
      ],
      "execution_count": null,
      "outputs": [
        {
          "output_type": "stream",
          "text": [
            "Paulo\n",
            "Maria\n",
            "Márcia\n",
            "João\n"
          ],
          "name": "stdout"
        }
      ]
    },
    {
      "cell_type": "markdown",
      "metadata": {
        "id": "CFh7fwszstKN",
        "colab_type": "text"
      },
      "source": [
        "Quando você executa esse código, os elementos podem ser impressos em qualquer ordem possível. Isso ocorre devido ao modo como os conjuntos são armazenados pelo Python - ele controla quais membros estão no conjunto, mas não controla nenhuma ordem específica para esses membros.\n",
        "\n",
        "Vamos ver outro exemplo. Dois conjuntos são iguais quando possuem os mesmos elementos. No Python, você pode usar o operador de igualdade, ==, para verificar se dois conjuntos são iguais:"
      ]
    },
    {
      "cell_type": "code",
      "metadata": {
        "id": "v1OfmA_os32o",
        "colab_type": "code",
        "colab": {
          "base_uri": "https://localhost:8080/",
          "height": 34
        },
        "outputId": "bde47c2e-e26d-4faf-99aa-0789583c1689"
      },
      "source": [
        "s = {3, 4, 5}\n",
        "t = {5, 4, 3}\n",
        "print (s == t)"
      ],
      "execution_count": null,
      "outputs": [
        {
          "output_type": "stream",
          "text": [
            "True\n"
          ],
          "name": "stdout"
        }
      ]
    },
    {
      "cell_type": "markdown",
      "metadata": {
        "id": "FZ0pMuUjtFwv",
        "colab_type": "text"
      },
      "source": [
        "Embora os membros desses dois conjuntos apareçam em ordens diferentes, os conjuntos ainda são iguais, pois possuem os mesmos elementos, independente da ordem."
      ]
    },
    {
      "cell_type": "markdown",
      "metadata": {
        "id": "tudMvfwVJdHN",
        "colab_type": "text"
      },
      "source": [
        "#Adicionado um item ao conjunto\n",
        "## O método add()\n",
        "A sintaxe do método é \n",
        "\n",
        "s.add(x)\n",
        "\n",
        "onde adiciona ao conjunto **s** o elemento **x** se esse ainda não existir no conjunto:"
      ]
    },
    {
      "cell_type": "code",
      "metadata": {
        "id": "EmRZOm5lJsnN",
        "colab_type": "code",
        "colab": {
          "base_uri": "https://localhost:8080/",
          "height": 34
        },
        "outputId": "60d936b4-ec6b-4c55-e61c-6df806cf44e7"
      },
      "source": [
        "c = {\"Maria\", \"João\", \"Paulo\", \"Márcia\"}\n",
        "c.add(\"Clara\")\n",
        "print (c)"
      ],
      "execution_count": null,
      "outputs": [
        {
          "output_type": "stream",
          "text": [
            "{'Clara', 'João', 'Paulo', 'Maria', 'Márcia'}\n"
          ],
          "name": "stdout"
        }
      ]
    },
    {
      "cell_type": "markdown",
      "metadata": {
        "id": "0SswmrhIzA6Q",
        "colab_type": "text"
      },
      "source": [
        "#Operações com conjuntos\n",
        "Operações com conjuntos, como união, interseção e produto cartesiano, permitem combinar conjuntos de certas maneiras metódicas. Essas operações com conjuntos são extremamente úteis em situações reais de solução de problemas quando precisamos considerar vários conjuntos juntos. Mais adiante, veremos como usar essas operações para aplicar uma fórmula a vários conjuntos de dados e calcular as probabilidades de eventos aleatórios."
      ]
    },
    {
      "cell_type": "markdown",
      "metadata": {
        "id": "pKl9h2XKzTUe",
        "colab_type": "text"
      },
      "source": [
        "#União de conjuntos - union()\n",
        "\n",
        "A união de dois conjuntos retorna um conjunto que contém todos os membros distintos dos dois conjuntos.\n",
        "\n",
        "Por exemplo, {1, 2} $\\cup$  {2, 3} resultará em um novo conjunto, {1, 2, 3}. \n",
        "\n",
        "No Python, a união desses dois conjuntos pode ser criada usando a funçao *union()*."
      ]
    },
    {
      "cell_type": "code",
      "metadata": {
        "id": "sMI6I4QZA1HQ",
        "colab_type": "code",
        "colab": {
          "base_uri": "https://localhost:8080/",
          "height": 34
        },
        "outputId": "70058992-5ca5-4f6c-b9fe-4fbc75470b13"
      },
      "source": [
        "s = {1, 2, 3}\n",
        "t = {2, 4, 6}\n",
        "uniao = s.union(t)\n",
        "print (uniao)"
      ],
      "execution_count": null,
      "outputs": [
        {
          "output_type": "stream",
          "text": [
            "{1, 2, 3, 4, 6}\n"
          ],
          "name": "stdout"
        }
      ]
    },
    {
      "cell_type": "markdown",
      "metadata": {
        "id": "KGXaDBYDCNR-",
        "colab_type": "text"
      },
      "source": [
        "Encontramos a união de **s** e **t** aplicando o operador |. O resultado é um terceiro conjunto com todos os membros distintos dos dois conjuntos. Em outras palavras, cada membro deste terceiro conjunto é membro de um ou de ambos conjuntos **s** e **t**."
      ]
    },
    {
      "cell_type": "markdown",
      "metadata": {
        "id": "_Ru85vj6CknD",
        "colab_type": "text"
      },
      "source": [
        "#Interseção de conjuntos - intersection()\n",
        "A interseção entre dois conjuntos cria um novo conjunto a partir dos elementos comuns a ambos. \n",
        "\n",
        "Por exemplo, a interseção dos conjuntos {1, 2} e {2, 3} resultará em um novo conjunto com o único elemento comum, {2}.\n",
        "\n",
        "No Python, usamos a função *intersection()* para encontrar a interseção."
      ]
    },
    {
      "cell_type": "code",
      "metadata": {
        "id": "K2nZMn5HC1_p",
        "colab_type": "code",
        "colab": {
          "base_uri": "https://localhost:8080/",
          "height": 34
        },
        "outputId": "d870a7e2-6c7d-4f67-b633-bcb6bcfc56af"
      },
      "source": [
        "s = {1, 2}\n",
        "t = {2, 3}\n",
        "inter = s.intersection(t)\n",
        "print (inter)"
      ],
      "execution_count": null,
      "outputs": [
        {
          "output_type": "stream",
          "text": [
            "{2}\n"
          ],
          "name": "stdout"
        }
      ]
    },
    {
      "cell_type": "markdown",
      "metadata": {
        "id": "bPw3NFXmDDcI",
        "colab_type": "text"
      },
      "source": [
        "Enquanto a operação de união encontra membros que estão em um conjunto ou outro, a operação de interseção localiza elementos presentes em ambos. Ambas as operações também podem ser aplicadas a mais de dois conjuntos. Por exemplo, veja como você encontra a união de três conjuntos:"
      ]
    },
    {
      "cell_type": "code",
      "metadata": {
        "id": "NFODRk0kDIGf",
        "colab_type": "code",
        "colab": {
          "base_uri": "https://localhost:8080/",
          "height": 34
        },
        "outputId": "7bf93541-58a3-4b72-cf2f-2c77bf78fa2e"
      },
      "source": [
        "s = {1, 2, 3}\n",
        "t = {2, 4, 6}\n",
        "u = {3, 5, 7}\n",
        "uniao = s.union(t).union(u)\n",
        "print (uniao)"
      ],
      "execution_count": null,
      "outputs": [
        {
          "output_type": "stream",
          "text": [
            "{1, 2, 3, 4, 5, 6, 7}\n"
          ],
          "name": "stdout"
        }
      ]
    },
    {
      "cell_type": "markdown",
      "metadata": {
        "id": "okD5xJFNDUvK",
        "colab_type": "text"
      },
      "source": [
        "Da mesma maneira, podemos achar a interseção entre dois ou mais conjuntos."
      ]
    },
    {
      "cell_type": "code",
      "metadata": {
        "id": "QVoJNtKMDYrM",
        "colab_type": "code",
        "colab": {
          "base_uri": "https://localhost:8080/",
          "height": 34
        },
        "outputId": "efbcaff9-ca3b-46a3-87ac-a5679ecee15d"
      },
      "source": [
        "inter = s.intersection(t).intersection(u)\n",
        "print (inter)"
      ],
      "execution_count": null,
      "outputs": [
        {
          "output_type": "stream",
          "text": [
            "set()\n"
          ],
          "name": "stdout"
        }
      ]
    },
    {
      "cell_type": "markdown",
      "metadata": {
        "id": "aUhXwWNTDpUf",
        "colab_type": "text"
      },
      "source": [
        "A interseção dos conjuntos **s**, **t** e **u** acaba sendo um conjunto vazio porque não há elementos que os três conjuntos compartilhem."
      ]
    },
    {
      "cell_type": "markdown",
      "metadata": {
        "id": "_1w_GqIwLuX7",
        "colab_type": "text"
      },
      "source": [
        "#Diferença entre conjuntos - difference()\n",
        "A diferença entre dois conjuntos retorna um conjunto com itens que estão somente no primeiro conjunto que não estão no segundo conjunto.\n",
        "\n",
        "Por exemplo, a diferença dos conjuntos {1, 2, 3, 4} e {2, 3} resultará em um novo conjunto com {1, 4}. "
      ]
    },
    {
      "cell_type": "code",
      "metadata": {
        "id": "O4b1gM0QNwuY",
        "colab_type": "code",
        "colab": {
          "base_uri": "https://localhost:8080/",
          "height": 50
        },
        "outputId": "237149cb-c65b-4c38-b2c4-1f31e78d043c"
      },
      "source": [
        "a = {\"Maria\", \"João\", \"Paulo\", \"Márcia\"}\n",
        "b = {\"Ana\", \"João\", \"Paula\"}\n",
        "r = a.difference(b)\n",
        "print (r)\n",
        "r = b.difference(a)\n",
        "print (r)"
      ],
      "execution_count": null,
      "outputs": [
        {
          "output_type": "stream",
          "text": [
            "{'Maria', 'Paulo', 'Márcia'}\n",
            "{'Paula', 'Ana'}\n"
          ],
          "name": "stdout"
        }
      ]
    },
    {
      "cell_type": "markdown",
      "metadata": {
        "id": "mZNMGXg_OT-W",
        "colab_type": "text"
      },
      "source": [
        "#Diferença simétrica - symmetric_difference()\n",
        "A diferença simétrica cria um conjunto contendo todos os itens que não são comuns aos dois conjuntos."
      ]
    },
    {
      "cell_type": "code",
      "metadata": {
        "id": "5R4-md3fOZNm",
        "colab_type": "code",
        "colab": {
          "base_uri": "https://localhost:8080/",
          "height": 34
        },
        "outputId": "943baeb9-2e3e-4de8-a40d-8a1bf896d62f"
      },
      "source": [
        "a = {\"Maria\", \"João\", \"Paulo\", \"Márcia\"}\n",
        "b = {\"Ana\", \"João\", \"Paula\"}\n",
        "r = a.symmetric_difference(b)\n",
        "print (r)"
      ],
      "execution_count": null,
      "outputs": [
        {
          "output_type": "stream",
          "text": [
            "{'Ana', 'Maria', 'Paulo', 'Paula', 'Márcia'}\n"
          ],
          "name": "stdout"
        }
      ]
    },
    {
      "cell_type": "markdown",
      "metadata": {
        "id": "G-jqSFZY6Tvu",
        "colab_type": "text"
      },
      "source": [
        "#Produto cartesiano\n",
        "\n",
        "Python não tem um operador para realizar o produto carteziado de conjuntos, mas podemos usar o seguinte recurso para consegui-lo."
      ]
    },
    {
      "cell_type": "code",
      "metadata": {
        "id": "-UND1vT96lSu",
        "colab_type": "code",
        "colab": {
          "base_uri": "https://localhost:8080/",
          "height": 70
        },
        "outputId": "88f50d6a-2888-4a2c-cbba-92cb8aad0790"
      },
      "source": [
        " dado1 = {*range(1, 7)} #O operador *, descompacta o range\n",
        " dado2 = {*range(1, 7)}\n",
        " \n",
        "cart_prod = {(a,b) for a in dado1 for b in dado2}\n",
        "print (cart_prod)\n",
        "print (len(cart_prod))"
      ],
      "execution_count": null,
      "outputs": [
        {
          "output_type": "stream",
          "text": [
            "{(1, 3), (6, 6), (5, 6), (2, 1), (6, 2), (1, 6), (5, 1), (2, 5), (1, 2), (3, 3), (5, 5), (4, 4), (6, 3), (1, 5), (3, 6), (2, 2), (4, 1), (1, 1), (6, 4), (3, 2), (2, 6), (5, 4), (4, 5), (5, 2), (1, 4), (2, 3), (4, 2), (6, 5), (3, 5), (5, 3), (4, 6), (6, 1), (3, 1), (4, 3), (3, 4), (2, 4)}\n",
            "36\n"
          ],
          "name": "stdout"
        }
      ]
    },
    {
      "cell_type": "markdown",
      "metadata": {
        "id": "rlu6LT2rc_xa",
        "colab_type": "text"
      },
      "source": [
        "##Explicando o uso do operador (*) asterisco\n",
        "\n",
        "Esse operador é usado para descompactar uma sequência/coleção, transformando-os em elementos separados. \n",
        "Vamos a um exemplo:"
      ]
    },
    {
      "cell_type": "code",
      "metadata": {
        "id": "Sx7ojpqqdZtV",
        "colab_type": "code",
        "colab": {
          "base_uri": "https://localhost:8080/",
          "height": 50
        },
        "outputId": "2a0ebf5f-c976-4ceb-8c0e-65bec415a1df"
      },
      "source": [
        "a = {range(1, 21)}\n",
        "print (f\"Sem asterisco: {a}\")\n",
        "\n",
        "s = {*range(1, 21)}\n",
        "print (f\"Com asterisco: {s}\")"
      ],
      "execution_count": null,
      "outputs": [
        {
          "output_type": "stream",
          "text": [
            "Sem asterisco: {range(1, 21)}\n",
            "Com asterisco: {1, 2, 3, 4, 5, 6, 7, 8, 9, 10, 11, 12, 13, 14, 15, 16, 17, 18, 19, 20}\n"
          ],
          "name": "stdout"
        }
      ]
    },
    {
      "cell_type": "markdown",
      "metadata": {
        "id": "ZbD5XUazO9C7",
        "colab_type": "text"
      },
      "source": [
        "#Alguns métodos para conjuntos\n",
        "\n",
        "| Sintaxe | Descrição  |\n",
        "|------|------|\n",
        "|s.difference_update(t)|Remove os itens que estão no conjunto t do conjunto s.|\n",
        "|s.intersection_update(t)|Faz com que o conjunto s contenha a interseção dele com t.|\n",
        "|s.symetric_difference_update(t)|Faz com que o conjunto s contenha a diferença simétrica dele com t.|\n",
        "|s.isdisjoin(t)|Retorna True se s e t não tem nenhum item em comum.|\n",
        "|s.issubset(t) (s <= t)|Retorna True se s é igual a ou um subconjunto de t.|\n",
        "|s.issuperset(t) (s >= t)|Retorna True se s é igual a ou t é um subconjunto de s.|\n",
        "|s.discard(x)|Remove o item x do conjunto s.|\n",
        "|s.remove(x)|Remove o item x se ele estiver em s se não retorna um KeyError.|\n",
        "|s.update(t)|Adiciona cada item do conjunto s que não está no conjunto t para o conjunto t.|"
      ]
    },
    {
      "cell_type": "markdown",
      "metadata": {
        "id": "JtDnsw0mHNTq",
        "colab_type": "text"
      },
      "source": [
        "#Probabilidade\n",
        "Os conjuntos nos permitem raciocinar sobre os conceitos básicos de probabilidade. Começaremos com algumas definições:\n",
        "\n",
        "**Experimento:** é simplesmente o teste que queremos realizar. Realizamos o teste porque estamos interessados na probabilidade de cada resultado possível. Rolar um dado, jogar uma moeda e puxar uma carta de um baralho de cartas são exemplos de experimentos. Uma única execução de um experimento é chamada de teste.\n",
        "\n",
        "**Espaço amostral:** são todos os resultados possíveis de um experimento que formam um conjunto, que geralmente chamamos de **S** em nossas fórmulas. Por exemplo, quando um dado de seis lados é rolado uma vez, o espaço da amostra é S = {1, 2, 3, 4, 5, 6}.\n",
        "\n",
        "**Evento:** um evento é um conjunto de resultados dos quais queremos calcular a probabilidade e que formam um subconjunto do espaço amostral. Por exemplo, podemos querer saber a probabilidade de um resultado específico, como sair um 3, ou a probabilidade de um conjunto de vários resultados, como sair um número par (2, 4 ou 6). Usaremos a letra **E** em nossas fórmulas para representar um evento."
      ]
    },
    {
      "cell_type": "markdown",
      "metadata": {
        "id": "Xkd5kgW-IPfh",
        "colab_type": "text"
      },
      "source": [
        "Se houver uma distribuição uniforme - ou seja, se cada resultado no espaço amostral for igualmente provável de ocorrer, a probabilidade de ocorrência de um evento, **P(E)**, é calculada usando a seguinte fórmula (falarei sobre distribuição não-uniforme depois).\n",
        "\n",
        "$P(E)=\\frac{n(E)}{n(S)}$\n",
        "\n",
        "Aqui, n(E) é a cardinalidade do conjunto **E**, que é o conjunto de eventos possíveis e o **n(S)** é a cardinalidade do espaço amostral. O valor de **P(E)** varia de **0** a **1**, com valores mais altos indicando uma chance maior do evento acontecer.\n",
        "\n",
        "Podemos aplicar esta fórmula a uma jogada do dado,  para calcular a probabilidade de um número específico,por exemplo, 3.\n",
        "\n",
        "S = {1, 2, 3, 4, 5, 6}\n",
        "\n",
        "E = {3}\n",
        "\n",
        "n(S) = 6\n",
        "\n",
        "n(E) = 1\n",
        "\n",
        "$P(E) = \\frac{1}{6}$"
      ]
    },
    {
      "cell_type": "markdown",
      "metadata": {
        "id": "m1VVOj45KcPg",
        "colab_type": "text"
      },
      "source": [
        "Isso confirma o que era óbvio o tempo todo: a probabilidade de uma determinada jogada é de 1/6. Você poderia fazer esse cálculo facilmente, mas podemos usar esta fórmula para escrever a seguinte função no Python que calcula a probabilidade de qualquer evento, *event*, em qualquer espaço amostral, *space*:"
      ]
    },
    {
      "cell_type": "code",
      "metadata": {
        "id": "NbPLEIyDKvaQ",
        "colab_type": "code",
        "colab": {
          "base_uri": "https://localhost:8080/",
          "height": 34
        },
        "outputId": "0ef419cd-9b59-4126-85b6-cdf13e95a19b"
      },
      "source": [
        "def probability(space, event):\n",
        "  return len(event)/len(space)\n",
        "\n",
        "s = {1, 2, 3, 4, 5, 6}\n",
        "e = {2, 4, 6}\n",
        "print (f\"Probabilidade: {probability(s, e)*100}%\")"
      ],
      "execution_count": null,
      "outputs": [
        {
          "output_type": "stream",
          "text": [
            "Probabilidade: 50.0%\n"
          ],
          "name": "stdout"
        }
      ]
    },
    {
      "cell_type": "markdown",
      "metadata": {
        "id": "mkFsx5s_O1Hr",
        "colab_type": "text"
      },
      "source": [
        "Nesta função, os dois argumentos *space* (espaço amostral) e *event* (evento), não precisam ser conjuntos (set). Eles também podem ser listas ou qualquer outro objeto Python que suporte a função *len ()*."
      ]
    },
    {
      "cell_type": "markdown",
      "metadata": {
        "id": "hAmxwBq6p55_",
        "colab_type": "text"
      },
      "source": [
        "#Probabilidade de um evento A ou evento B\n",
        "Digamos que estamos interessados em dois eventos possíveis e queremos encontrar a probabilidade de um deles acontecer. Por exemplo, voltando a uma simples rolagem de dados, vamos considerar os dois eventos a seguir:\n",
        "\n",
        "A = O número é primo.\n",
        "\n",
        "B = O número é ímpar.\n",
        "\n",
        "Como anteriormente, o espaço de amostra, **S**, é {1, 2, 3, 4, 5, 6}. O evento **A** pode ser representado como o subconjunto {2, 3, 5}, o conjunto de números primos no espaço amostral e o evento **B** pode ser representado como {1, 3, 5}, os números ímpares no espaço amostral. Para calcular a probabilidade de qualquer conjunto de resultados, podemos encontrar a probabilidade da união dos dois conjuntos. Em nossa notação, poderíamos dizer:\n",
        "\n",
        "E = {2, 3, 5} $\\cup$ {1, 3, 5} = {1, 2, 3, 5}\n",
        "\n",
        "$P(E)=\\frac{n(E)}{n(S)}$ = $\\frac{4}{6}$ = $\\frac{2}{3}$\n",
        "\n",
        "Agora, vamos ver como fazer isso em Python."
      ]
    },
    {
      "cell_type": "code",
      "metadata": {
        "id": "PT6KvHygrm9d",
        "colab_type": "code",
        "colab": {
          "base_uri": "https://localhost:8080/",
          "height": 67
        },
        "outputId": "ad5bbfd8-cb0e-4b47-dae3-2b02e498972f"
      },
      "source": [
        "s = {1, 2, 3, 4, 5, 6}\n",
        "a = {2, 3, 5}\n",
        "b = {1, 3, 5}\n",
        "e = a.union(b)\n",
        "p = len(e)/len(s)\n",
        "\n",
        "print(f\"Espaço amostral: {s}\")\n",
        "print(f\"Evento: {e}\")\n",
        "print(f\"Probabilidade de sair um número primo ou ímpar: {p * 100:.2f}%\")"
      ],
      "execution_count": null,
      "outputs": [
        {
          "output_type": "stream",
          "text": [
            "Espaço amostral: {1, 2, 3, 4, 5, 6}\n",
            "Evento: {1, 2, 3, 5}\n",
            "Probabilidade de sair um número primo ou ímpar: 66.67%\n"
          ],
          "name": "stdout"
        }
      ]
    },
    {
      "cell_type": "markdown",
      "metadata": {
        "id": "ld9C18Hw01p7",
        "colab_type": "text"
      },
      "source": [
        "#Probabilidade de um evento A e evento B\n",
        "Digamos que você tenha dois eventos em mente e deseje calcular as chances de os dois acontecerem, por exemplo, as chances de uma jogada de dado sair um número primo e ímpar. Para determinar isso, você calcula a probabilidade da interseção dos dois conjuntos de eventos.\n",
        "\n",
        "E = A $\\cap$ B = {2, 3, 5} $\\cap$ {1, 3, 5} = {3, 5}\n",
        "\n",
        "Podemos calcular a probabilidade de **A** e **B** acontecerem usando o método *intersection()*, que é semelhante ao que fizemos no caso anterior."
      ]
    },
    {
      "cell_type": "code",
      "metadata": {
        "id": "f6-ri1bx1QZS",
        "colab_type": "code",
        "colab": {
          "base_uri": "https://localhost:8080/",
          "height": 67
        },
        "outputId": "11b561d5-715b-40b1-e745-bdad1fbdaaf4"
      },
      "source": [
        "s = {1, 2, 3, 4, 5, 6}\n",
        "a = {2, 3, 5}\n",
        "b = {1, 3, 5}\n",
        "e = a.intersection(b)\n",
        "p = len(e)/len(s)\n",
        "\n",
        "print(f\"Espaço amostral: {s}\")\n",
        "print(f\"Evento: {e}\")\n",
        "print(f\"Probabilidade de sair um número primo e ímpar: {p * 100:.2f}%\")"
      ],
      "execution_count": null,
      "outputs": [
        {
          "output_type": "stream",
          "text": [
            "Espaço amostral: {1, 2, 3, 4, 5, 6}\n",
            "Evento: {3, 5}\n",
            "Probabilidade de sair um número primo e ímpar: 33.33%\n"
          ],
          "name": "stdout"
        }
      ]
    },
    {
      "cell_type": "markdown",
      "metadata": {
        "id": "GBx1jdaK15Po",
        "colab_type": "text"
      },
      "source": [
        "#Gerando números aleatórios\n",
        "Os conceitos de probabilidade nos permitem raciocinar e calcular a chance de um evento acontecer. Para simular esses eventos, como um simples jogo de dados, usando programas de computador, precisamos de uma maneira de gerar números aleatórios."
      ]
    },
    {
      "cell_type": "markdown",
      "metadata": {
        "id": "istwLwOZ2LgR",
        "colab_type": "text"
      },
      "source": [
        "##Simulando uma rodada\n",
        "Para simular um dado de seis lados, precisamos de uma maneira de gerar um inteiro aleatório entre 1 e 6. O módulo *random* na biblioteca padrão do Python nos fornece várias funções para gerar números aleatórios. Duas funções que usaremos aqui são a função *randint ()*, que gera um número inteiro aleatório em um determinado intervalo, e a função *random ()*, que gera um número de ponto flutuante entre 0 e 1. Vamos ver um exemplo rápido de como a função *randint ()* funciona."
      ]
    },
    {
      "cell_type": "code",
      "metadata": {
        "id": "WvrjBm_92ibg",
        "colab_type": "code",
        "colab": {
          "base_uri": "https://localhost:8080/",
          "height": 34
        },
        "outputId": "122c3858-6625-4ee8-c76e-9db5a3f2fc2c"
      },
      "source": [
        "from random import randint\n",
        "\n",
        "print(randint(1, 6)) #randint gera números aleatórios inteiros"
      ],
      "execution_count": null,
      "outputs": [
        {
          "output_type": "stream",
          "text": [
            "5\n"
          ],
          "name": "stdout"
        }
      ]
    },
    {
      "cell_type": "markdown",
      "metadata": {
        "id": "Q6WAJbu12qCi",
        "colab_type": "text"
      },
      "source": [
        "A função *randint ()* usa dois números inteiros como argumentos e retorna um número inteiro aleatório que fica entre esses dois números (ambos inclusive). Neste exemplo, passamos no intervalo (1, 6) e ele retornou o número 4, mas, se o chamarmos novamente, provavelmente obteremos um número diferente.\n",
        "\n",
        "Experimente executar o código acima mais de uma vez e veja o que acontece.\n",
        "\n",
        "Chamar a função *randint ()* nos permite simular a rolagem do nosso dado virtual. Toda vez que chamarmos essa função, obteremos um número entre 1 e 6, como faria se estivéssemos rolando um dado de seis lados. Observe que *randint ()* espera que você forneça o número mais baixo primeiro, portanto, *randint (6, 1)* não é válido."
      ]
    },
    {
      "cell_type": "markdown",
      "metadata": {
        "id": "5Skp26v83R_k",
        "colab_type": "text"
      },
      "source": [
        "#Simulando um jogo de pontuação\n",
        "Nosso próximo programa simulará um jogo simples de pontuação, onde continuaremos jogando um dado de seis lados até produzirmos um total de 20 pontos."
      ]
    },
    {
      "cell_type": "code",
      "metadata": {
        "id": "xyZpd0cD4Lqy",
        "colab_type": "code",
        "colab": {
          "base_uri": "https://localhost:8080/",
          "height": 118
        },
        "outputId": "bb069f68-a4bb-46bf-f6f2-bb64ef0e2024"
      },
      "source": [
        "import random\n",
        "from random import randint\n",
        "\n",
        "pontos = 20\n",
        "\n",
        "def jogada():\n",
        "  return random.randint(1, 6)\n",
        "\n",
        "soma = 0\n",
        "num_jogadas = 0\n",
        "\n",
        "while soma < pontos:\n",
        "  num = jogada()\n",
        "  num_jogadas += 1\n",
        "  print(f\"Número: {num}\")\n",
        "  soma += num\n",
        "\n",
        "print(f\"Total de {soma} pontos em {num_jogadas} rodadas\")"
      ],
      "execution_count": null,
      "outputs": [
        {
          "output_type": "stream",
          "text": [
            "Número: 4\n",
            "Número: 4\n",
            "Número: 6\n",
            "Número: 5\n",
            "Número: 4\n",
            "Total de 23 pontos em 5 rodadas\n"
          ],
          "name": "stdout"
        }
      ]
    },
    {
      "cell_type": "markdown",
      "metadata": {
        "id": "u4PkIIJA6PU_",
        "colab_type": "text"
      },
      "source": [
        "Primeiro, definimos a mesma função *jogada()*. Em seguida, usamos um loop *while* para chamar essa função, acompanhar o número de jogadas, imprimir o número que saiu no dado e somar a pontuação total. O loop se repete até que a pontuação chegue a 20 e, em seguida, o programa imprime a pontuação total e o número de jogadas."
      ]
    },
    {
      "cell_type": "markdown",
      "metadata": {
        "id": "_MREg2oyg27M",
        "colab_type": "text"
      },
      "source": [
        "#Exercício 1\n",
        "Escreva um programa que calcule a probabilidade de sair um número ímpar em uma jogada de um dado de 10 lados. Imprima o espaço amostral e o evento."
      ]
    },
    {
      "cell_type": "code",
      "metadata": {
        "id": "v1z1F7Z1Lc1w",
        "colab_type": "code",
        "colab": {
          "base_uri": "https://localhost:8080/",
          "height": 34
        },
        "outputId": "5007caff-1196-4310-dc50-519f208514a5"
      },
      "source": [
        "from random import randint\n",
        "\n",
        "dado = {*range(1,11)}\n",
        "\n",
        "impar = set()\n",
        "\n",
        "for num in dado:\n",
        "  if num % 2 != 0:\n",
        "    impar.add(num)\n",
        "\n",
        "prob = len(impar)/len(dado)\n",
        "\n",
        "print(f\"O espaço amostral é {dado}; o evento, {impar}; a probabilidade, {100*prob:.2f}%.\")"
      ],
      "execution_count": null,
      "outputs": [
        {
          "output_type": "stream",
          "text": [
            "O espaço amostral é {1, 2, 3, 4, 5, 6, 7, 8, 9, 10}; o evento, {1, 3, 5, 7, 9}; a probabilidade, 50.00%.\n"
          ],
          "name": "stdout"
        }
      ]
    },
    {
      "cell_type": "markdown",
      "metadata": {
        "id": "Po1qn_-EhenO",
        "colab_type": "text"
      },
      "source": [
        "#Exercício 2\n",
        "Escreva um programa que calcule a probabilidade de ao lançarmos dois dados ao mesmo tempo, sairem dois números iguais. Imprima o espaço amostral, o evento e seus respectivos tamanhos."
      ]
    },
    {
      "cell_type": "code",
      "metadata": {
        "id": "S6i5T1U8Mc7f",
        "colab_type": "code",
        "colab": {
          "base_uri": "https://localhost:8080/",
          "height": 70
        },
        "outputId": "31427b35-ff7e-4c2e-dc59-ee8c6b76ccba"
      },
      "source": [
        "def cart(conjuntoA, conjuntoB):\n",
        "  prod_cart = [(a,b) for a in conjuntoA for b in conjuntoB]\n",
        "  return prod_cart\n",
        "\n",
        "dado = {*range(1,7)}\n",
        "\n",
        "espaco_amostral = cart(dado, dado)\n",
        "\n",
        "evento = []\n",
        "\n",
        "for jogada in espaco_amostral:\n",
        "  if jogada[0] == jogada[1]:\n",
        "    evento.append(jogada)\n",
        "\n",
        "prob = len(evento)/len(espaco_amostral)\n",
        "\n",
        "print(f\"O espaço amostral é {espaco_amostral}; o evento, {evento}; eles têm, respectivamente, tamanhos {len(espaco_amostral)} e {len(evento)}.\")\n",
        "\n",
        "print(f\"A probabilidade de o evento ocorrer é, assim, {prob*100:.2f}%.\")\n",
        "\n"
      ],
      "execution_count": null,
      "outputs": [
        {
          "output_type": "stream",
          "text": [
            "O espaço amostral é [(1, 1), (1, 2), (1, 3), (1, 4), (1, 5), (1, 6), (2, 1), (2, 2), (2, 3), (2, 4), (2, 5), (2, 6), (3, 1), (3, 2), (3, 3), (3, 4), (3, 5), (3, 6), (4, 1), (4, 2), (4, 3), (4, 4), (4, 5), (4, 6), (5, 1), (5, 2), (5, 3), (5, 4), (5, 5), (5, 6), (6, 1), (6, 2), (6, 3), (6, 4), (6, 5), (6, 6)]; o evento, [(1, 1), (2, 2), (3, 3), (4, 4), (5, 5), (6, 6)]; eles têm, respectivamente, tamanhos 36 e 6.\n",
            "A probabilidade de o evento ocorrer é, assim, 16.67%.\n"
          ],
          "name": "stdout"
        }
      ]
    },
    {
      "cell_type": "markdown",
      "metadata": {
        "id": "1rmmZTa-hx-q",
        "colab_type": "text"
      },
      "source": [
        "#Exercício 3\n",
        "Escreva um programa que calcule a probabilidade de ao sortear um número de 1 a 20, esse número seja múltiplo de 2. Imprima o espaço amostral e o evento."
      ]
    },
    {
      "cell_type": "code",
      "metadata": {
        "id": "U6z9jreHN6-r",
        "colab_type": "code",
        "colab": {
          "base_uri": "https://localhost:8080/",
          "height": 54
        },
        "outputId": "99adbc0d-940a-49a1-d767-abe82fa9fd14"
      },
      "source": [
        "from random import randint\n",
        "\n",
        "amostra = {*range(1, 21)}\n",
        "\n",
        "evento = []\n",
        "\n",
        "for num in amostra:\n",
        "  if num % 2 == 0:\n",
        "    evento.append(num)\n",
        "\n",
        "prob = len(evento)/len(amostra)\n",
        "\n",
        "print(f\"O espaço amostral é {amostra}; o evento, {evento}; a probabilidade de ele ocorrer, {prob*100:.2f}%.\")\n"
      ],
      "execution_count": null,
      "outputs": [
        {
          "output_type": "stream",
          "text": [
            "O espaço amostral é {1, 2, 3, 4, 5, 6, 7, 8, 9, 10, 11, 12, 13, 14, 15, 16, 17, 18, 19, 20}; o evento, [2, 4, 6, 8, 10, 12, 14, 16, 18, 20]; a probabilidade de ele ocorrer, 50.00%.\n"
          ],
          "name": "stdout"
        }
      ]
    },
    {
      "cell_type": "markdown",
      "metadata": {
        "id": "DOue7UnZGMq5",
        "colab_type": "text"
      },
      "source": [
        "#Exercício 4\n",
        "Escreva um programa que calcule a probabilidade de uma moeda ser lançada 5 vezes e sair \"cara\" 3 vezes. Imprima o espaço amostral, o evento e seus respectivos tamanhos."
      ]
    },
    {
      "cell_type": "code",
      "metadata": {
        "id": "IHR9Co1RO1ZU",
        "colab_type": "code",
        "colab": {
          "base_uri": "https://localhost:8080/",
          "height": 70
        },
        "outputId": "735fe2ac-c2a2-48c2-ea42-7ed59dcdc79c"
      },
      "source": [
        "moeda = {\"K\": 0, \"C\": 1}\n",
        "\n",
        "\n",
        "amostra = set()\n",
        "\n",
        "#Por um lado,\n",
        "espaco = {(a,b,c,d,e) for a in [0, 1] for b in [0,1] for c in [0,1] for d in [0,1] for e in [0,1]}\n",
        "\n",
        "#por outro (possível, mas inadequado),\n",
        "\n",
        "while len(amostra) < 32:\n",
        "  a = [randint(0, 1) for i in range(5)]\n",
        "  a = tuple(a)\n",
        "  amostra.add(a)\n",
        "\n",
        "evento = []\n",
        "\n",
        "for lance in amostra:\n",
        "  if sum(lance) == 3:\n",
        "    evento.append(lance)\n",
        "\n",
        "prob = len(evento)/len(amostra)\n",
        "\n",
        "print(f\"O espaço amostral é {amostra}; \\n o evento, {evento}; a probabilidade de ele ocorrer, {prob*100:.2f}%.\")\n",
        "\n"
      ],
      "execution_count": null,
      "outputs": [
        {
          "output_type": "stream",
          "text": [
            "O espaço amostral é {(1, 1, 0, 1, 1), (1, 1, 1, 0, 1), (1, 0, 1, 1, 0), (1, 0, 0, 0, 0), (0, 0, 0, 0, 1), (1, 0, 0, 1, 0), (0, 0, 1, 1, 1), (1, 0, 1, 0, 0), (0, 0, 0, 1, 1), (0, 0, 1, 0, 1), (0, 1, 0, 0, 0), (0, 1, 1, 1, 0), (0, 1, 1, 0, 0), (0, 1, 0, 1, 0), (1, 1, 0, 1, 0), (1, 1, 1, 0, 0), (1, 1, 1, 1, 0), (1, 1, 0, 0, 0), (1, 1, 0, 0, 1), (1, 0, 1, 0, 1), (1, 0, 0, 1, 1), (0, 1, 0, 0, 1), (0, 0, 1, 0, 0), (0, 0, 0, 1, 0), (1, 0, 1, 1, 1), (1, 0, 0, 0, 1), (0, 0, 1, 1, 0), (0, 0, 0, 0, 0), (0, 1, 1, 0, 1), (0, 1, 0, 1, 1), (1, 1, 1, 1, 1), (0, 1, 1, 1, 1)}; \n",
            " o evento, [(1, 0, 1, 1, 0), (0, 0, 1, 1, 1), (0, 1, 1, 1, 0), (1, 1, 0, 1, 0), (1, 1, 1, 0, 0), (1, 1, 0, 0, 1), (1, 0, 1, 0, 1), (1, 0, 0, 1, 1), (0, 1, 1, 0, 1), (0, 1, 0, 1, 1)]; a probabilidade de ele ocorrer, 31.25%.\n"
          ],
          "name": "stdout"
        }
      ]
    },
    {
      "cell_type": "code",
      "metadata": {
        "id": "XTAaNnp7TSyE",
        "colab_type": "code",
        "colab": {}
      },
      "source": [
        "def cart_n(n, conjunto):\n",
        "  if type(conjunto) != set:\n",
        "    return None\n",
        "  my_set = list(conjunto)\n",
        "  index_set = set()\n",
        "  cartesian = []\n",
        "  while len(index_set) < len(my_set)**n:\n",
        "    index = [randint(0, len(my_set) - 1) for count in range(n)]\n",
        "    index = tuple(index)\n",
        "    index_set.add(index)\n",
        "  for index in index_set:\n",
        "    element = [my_set[j] for j in index]\n",
        "    element = tuple(element)\n",
        "    cartesian.append(element)\n",
        "  return cartesian\n"
      ],
      "execution_count": null,
      "outputs": []
    }
  ]
}
