{
  "nbformat": 4,
  "nbformat_minor": 0,
  "metadata": {
    "colab": {
      "name": "Copy of Python05.ipynb",
      "provenance": [],
      "toc_visible": true
    },
    "kernelspec": {
      "name": "python3",
      "display_name": "Python 3"
    }
  },
  "cells": [
    {
      "cell_type": "markdown",
      "metadata": {
        "id": "8GkFdt8HyekW",
        "colab_type": "text"
      },
      "source": [
        "#Introdução às listas\n",
        "Uma Lista é uma estrutura que pode conter itens. Em Python temos um objeto do tipo *list* e todos os elementos que estiverem delimitados por colchetes, serão interpretados pela linguagem, como um conjunto de itens pertencentes a uma lista.\n",
        "Existem várias maneiras de criar uma nova lista; a mais simples é envolver os elementos em colchetes ([ e ]):"
      ]
    },
    {
      "cell_type": "code",
      "metadata": {
        "id": "bFiy9-doN0H8",
        "colab_type": "code",
        "colab": {
          "base_uri": "https://localhost:8080/",
          "height": 34
        },
        "outputId": "cc00c23d-af18-472e-e276-37829d0095af"
      },
      "source": [
        "[10, 20, 30, 40]"
      ],
      "execution_count": null,
      "outputs": [
        {
          "output_type": "execute_result",
          "data": {
            "text/plain": [
              "[10, 20, 30, 40]"
            ]
          },
          "metadata": {
            "tags": []
          },
          "execution_count": 1
        }
      ]
    },
    {
      "cell_type": "code",
      "metadata": {
        "id": "zE_W_S8vOA0w",
        "colab_type": "code",
        "colab": {
          "base_uri": "https://localhost:8080/",
          "height": 34
        },
        "outputId": "ae236117-c2cd-47d4-c411-a9f9ace28833"
      },
      "source": [
        "[\"amarelo\", \"vermelho\", \"azul\"]"
      ],
      "execution_count": null,
      "outputs": [
        {
          "output_type": "execute_result",
          "data": {
            "text/plain": [
              "['amarelo', 'vermelho', 'azul']"
            ]
          },
          "metadata": {
            "tags": []
          },
          "execution_count": 2
        }
      ]
    },
    {
      "cell_type": "markdown",
      "metadata": {
        "id": "sreiNKyGOKVY",
        "colab_type": "text"
      },
      "source": [
        "O primeiro exemplo é uma lista de quatro inteiros. O segundo é uma lista de três *strings*.\n"
      ]
    },
    {
      "cell_type": "code",
      "metadata": {
        "id": "FlPovqpnOVbL",
        "colab_type": "code",
        "colab": {
          "base_uri": "https://localhost:8080/",
          "height": 34
        },
        "outputId": "1a44daea-9039-414d-9eba-bcd7cede33c2"
      },
      "source": [
        "[\"amarelo\", 2.3, 20, [30, 40]]"
      ],
      "execution_count": null,
      "outputs": [
        {
          "output_type": "execute_result",
          "data": {
            "text/plain": [
              "['amarelo', 2.3, 20, [30, 40]]"
            ]
          },
          "metadata": {
            "tags": []
          },
          "execution_count": 3
        }
      ]
    },
    {
      "cell_type": "markdown",
      "metadata": {
        "id": "eaeJ-7OfOgh0",
        "colab_type": "text"
      },
      "source": [
        "Os elementos de uma lista não necessitam ser do mesmo tipo. Neste exemplo a lista contém uma *string*, um valor *float*, um valor inteiro e uma outra lista.\n",
        "Uma lista dentro de outra lista é dita estar aninhada.\n",
        "Podemos atribuir uma lista a uma variável."
      ]
    },
    {
      "cell_type": "code",
      "metadata": {
        "id": "YKJziHcgVd67",
        "colab_type": "code",
        "colab": {
          "base_uri": "https://localhost:8080/",
          "height": 84
        },
        "outputId": "e5821989-42b0-42e1-929d-51a51c66aa74"
      },
      "source": [
        "supermercado = [\"arroz\", \"feijao\", \"farinha\", \"sal\"]\n",
        "farmacia = [\"sabonete\", \"cotonete\", \"algodao\"]\n",
        "idade = [10, 12, 15]\n",
        "print (supermercado)\n",
        "print (farmacia)\n",
        "print (idade)\n",
        "print (supermercado, farmacia, idade)"
      ],
      "execution_count": null,
      "outputs": [
        {
          "output_type": "stream",
          "text": [
            "['arroz', 'feijao', 'farinha', 'sal']\n",
            "['sabonete', 'cotonete', 'algodao']\n",
            "[10, 12, 15]\n",
            "['arroz', 'feijao', 'farinha', 'sal'] ['sabonete', 'cotonete', 'algodao'] [10, 12, 15]\n"
          ],
          "name": "stdout"
        }
      ]
    },
    {
      "cell_type": "markdown",
      "metadata": {
        "id": "TJ29xBLJWaGm",
        "colab_type": "text"
      },
      "source": [
        "###Alterando uma lista\n",
        "Podemos acessar os elementos de uma lista utilizando o operador de colchete. A expressão dentro dos colchetes especifica o índice e ele começa em 0 (zero)"
      ]
    },
    {
      "cell_type": "code",
      "metadata": {
        "id": "MAVC5MgdXI7N",
        "colab_type": "code",
        "colab": {
          "base_uri": "https://localhost:8080/",
          "height": 34
        },
        "outputId": "7e6b3b5c-f6f4-44fb-d194-fff1f3f12a9b"
      },
      "source": [
        "supermercado[0]"
      ],
      "execution_count": null,
      "outputs": [
        {
          "output_type": "execute_result",
          "data": {
            "text/plain": [
              "'arroz'"
            ]
          },
          "metadata": {
            "tags": []
          },
          "execution_count": 5
        }
      ]
    },
    {
      "cell_type": "code",
      "metadata": {
        "id": "Kyv0vN8AXhrx",
        "colab_type": "code",
        "colab": {
          "base_uri": "https://localhost:8080/",
          "height": 34
        },
        "outputId": "14333a49-34f1-44a8-bde8-09c6911b4482"
      },
      "source": [
        "farmacia[2]"
      ],
      "execution_count": null,
      "outputs": [
        {
          "output_type": "execute_result",
          "data": {
            "text/plain": [
              "'algodao'"
            ]
          },
          "metadata": {
            "tags": []
          },
          "execution_count": 6
        }
      ]
    },
    {
      "cell_type": "code",
      "metadata": {
        "id": "AJHJ2PJQXtjc",
        "colab_type": "code",
        "colab": {
          "base_uri": "https://localhost:8080/",
          "height": 34
        },
        "outputId": "8cf081f7-4b43-4b8f-dcac-771d39a5b547"
      },
      "source": [
        "supermercado[0] = \"macarrao\"\n",
        "print (supermercado)"
      ],
      "execution_count": null,
      "outputs": [
        {
          "output_type": "stream",
          "text": [
            "['macarrao', 'feijao', 'farinha', 'sal']\n"
          ],
          "name": "stdout"
        }
      ]
    },
    {
      "cell_type": "markdown",
      "metadata": {
        "id": "J-BSc-xTZRwn",
        "colab_type": "text"
      },
      "source": [
        "###O operador *in*\n",
        "\n",
        "Se você quiser descobrir se algum elemento consta em uma lista, você pode usar o operador *in*."
      ]
    },
    {
      "cell_type": "code",
      "metadata": {
        "id": "Oa_iJjZPZbE7",
        "colab_type": "code",
        "colab": {
          "base_uri": "https://localhost:8080/",
          "height": 34
        },
        "outputId": "76cf4d24-2fb4-4f68-e974-b0d3bc1252c3"
      },
      "source": [
        "\"algodao\" in farmacia"
      ],
      "execution_count": null,
      "outputs": [
        {
          "output_type": "execute_result",
          "data": {
            "text/plain": [
              "True"
            ]
          },
          "metadata": {
            "tags": []
          },
          "execution_count": 8
        }
      ]
    },
    {
      "cell_type": "markdown",
      "metadata": {
        "id": "lpf6Q8maZo_T",
        "colab_type": "text"
      },
      "source": [
        "###Percorrendo uma lista\n",
        "A forma mais comum de percorrer os elementos em uma lista é com um *for*."
      ]
    },
    {
      "cell_type": "code",
      "metadata": {
        "id": "hTuzuAOpZ3Hv",
        "colab_type": "code",
        "colab": {
          "base_uri": "https://localhost:8080/",
          "height": 84
        },
        "outputId": "08722bbc-c94e-4703-8636-31f6b643433f"
      },
      "source": [
        "for i in supermercado:\n",
        "  print (i)"
      ],
      "execution_count": null,
      "outputs": [
        {
          "output_type": "stream",
          "text": [
            "macarrao\n",
            "feijao\n",
            "farinha\n",
            "sal\n"
          ],
          "name": "stdout"
        }
      ]
    },
    {
      "cell_type": "markdown",
      "metadata": {
        "id": "CsjXXcGIaM3Z",
        "colab_type": "text"
      },
      "source": [
        "Isto é útil para quando você só precisa ler os elementos da lista. Mas se você quer escrever ou atualizar os elementos, você precisa dos índices. Uma forma comum de fazer isso é combinar as funções integradas *range()* e *len()*."
      ]
    },
    {
      "cell_type": "code",
      "metadata": {
        "id": "cfxk1hUWa2Pk",
        "colab_type": "code",
        "colab": {
          "base_uri": "https://localhost:8080/",
          "height": 34
        },
        "outputId": "852c5cc8-d0e0-413f-e6da-02aae0a03a75"
      },
      "source": [
        "for i in range(len(supermercado)):\n",
        "  supermercado[i] = str(i) + supermercado[i]\n",
        "print (supermercado)"
      ],
      "execution_count": null,
      "outputs": [
        {
          "output_type": "stream",
          "text": [
            "['0macarrao', '1feijao', '2farinha', '3sal']\n"
          ],
          "name": "stdout"
        }
      ]
    },
    {
      "cell_type": "markdown",
      "metadata": {
        "id": "AoMsAIzfcAV0",
        "colab_type": "text"
      },
      "source": [
        "Este *for* percorre a lista e atualiza cada elemento. A função *len( retorna o número de elementos na lista. A função *range* retorna uma lista de índices de 0 a n-1, em que **n** é o comprimento da lista. Cada vez que passa pelo loop, **i** recebe o índice do próximo elemento. A instrução de atribuição no corpo usa **i** para ler o valor antigo do elemento e atribuir o novo valor."
      ]
    },
    {
      "cell_type": "code",
      "metadata": {
        "id": "OaSmCyBkbqQo",
        "colab_type": "code",
        "colab": {
          "base_uri": "https://localhost:8080/",
          "height": 34
        },
        "outputId": "7508e286-4f36-45f7-fa8b-04c90f55201b"
      },
      "source": [
        "for i in range(len(idade)):\n",
        "  idade[i] *= 10\n",
        "print (idade)"
      ],
      "execution_count": null,
      "outputs": [
        {
          "output_type": "stream",
          "text": [
            "[100, 120, 150]\n"
          ],
          "name": "stdout"
        }
      ]
    },
    {
      "cell_type": "markdown",
      "metadata": {
        "id": "ABadTxREcYQ0",
        "colab_type": "text"
      },
      "source": [
        "Apesar de uma lista poder conter outra lista, a lista aninhada ainda conta como um único elemento."
      ]
    },
    {
      "cell_type": "code",
      "metadata": {
        "id": "f9rubbzqccEy",
        "colab_type": "code",
        "colab": {
          "base_uri": "https://localhost:8080/",
          "height": 34
        },
        "outputId": "ac691cf8-db49-4009-9616-d9ae7b062868"
      },
      "source": [
        "casas = [15, 16, 17, [18, 19]]\n",
        "len (casas)"
      ],
      "execution_count": null,
      "outputs": [
        {
          "output_type": "execute_result",
          "data": {
            "text/plain": [
              "4"
            ]
          },
          "metadata": {
            "tags": []
          },
          "execution_count": 13
        }
      ]
    },
    {
      "cell_type": "markdown",
      "metadata": {
        "id": "5n1AhVZqcsx5",
        "colab_type": "text"
      },
      "source": [
        "###Operações com listas\n",
        "O operador **+** concatena listas:"
      ]
    },
    {
      "cell_type": "code",
      "metadata": {
        "id": "aj2dE8Skc-qA",
        "colab_type": "code",
        "colab": {
          "base_uri": "https://localhost:8080/",
          "height": 34
        },
        "outputId": "ab255ada-c361-4dff-99df-df8c384ce6d0"
      },
      "source": [
        "a = [1, 2, 3]\n",
        "b = [4, 5, 6]\n",
        "c = a + b\n",
        "c"
      ],
      "execution_count": null,
      "outputs": [
        {
          "output_type": "execute_result",
          "data": {
            "text/plain": [
              "[1, 2, 3, 4, 5, 6]"
            ]
          },
          "metadata": {
            "tags": []
          },
          "execution_count": 14
        }
      ]
    },
    {
      "cell_type": "markdown",
      "metadata": {
        "id": "CBitAY3AdQ52",
        "colab_type": "text"
      },
      "source": [
        "O operador **\\*** repete a lista um dado número de vezes:"
      ]
    },
    {
      "cell_type": "code",
      "metadata": {
        "id": "oSQybqsBdWD6",
        "colab_type": "code",
        "colab": {
          "base_uri": "https://localhost:8080/",
          "height": 34
        },
        "outputId": "c6f07221-6919-41c0-bb08-3fb64ab6a7b2"
      },
      "source": [
        "[0] * 4"
      ],
      "execution_count": null,
      "outputs": [
        {
          "output_type": "execute_result",
          "data": {
            "text/plain": [
              "[0, 0, 0, 0]"
            ]
          },
          "metadata": {
            "tags": []
          },
          "execution_count": 15
        }
      ]
    },
    {
      "cell_type": "code",
      "metadata": {
        "id": "7GYY_Amqdn8N",
        "colab_type": "code",
        "colab": {
          "base_uri": "https://localhost:8080/",
          "height": 34
        },
        "outputId": "0fad68e8-6918-42b3-fd8d-ac26a666fcee"
      },
      "source": [
        "[\"pera\", \"uva\", \"maca\"] * 3"
      ],
      "execution_count": null,
      "outputs": [
        {
          "output_type": "execute_result",
          "data": {
            "text/plain": [
              "['pera', 'uva', 'maca', 'pera', 'uva', 'maca', 'pera', 'uva', 'maca']"
            ]
          },
          "metadata": {
            "tags": []
          },
          "execution_count": 16
        }
      ]
    },
    {
      "cell_type": "markdown",
      "metadata": {
        "id": "L-9Ej8vCNHxq",
        "colab_type": "text"
      },
      "source": [
        "###Fatias de listas\n",
        "Você pode acessar um pedaço (fatia/slice) da sua lista."
      ]
    },
    {
      "cell_type": "code",
      "metadata": {
        "id": "_UxSOpyzN3fU",
        "colab_type": "code",
        "colab": {
          "base_uri": "https://localhost:8080/",
          "height": 34
        },
        "outputId": "fe1016b2-cf79-443e-f26d-a8d9a43ab1ca"
      },
      "source": [
        "vogais = [\"a\", \"e\", \"i\", \"o\", \"u\"]\n",
        "vogais[1:3]"
      ],
      "execution_count": null,
      "outputs": [
        {
          "output_type": "execute_result",
          "data": {
            "text/plain": [
              "['e', 'i']"
            ]
          },
          "metadata": {
            "tags": []
          },
          "execution_count": 17
        }
      ]
    },
    {
      "cell_type": "code",
      "metadata": {
        "id": "vD9mV_q1OXbl",
        "colab_type": "code",
        "colab": {
          "base_uri": "https://localhost:8080/",
          "height": 34
        },
        "outputId": "7d5e042f-ca0d-4a14-e6b8-1ec72981461b"
      },
      "source": [
        "vogais[:4]"
      ],
      "execution_count": null,
      "outputs": [
        {
          "output_type": "execute_result",
          "data": {
            "text/plain": [
              "['a', 'e', 'i', 'o']"
            ]
          },
          "metadata": {
            "tags": []
          },
          "execution_count": 19
        }
      ]
    },
    {
      "cell_type": "markdown",
      "metadata": {
        "id": "D625T8FlOxmw",
        "colab_type": "text"
      },
      "source": [
        "Se você omitir o primeiro índice, a fatia começa no início, que é o 0 (zero). Lembra?"
      ]
    },
    {
      "cell_type": "code",
      "metadata": {
        "id": "fVdtO-JGOc-u",
        "colab_type": "code",
        "colab": {
          "base_uri": "https://localhost:8080/",
          "height": 34
        },
        "outputId": "1fc425bf-7cbd-4b24-a5c8-0cab731a938c"
      },
      "source": [
        "vogais[3:]"
      ],
      "execution_count": null,
      "outputs": [
        {
          "output_type": "execute_result",
          "data": {
            "text/plain": [
              "['o', 'u']"
            ]
          },
          "metadata": {
            "tags": []
          },
          "execution_count": 20
        }
      ]
    },
    {
      "cell_type": "markdown",
      "metadata": {
        "id": "gjSjGRCpO9WC",
        "colab_type": "text"
      },
      "source": [
        "Se você omitir o segundo, a fatia vai até o final, que neste caso é até o elemento de índice 4."
      ]
    },
    {
      "cell_type": "code",
      "metadata": {
        "id": "t6oZRSBtOmHe",
        "colab_type": "code",
        "colab": {
          "base_uri": "https://localhost:8080/",
          "height": 34
        },
        "outputId": "a198518e-1f10-4d3f-d31e-7f70970d952c"
      },
      "source": [
        "vogais[:]"
      ],
      "execution_count": null,
      "outputs": [
        {
          "output_type": "execute_result",
          "data": {
            "text/plain": [
              "['a', 'e', 'i', 'o', 'u']"
            ]
          },
          "metadata": {
            "tags": []
          },
          "execution_count": 21
        }
      ]
    },
    {
      "cell_type": "markdown",
      "metadata": {
        "id": "ROV-OjIROrzh",
        "colab_type": "text"
      },
      "source": [
        "Se você omitir ambos, a fatia é uma cópia da lista inteira.\n",
        "\n",
        "Como as listas são mutáveis, pode ser útil fazer uma cópia antes de executar operações que as alterem.\n",
        "\n",
        "Um operador de fatia à esquerda de uma atribuição pode atualizar vários elementos."
      ]
    },
    {
      "cell_type": "code",
      "metadata": {
        "id": "vhufzF9-Pb6R",
        "colab_type": "code",
        "colab": {
          "base_uri": "https://localhost:8080/",
          "height": 34
        },
        "outputId": "1c910e12-2559-4dc8-94f4-69477a135fef"
      },
      "source": [
        "letras = [\"a\", \"b\", \"c\", \"d\", \"e\", \"f\"]\n",
        "letras [1:3] = [\"x\", \"y\"]\n",
        "letras"
      ],
      "execution_count": null,
      "outputs": [
        {
          "output_type": "execute_result",
          "data": {
            "text/plain": [
              "['a', 'x', 'y', 'd', 'e', 'f']"
            ]
          },
          "metadata": {
            "tags": []
          },
          "execution_count": 22
        }
      ]
    },
    {
      "cell_type": "markdown",
      "metadata": {
        "id": "VmagCCsiPyFI",
        "colab_type": "text"
      },
      "source": [
        "Neste exemplo, os elementos de índice 1 e 2 foram substituídos."
      ]
    },
    {
      "cell_type": "markdown",
      "metadata": {
        "id": "oy4ogI0MP63e",
        "colab_type": "text"
      },
      "source": [
        "###Métodos de listas\n",
        "O Python oferece métodos que operam em listas. \n",
        "\n",
        "O método *append* adiciona um novo elemento ao fim de uma lista."
      ]
    },
    {
      "cell_type": "code",
      "metadata": {
        "id": "7svEB6RrQFlk",
        "colab_type": "code",
        "colab": {
          "base_uri": "https://localhost:8080/",
          "height": 34
        },
        "outputId": "14076e2e-8023-4efb-c9b5-30b25dd4a376"
      },
      "source": [
        "letras = [\"a\", \"b\", \"c\", \"d\", \"e\", \"f\"]\n",
        "letras.append(\"g\")\n",
        "letras"
      ],
      "execution_count": null,
      "outputs": [
        {
          "output_type": "execute_result",
          "data": {
            "text/plain": [
              "['a', 'b', 'c', 'd', 'e', 'f', 'g']"
            ]
          },
          "metadata": {
            "tags": []
          },
          "execution_count": 23
        }
      ]
    },
    {
      "cell_type": "markdown",
      "metadata": {
        "id": "aLrAh5ZvQZqd",
        "colab_type": "text"
      },
      "source": [
        "O método *extend* toma uma lista como argumento e adiciona todos os seus elementos."
      ]
    },
    {
      "cell_type": "code",
      "metadata": {
        "id": "VEQDUYd_QgSR",
        "colab_type": "code",
        "colab": {
          "base_uri": "https://localhost:8080/",
          "height": 34
        },
        "outputId": "67648326-ff40-49bb-d983-ebe7e721ff57"
      },
      "source": [
        "letras = [\"a\", \"b\", \"c\", \"d\", \"e\", \"f\"]\n",
        "letras2 = [\"g\", \"h\"]\n",
        "letras.extend(letras2)\n",
        "letras"
      ],
      "execution_count": null,
      "outputs": [
        {
          "output_type": "execute_result",
          "data": {
            "text/plain": [
              "['a', 'b', 'c', 'd', 'e', 'f', 'g', 'h']"
            ]
          },
          "metadata": {
            "tags": []
          },
          "execution_count": 24
        }
      ]
    },
    {
      "cell_type": "markdown",
      "metadata": {
        "id": "-4iXz_JiQ5mR",
        "colab_type": "text"
      },
      "source": [
        "O método *sort* classifica os elementos da lista em ordem ascendente."
      ]
    },
    {
      "cell_type": "code",
      "metadata": {
        "id": "X-D98NEZRBfD",
        "colab_type": "code",
        "colab": {
          "base_uri": "https://localhost:8080/",
          "height": 34
        },
        "outputId": "9c53f5e9-21bf-48da-f5cf-22067b4211c4"
      },
      "source": [
        "letras = [\"f\", \"e\", \"d\", \"c\", \"b\", \"a\"]\n",
        "letras.sort()\n",
        "letras"
      ],
      "execution_count": null,
      "outputs": [
        {
          "output_type": "execute_result",
          "data": {
            "text/plain": [
              "['a', 'b', 'c', 'd', 'e', 'f']"
            ]
          },
          "metadata": {
            "tags": []
          },
          "execution_count": 25
        }
      ]
    },
    {
      "cell_type": "code",
      "metadata": {
        "id": "O7X9PbpFRMB4",
        "colab_type": "code",
        "colab": {
          "base_uri": "https://localhost:8080/",
          "height": 34
        },
        "outputId": "1ab6b18b-4be1-4dad-fd29-35f860c339f3"
      },
      "source": [
        "numeros = [5, 4, 3, 2, 1]\n",
        "numeros.sort()\n",
        "numeros"
      ],
      "execution_count": null,
      "outputs": [
        {
          "output_type": "execute_result",
          "data": {
            "text/plain": [
              "[1, 2, 3, 4, 5]"
            ]
          },
          "metadata": {
            "tags": []
          },
          "execution_count": 26
        }
      ]
    },
    {
      "cell_type": "markdown",
      "metadata": {
        "id": "q6p3FmAtRqf5",
        "colab_type": "text"
      },
      "source": [
        "Somar todos elementos de uma lista é uma operação tão comum que o Python a oferece a função *sum()*."
      ]
    },
    {
      "cell_type": "code",
      "metadata": {
        "id": "UHHM873rRwRN",
        "colab_type": "code",
        "colab": {
          "base_uri": "https://localhost:8080/",
          "height": 34
        },
        "outputId": "6e919739-3f44-4e45-debb-92753328e927"
      },
      "source": [
        "numeros = [5, 4, 3, 2, 1]\n",
        "sum (numeros)"
      ],
      "execution_count": null,
      "outputs": [
        {
          "output_type": "execute_result",
          "data": {
            "text/plain": [
              "15"
            ]
          },
          "metadata": {
            "tags": []
          },
          "execution_count": 27
        }
      ]
    },
    {
      "cell_type": "markdown",
      "metadata": {
        "id": "zX_Qoj47SE8m",
        "colab_type": "text"
      },
      "source": [
        "###Como excluir elementos de uma lista\n",
        "Há várias formas de excluir elementos de uma lista. \n",
        "\n",
        "Caso você saiba o índice do elemento que deseja remover, você pode usar o método *pop*."
      ]
    },
    {
      "cell_type": "code",
      "metadata": {
        "id": "s4qpf48lT8EL",
        "colab_type": "code",
        "colab": {
          "base_uri": "https://localhost:8080/",
          "height": 34
        },
        "outputId": "c3effa41-d96d-449a-bfec-326100eb508c"
      },
      "source": [
        "letras = ['a', 'b', 'c']\n",
        "x = letras.pop(1)\n",
        "letras"
      ],
      "execution_count": null,
      "outputs": [
        {
          "output_type": "execute_result",
          "data": {
            "text/plain": [
              "['a', 'c']"
            ]
          },
          "metadata": {
            "tags": []
          },
          "execution_count": 28
        }
      ]
    },
    {
      "cell_type": "markdown",
      "metadata": {
        "id": "EoD0e3wuUZLs",
        "colab_type": "text"
      },
      "source": [
        "O método *pop* altera a lista e retorna o elemento que foi excluído. Se você não incluir um índice, ele exclui e retorna o último elemento."
      ]
    },
    {
      "cell_type": "code",
      "metadata": {
        "id": "Ztv0M2khUtnX",
        "colab_type": "code",
        "colab": {
          "base_uri": "https://localhost:8080/",
          "height": 34
        },
        "outputId": "8680494d-5c84-4c09-b412-a61203b10fc5"
      },
      "source": [
        "letras = ['a', 'b', 'c']\n",
        "x = letras.pop()\n",
        "letras"
      ],
      "execution_count": null,
      "outputs": [
        {
          "output_type": "execute_result",
          "data": {
            "text/plain": [
              "['a', 'b']"
            ]
          },
          "metadata": {
            "tags": []
          },
          "execution_count": 29
        }
      ]
    },
    {
      "cell_type": "markdown",
      "metadata": {
        "id": "sHJvl-S1U2j_",
        "colab_type": "text"
      },
      "source": [
        "Se não precisar do valor removido, você pode usar a instrução *del*."
      ]
    },
    {
      "cell_type": "code",
      "metadata": {
        "id": "wM_5TAzQVdFl",
        "colab_type": "code",
        "colab": {
          "base_uri": "https://localhost:8080/",
          "height": 34
        },
        "outputId": "3259fd20-8ff4-4948-e5b9-ada276c1891b"
      },
      "source": [
        "letras = ['a', 'b', 'c']\n",
        "del letras[1]\n",
        "letras"
      ],
      "execution_count": null,
      "outputs": [
        {
          "output_type": "execute_result",
          "data": {
            "text/plain": [
              "['a', 'c']"
            ]
          },
          "metadata": {
            "tags": []
          },
          "execution_count": 30
        }
      ]
    },
    {
      "cell_type": "markdown",
      "metadata": {
        "id": "nVFoDt4uV0rZ",
        "colab_type": "text"
      },
      "source": [
        "Se souber o elemento que quer excluir (mas não o índice), você pode usar *remove*."
      ]
    },
    {
      "cell_type": "code",
      "metadata": {
        "id": "OXUt1wm0V31D",
        "colab_type": "code",
        "colab": {
          "base_uri": "https://localhost:8080/",
          "height": 34
        },
        "outputId": "6dce9e6c-2e68-473b-d086-bd68c551f3e6"
      },
      "source": [
        "letras = ['a', 'b', 'c']\n",
        "letras.remove(\"b\")\n",
        "letras"
      ],
      "execution_count": null,
      "outputs": [
        {
          "output_type": "execute_result",
          "data": {
            "text/plain": [
              "['a', 'c']"
            ]
          },
          "metadata": {
            "tags": []
          },
          "execution_count": 35
        }
      ]
    },
    {
      "cell_type": "markdown",
      "metadata": {
        "id": "YsegfXzMWGs_",
        "colab_type": "text"
      },
      "source": [
        "Para remover mais de um elemento, você pode usar *del* com um índice de fatia."
      ]
    },
    {
      "cell_type": "code",
      "metadata": {
        "id": "z20WieSsWJX1",
        "colab_type": "code",
        "colab": {
          "base_uri": "https://localhost:8080/",
          "height": 34
        },
        "outputId": "6fa8b740-d2a7-4538-c3ed-23637ae5727c"
      },
      "source": [
        "letras = [\"a\", \"b\", \"c\", \"d\", \"e\", \"f\"]\n",
        "del letras[1:3]\n",
        "letras"
      ],
      "execution_count": null,
      "outputs": [
        {
          "output_type": "execute_result",
          "data": {
            "text/plain": [
              "['a', 'd', 'e', 'f']"
            ]
          },
          "metadata": {
            "tags": []
          },
          "execution_count": 36
        }
      ]
    },
    {
      "cell_type": "markdown",
      "metadata": {
        "id": "zIezjIDqXQF4",
        "colab_type": "text"
      },
      "source": [
        "###Listas e *strings*\n",
        "Uma *string* é uma sequência de caracteres e uma lista é uma sequência de valores, mas uma lista de caracteres não é a mesma coisa que uma *string*. Para converter uma *string* em uma lista de caracteres, você pode usar a função *list()*."
      ]
    },
    {
      "cell_type": "code",
      "metadata": {
        "id": "_xW1VogpXdHg",
        "colab_type": "code",
        "colab": {
          "base_uri": "https://localhost:8080/",
          "height": 34
        },
        "outputId": "5757383f-b2d6-4cd4-95cb-b6f7604a89c0"
      },
      "source": [
        "cor = \"amarela\"\n",
        ">>> letras = list(cor)\n",
        ">>> letras"
      ],
      "execution_count": null,
      "outputs": [
        {
          "output_type": "execute_result",
          "data": {
            "text/plain": [
              "['a', 'm', 'a', 'r', 'e', 'l', 'a']"
            ]
          },
          "metadata": {
            "tags": []
          },
          "execution_count": 37
        }
      ]
    },
    {
      "cell_type": "markdown",
      "metadata": {
        "id": "BiHiryZIX5xk",
        "colab_type": "text"
      },
      "source": [
        "Como vimos, a função *list()* quebra uma *string* em letras individuais. Se você quiser quebrar uma *string* em palavras, você pode usar o método *split*."
      ]
    },
    {
      "cell_type": "code",
      "metadata": {
        "id": "E_Z7rIpaYGnr",
        "colab_type": "code",
        "colab": {
          "base_uri": "https://localhost:8080/",
          "height": 34
        },
        "outputId": "0ea46e5a-8b77-48ca-a961-fe4bdb09cf28"
      },
      "source": [
        "frase = \"Em todos estes anos nesta industria vital\"\n",
        "frase.split()"
      ],
      "execution_count": null,
      "outputs": [
        {
          "output_type": "execute_result",
          "data": {
            "text/plain": [
              "['Em', 'todos', 'estes', 'anos', 'nesta', 'industria', 'vital']"
            ]
          },
          "metadata": {
            "tags": []
          },
          "execution_count": 38
        }
      ]
    },
    {
      "cell_type": "markdown",
      "metadata": {
        "id": "-UQ6vzmHYmHC",
        "colab_type": "text"
      },
      "source": [
        "Um argumento opcional chamado *delimiter* especifica quais caracteres podem ser usados para demonstrar os limites das palavras. O exemplo seguinte usa uma vírgula como delimitador."
      ]
    },
    {
      "cell_type": "code",
      "metadata": {
        "id": "1sLJu7TiYUko",
        "colab_type": "code",
        "colab": {
          "base_uri": "https://localhost:8080/",
          "height": 34
        },
        "outputId": "f6b7c784-efb7-4cb3-aec5-5569b063dc72"
      },
      "source": [
        "personagens = \"Cosmo, Wanda, Timmy Turner, Denzel Crocker\"\n",
        "personagens.split(\", \")"
      ],
      "execution_count": null,
      "outputs": [
        {
          "output_type": "execute_result",
          "data": {
            "text/plain": [
              "['Cosmo', 'Wanda', 'Timmy Turner', 'Denzel Crocker']"
            ]
          },
          "metadata": {
            "tags": []
          },
          "execution_count": 39
        }
      ]
    },
    {
      "cell_type": "markdown",
      "metadata": {
        "id": "qvaD6rAJY4_D",
        "colab_type": "text"
      },
      "source": [
        "O método *join( é o contrário de *split*. Ele toma uma lista de *strings* e concatena os elementos. *join* é um método de *string*, então é preciso invocá-lo no delimitador e passar a lista como parâmetro."
      ]
    },
    {
      "cell_type": "code",
      "metadata": {
        "id": "Quq-NaY9ZCUx",
        "colab_type": "code",
        "colab": {
          "base_uri": "https://localhost:8080/",
          "height": 34
        },
        "outputId": "bacc6bde-aff5-4e16-9420-f9d22d7ac094"
      },
      "source": [
        "palavras = [\"Em\", \"todos\", \"estes\", \"anos\", \"nesta\", \"industria\", \"vital\"]\n",
        "separador = \" \"\n",
        "separador.join(palavras)"
      ],
      "execution_count": null,
      "outputs": [
        {
          "output_type": "execute_result",
          "data": {
            "text/plain": [
              "'Em todos estes anos nesta industria vital'"
            ]
          },
          "metadata": {
            "tags": []
          },
          "execution_count": 42
        }
      ]
    },
    {
      "cell_type": "markdown",
      "metadata": {
        "id": "LXe9pQWAaCiV",
        "colab_type": "text"
      },
      "source": [
        "Nesse caso, o delimitador é um caractere de espaço, então *join* coloca um espaço entre as palavras. Para concatenar *strings* sem espaços, você pode usar a *string* vazia \"\", como delimitador."
      ]
    },
    {
      "cell_type": "code",
      "metadata": {
        "id": "zSghjamyZpwW",
        "colab_type": "code",
        "colab": {
          "base_uri": "https://localhost:8080/",
          "height": 34
        },
        "outputId": "1dc90b93-29d1-4f8b-af5f-1bbb6c40fc08"
      },
      "source": [
        "p = [\"Cosmo\", \"Wanda\", \"Timmy Turner\", \"Denzel Crocker\"]\n",
        "\", \".join(p)"
      ],
      "execution_count": null,
      "outputs": [
        {
          "output_type": "execute_result",
          "data": {
            "text/plain": [
              "'Cosmo, Wanda, Timmy Turner, Denzel Crocker'"
            ]
          },
          "metadata": {
            "tags": []
          },
          "execution_count": 43
        }
      ]
    },
    {
      "cell_type": "markdown",
      "metadata": {
        "id": "FclomQFNpCL6",
        "colab_type": "text"
      },
      "source": [
        "#Exercício 1:\n",
        "Escreva uma função que recebe uma lista e um valor qualquer x, e se a lista não contém x, insere x na lista.\n",
        "\n",
        "Exemplo:\n",
        "\n",
        "L = [3, 1, 2]\n",
        "\n",
        "insere_condicional(L, 5)\n",
        "\n",
        "L\n",
        "\n",
        "[3, 1, 2, 5]"
      ]
    },
    {
      "cell_type": "code",
      "metadata": {
        "id": "VsyRcFgQiZzt",
        "colab_type": "code",
        "colab": {
          "base_uri": "https://localhost:8080/",
          "height": 34
        },
        "outputId": "ceb4b336-9749-4b57-ebdd-739cc4efc376"
      },
      "source": [
        "def insere_condicional(lista,x):\n",
        "  if x not in lista:\n",
        "    lista.append(x)\n",
        "  return lista\n",
        "\n",
        "insere_condicional([8,9,11], 22)\n"
      ],
      "execution_count": null,
      "outputs": [
        {
          "output_type": "execute_result",
          "data": {
            "text/plain": [
              "[8, 9, 11, 22]"
            ]
          },
          "metadata": {
            "tags": []
          },
          "execution_count": 51
        }
      ]
    },
    {
      "cell_type": "markdown",
      "metadata": {
        "id": "aFPLVmZGpjmp",
        "colab_type": "text"
      },
      "source": [
        "#Exercício 2:\n",
        "Escreva uma função que recebe uma lista e um valor qualquer x, e se x aparece um número par de vezes na lista remova a primeira ocorrência de x da lista.\n",
        "\n",
        "Exemplo:\n",
        "\n",
        "L = [1, 3, 2, 4, 1, 2, 3]\n",
        "remove_condicional(L, 2)\n",
        "L\n",
        "[1, 3, 4, 1, 2, 3]"
      ]
    },
    {
      "cell_type": "code",
      "metadata": {
        "id": "TFmwZkEpi1Pu",
        "colab_type": "code",
        "colab": {
          "base_uri": "https://localhost:8080/",
          "height": 34
        },
        "outputId": "5b9d39e5-9c80-4a41-8c85-b93cce19d318"
      },
      "source": [
        "def remove_condicional(lista, x):\n",
        "  if lista.count(x) % 2 == 0:\n",
        "    lista.remove(x)\n",
        "  return lista\n",
        "\n",
        "remove_condicional([1,3,2,4,1,2,3], 2)"
      ],
      "execution_count": null,
      "outputs": [
        {
          "output_type": "execute_result",
          "data": {
            "text/plain": [
              "[1, 3, 4, 1, 2, 3]"
            ]
          },
          "metadata": {
            "tags": []
          },
          "execution_count": 97
        }
      ]
    },
    {
      "cell_type": "markdown",
      "metadata": {
        "id": "yGtylD3SrPNb",
        "colab_type": "text"
      },
      "source": [
        "#Exercício 3:\n",
        "Escreva uma função que dada uma frase retorne uma outra frase que contenha as mesmas palavras da frase de entrada na ordem inversa.\n",
        "\n",
        "Exemplo:\n",
        "\n",
        "reverte_palavras(\"eu gosto de chocolate\")\n",
        "\n",
        "\"chocolate de gosto eu\""
      ]
    },
    {
      "cell_type": "code",
      "metadata": {
        "id": "gKM_hc9Vnflc",
        "colab_type": "code",
        "colab": {
          "base_uri": "https://localhost:8080/",
          "height": 34
        },
        "outputId": "cfc03959-429c-4690-c868-0a3c99039bc3"
      },
      "source": [
        "def reverte_palavras(frase):\n",
        "  frase = reversed(frase.split())\n",
        "  frase_joined = \" \".join(frase)\n",
        "  return frase_joined\n",
        "\n",
        "reverte_palavras(\"eu gosto de cholocate\")"
      ],
      "execution_count": null,
      "outputs": [
        {
          "output_type": "execute_result",
          "data": {
            "text/plain": [
              "'cholocate de gosto eu'"
            ]
          },
          "metadata": {
            "tags": []
          },
          "execution_count": 143
        }
      ]
    },
    {
      "cell_type": "markdown",
      "metadata": {
        "id": "oHWGWUOTsCi7",
        "colab_type": "text"
      },
      "source": [
        "#Exercício 4:\n",
        "Escreva uma função que recebe uma lista L de números e um valor x, e retorna a soma de todos os valores de L que sejam menores do que x.\n",
        "\n",
        "Exemplo:\n",
        "\n",
        "s = [24, 49, 31, 59, 28, 12, 30, 4] \n",
        "\n",
        "soma_menores(s, 30)\n",
        "\n",
        "68"
      ]
    },
    {
      "cell_type": "code",
      "metadata": {
        "id": "q89lUWDiqJJ1",
        "colab_type": "code",
        "colab": {
          "base_uri": "https://localhost:8080/",
          "height": 34
        },
        "outputId": "884afd78-5650-4ffc-e4c7-4c17e9b4da87"
      },
      "source": [
        "def soma_menores(lista, x):\n",
        "  s = []\n",
        "  for i in lista:\n",
        "    if i < x:\n",
        "      s.append(i)\n",
        "  return sum(s)\n",
        "\n",
        "soma_menores([24,49,31,59,28,12,30,4], 30)\n",
        "  "
      ],
      "execution_count": null,
      "outputs": [
        {
          "output_type": "execute_result",
          "data": {
            "text/plain": [
              "68"
            ]
          },
          "metadata": {
            "tags": []
          },
          "execution_count": 146
        }
      ]
    },
    {
      "cell_type": "markdown",
      "metadata": {
        "id": "arcJMDbgskQ_",
        "colab_type": "text"
      },
      "source": [
        "#Exercício 5:\n",
        "Escreva uma função que recebe uma frase e retorna esta frase modificada, colocando todas as vogais antes dos demais caracteres.\n",
        "\n",
        "Exemplo:\n",
        "separa_vogais('Abacate')\n",
        "\n",
        "\"Aaaebct\""
      ]
    },
    {
      "cell_type": "code",
      "metadata": {
        "id": "TSVjhFe0qxSu",
        "colab_type": "code",
        "colab": {
          "base_uri": "https://localhost:8080/",
          "height": 34
        },
        "outputId": "7bc8248c-22ab-488f-c670-a5242c9e4cd4"
      },
      "source": [
        "def separa_vogais(frase):\n",
        "  lista = []\n",
        "  for i in frase:\n",
        "    if i.lower() in [\"a\", \"e\", \"i\", \"o\", \"u\"]:\n",
        "      lista.append(i)\n",
        "  for i in frase:\n",
        "    if i.lower() not in [\"a\", \"e\", \"i\", \"o\", \"u\"]:\n",
        "      lista.append(i)\n",
        "  return \"\".join(lista)\n",
        "\n",
        "separa_vogais(\"Abacate\")"
      ],
      "execution_count": null,
      "outputs": [
        {
          "output_type": "execute_result",
          "data": {
            "text/plain": [
              "'Aaaebct'"
            ]
          },
          "metadata": {
            "tags": []
          },
          "execution_count": 155
        }
      ]
    },
    {
      "cell_type": "markdown",
      "metadata": {
        "id": "z9wCgePLFFhE",
        "colab_type": "text"
      },
      "source": [
        "#Exercício 6:\n",
        "Crie uma função que recebe uma string L e um caractere x e retorna uma lista com todas as posições de x em L\n",
        "\n",
        "Exemplo:\n",
        "\n",
        "posicoes('Quem eh essa ai, papai?', 'a')\n",
        "[11, 13, 18, 20]\n",
        "\n",
        "posicoes('Ta cheio de assunto, hein?', ' ')\n",
        "[2, 8, 11, 20]\n",
        "\n",
        "posicoes('Ta cheio de assunto, hein?', 'e')\n",
        "[5, 10, 22]"
      ]
    },
    {
      "cell_type": "code",
      "metadata": {
        "id": "4tzTMTFktUEc",
        "colab_type": "code",
        "colab": {
          "base_uri": "https://localhost:8080/",
          "height": 67
        },
        "outputId": "4fc97b7d-2ed0-45cd-984f-1f507b57bc87"
      },
      "source": [
        "def posicoes(frase, letra):\n",
        "  s = []\n",
        "  i = 0\n",
        "  frase = list(frase)\n",
        "  while letra in frase:\n",
        "    s.append(frase.index(letra) + i)\n",
        "    frase.remove(letra)\n",
        "    i = i + 1\n",
        "  return s\n",
        "print(\n",
        "posicoes('Quem eh essa ai, papai?', 'a'),\n",
        "\n",
        "posicoes('Ta cheio de assunto, hein?', ' '),\n",
        "\n",
        "posicoes('Ta cheio de assunto, hein?', 'e'), sep = \"\\n\")\n"
      ],
      "execution_count": null,
      "outputs": [
        {
          "output_type": "stream",
          "text": [
            "[11, 13, 18, 20]\n",
            "[2, 8, 11, 20]\n",
            "[5, 10, 22]\n"
          ],
          "name": "stdout"
        }
      ]
    },
    {
      "cell_type": "markdown",
      "metadata": {
        "id": "ud2msx6F6b8C",
        "colab_type": "text"
      },
      "source": [
        "#Exercício 7:\n",
        "Escreva uma função que recebe uma sequência L e retorna uma lista contendo todos os valores de L, mas sem repetições!\n",
        "\n",
        "Exemplo:\n",
        "\n",
        "valores_unicos([20, 10, 20, 20, 8, 10, 10, 8, 8, 8])\n",
        "[20, 10, 8]\n",
        "\n",
        "valores_unicos([0, 1, 9, 0, 0, 4, 2, 1, 4])\n",
        "[0, 1, 9, 4, 2]"
      ]
    },
    {
      "cell_type": "code",
      "metadata": {
        "id": "EZsy2FQWwRVW",
        "colab_type": "code",
        "colab": {
          "base_uri": "https://localhost:8080/",
          "height": 50
        },
        "outputId": "a22e94a9-0979-4e21-8ef8-35e0dc01414d"
      },
      "source": [
        "def valores_unicos(lista):\n",
        "  s = []\n",
        "  for i in lista:\n",
        "    if s.count(i) == 0:\n",
        "      s.append(i)\n",
        "  return s\n",
        "print(\n",
        "valores_unicos([20, 10, 20, 20, 8, 10, 10, 8, 8, 8]),\n",
        "\n",
        "valores_unicos([0, 1, 9, 0, 0, 4, 2, 1, 4]), sep = \"\\n\")\n",
        "      "
      ],
      "execution_count": null,
      "outputs": [
        {
          "output_type": "stream",
          "text": [
            "[20, 10, 8]\n",
            "[0, 1, 9, 4, 2]\n"
          ],
          "name": "stdout"
        }
      ]
    }
  ]
}
