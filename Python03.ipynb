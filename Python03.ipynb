{
  "nbformat": 4,
  "nbformat_minor": 0,
  "metadata": {
    "colab": {
      "name": "Copy of Python03.ipynb",
      "provenance": [],
      "toc_visible": true
    },
    "kernelspec": {
      "name": "python3",
      "display_name": "Python 3"
    }
  },
  "cells": [
    {
      "cell_type": "markdown",
      "metadata": {
        "id": "PYHSnN9TNz12",
        "colab_type": "text"
      },
      "source": [
        "#Conhecendo mais recursos da linguagem Python\n",
        "Agora que já aprendemos alguns conceitos básicos, podemos combinar eles com as instruções condicionais e de loop do Python para criar alguns programas que são um pouco mais avançados e úteis. "
      ]
    },
    {
      "cell_type": "markdown",
      "metadata": {
        "id": "lowhiLJQN4_m",
        "colab_type": "text"
      },
      "source": [
        "#Tomada de decisão\n",
        "A tomada de decisão, também chamada de desvio condicional, é  uma prática comum no desenvolvimento de software. Essa estrutura é utilizada para verificar expressões e assim decidir qual bloco de instrução deve ser executado, isto é, dependendo do resultando, que pode ser *True* (Verdadeiro) ou *False* (Falso), o programa executa um determinado bloco de instrução."
      ]
    },
    {
      "cell_type": "markdown",
      "metadata": {
        "id": "bBskVSywN8YL",
        "colab_type": "text"
      },
      "source": [
        "##A instrução if\n",
        "*If*, que significa “se” em português, é uma estrutura condicional onde podemos determinar o que deve acontecer mediando o valor lógico retornado, isto é, se for *True*, faça isso, se for *False*, faça aquilo.\n",
        "As expressões definidas no cabeçalho da estrutura *if* utilizam os operadores relacionais na construção das expressões, seja de maneira implicita ou explicita.\n",
        "\n",
        "Vamos ver na prática, como funciona o *if*, com o exemplo a seguir que irá verificar se o número fornecido pelo usuário é maior do que 0 (zero)."
      ]
    },
    {
      "cell_type": "code",
      "metadata": {
        "id": "mjZ0Mny5OBfa",
        "colab_type": "code",
        "colab": {
          "base_uri": "https://localhost:8080/",
          "height": 51
        },
        "outputId": "7be8f7a6-3165-432b-c46c-158ab59dbcb8"
      },
      "source": [
        "num = int(input (\"Digite um número:\"))\n",
        "if (num > 0):\n",
        "  print (\"O número digitado é maior do que zero.\")"
      ],
      "execution_count": null,
      "outputs": [
        {
          "output_type": "stream",
          "text": [
            "Digite um número:8\n",
            "O número digitado é maior do que zero.\n"
          ],
          "name": "stdout"
        }
      ]
    },
    {
      "cell_type": "markdown",
      "metadata": {
        "id": "eC5QLx9cOGJn",
        "colab_type": "text"
      },
      "source": [
        "Verifique que, no caso do usuário informar um número menor do que 0 (zero), ele fica sem um feedback, isto é, uma resposta do programa. Então, para corrigir esta questão, vamos alterar o código acima, de forma a sempre oferecer um feedback ao usuário, quer a operação seja True ou False."
      ]
    },
    {
      "cell_type": "code",
      "metadata": {
        "id": "b1zDMKSEOJ0N",
        "colab_type": "code",
        "colab": {
          "base_uri": "https://localhost:8080/",
          "height": 51
        },
        "outputId": "0c15896d-749b-4136-eae3-150aea48dc78"
      },
      "source": [
        "num = int(input (\"Digite um número:\"))\n",
        "if (num > 0):\n",
        "  print (\"O número digitado é maior do que zero.\")\n",
        "else:\n",
        "  print (\"O número digitado é menor do que zero.\")"
      ],
      "execution_count": null,
      "outputs": [
        {
          "output_type": "stream",
          "text": [
            "Digite um número:-19\n",
            "O número digitado é menor do que zero.\n"
          ],
          "name": "stdout"
        }
      ]
    },
    {
      "cell_type": "markdown",
      "metadata": {
        "id": "KMVmw5Z8ONtr",
        "colab_type": "text"
      },
      "source": [
        "##A instrução else\n",
        "A tomada de decisão é composta por uma expressão a ser avaliada e pelo que deve ocorrer caso a expressão seja verdadeira ou então, caso a expressão seja falsa. Por padrão, o bloco de instrução que estiver abaixo da instrução *if* será executado quando a expressão contida na estrutura *if* for verdadeira.\n",
        "A instrução *else* por sua vez, é um complemento da estrutura *if*. A palavra *else*, que significa “senão”, determina o bloco que será executado todas as vezes que a expressão definida for falsa.\n",
        "Resumindo, o bloco que estiver na linha seguinte a instrução *if* será executado toda vez que a expressão for **verdadeira** e o bloco que estiver na linha seguinte a instrução *else* será executado toda vez que a expressão for **falsa**."
      ]
    },
    {
      "cell_type": "markdown",
      "metadata": {
        "id": "7qsWRS0WOQXR",
        "colab_type": "text"
      },
      "source": [
        "##Operadores relacionais em Python\n",
        "Descrição | Operador\n",
        "--- | ---\n",
        "Maior que | >\n",
        "Menor que | <\n",
        "Igual a | ==\n",
        "\n",
        "Como podemos ver, existem 3 operadores relacionais simples em Python. O operador que verifica se um operando **é maior** do que outro. O operador que verifica se um operando **é menor** do que outro e por fim, o operador que verifica se ambos os operandos **são iguais**.\n",
        "\n",
        "Além dos **operadores relacionais simples**, nós também temos os **operadores relacionais compostos**, que são formados pela junção de 2 (dois) operadores relacionais simples e a a função deles é simplificar as expressões. \n",
        "\n",
        "Descrição | Operador\n",
        "--- | ---\n",
        "Maior ou igual a | >=\n",
        "Menor ou igual a | <="
      ]
    },
    {
      "cell_type": "markdown",
      "metadata": {
        "id": "l30cF4v0OT83",
        "colab_type": "text"
      },
      "source": [
        "#Introdução aos operadores lógicos\n",
        "Os operadores lógicos unem expressões lógicas formando assim, uma nova expressão, que é composta por duas ou mais sub-expressões. O resultado lógico de expressões compostas será a relação entre as sub-expressões. Como estudamos, toda **expressão lógica** avaliada resultará em um **valor lógico** e a relação entre vários valores lógicos é um outro valor lógico.\n",
        "\n",
        "Quando estudamos os operadores relacionais, aprendemos a obter o valor lógico entre dois operandos, que pode ser verdadeiro (True) ou falso (False). Esses valores, *True* e *False* são do tipo Booleano.\n",
        "\n",
        "A função dos operadores lógicos é unir duas ou mais expressões ligando-as com os **conectivos lógicos matemáticos** que são, o conectivo **E** (*and*) e o conectivo **OU** (*or*).\n",
        "\n",
        "##Valor lógico, o tipo de dado booleano\n",
        "O tipo de dado booleano, que em Python é representado pela classe *bool*, assume um dentre dois valores possíveis: *True* (verdadeiro) ou *False* (falso). Esses valores também podem ser representados pelos números **1** (verdadeiro) ou **0** (falso).\n",
        "\n",
        "A palavra booleano vem do sobrenome do filósofo e matemático George Boole, o criador da Álgebra Booleana."
      ]
    },
    {
      "cell_type": "markdown",
      "metadata": {
        "id": "anN8QYiIOYBM",
        "colab_type": "text"
      },
      "source": [
        "##Conectivos lógicos\n",
        "Existem dois conectivos lógicos que conhecemos bem, mas não necessariamente com esse nome. Eles são o **conectivo de conjunção**, **E** (*and*) e o **conectivo de disjunção OU** (*or*)\n",
        ".\n",
        "Na frase “A e B são caracteres iguais.”, temos uma expressão lógica que também pode ser representada através da linguagem matemática, ou com o uso de uma linguagem de programação. \n",
        "\n",
        "Resumindo, os **conectivos lógicos** devem ser entendidos como ferramenta de notação utilizada para unir duas ou mais expressões, tendo como resultada dessa união, uma nova expressão."
      ]
    },
    {
      "cell_type": "markdown",
      "metadata": {
        "id": "GNPQKVLaObjq",
        "colab_type": "text"
      },
      "source": [
        "##Tabela de valores lógicos\n",
        "p | q | p and q\n",
        "--- | --- | --- \n",
        "True | True | **True**\n",
        "True | False | False\n",
        "False |True | False\n",
        "False | False | False\n",
        "\n",
        "__________\n",
        "\n",
        "p | q | p or q\n",
        "--- | --- | --- \n",
        "True | True | True\n",
        "True | False | True\n",
        "False | True | True\n",
        "False | False | **False**\n",
        "\n",
        "Vejamos alguns exemplos:"
      ]
    },
    {
      "cell_type": "code",
      "metadata": {
        "id": "_ERKXS0POfD_",
        "colab_type": "code",
        "colab": {
          "base_uri": "https://localhost:8080/",
          "height": 34
        },
        "outputId": "75ee255a-f85e-4ee3-8943-1509344fca48"
      },
      "source": [
        "x = 1 #Verifique que um único sinal de igual (=) no Python tem a função de atribuição.\n",
        "(x > 0) and (x<100)"
      ],
      "execution_count": null,
      "outputs": [
        {
          "output_type": "execute_result",
          "data": {
            "text/plain": [
              "True"
            ]
          },
          "metadata": {
            "tags": []
          },
          "execution_count": 5
        }
      ]
    },
    {
      "cell_type": "code",
      "metadata": {
        "id": "Ow5tPfHnOjdA",
        "colab_type": "code",
        "colab": {
          "base_uri": "https://localhost:8080/",
          "height": 34
        },
        "outputId": "8a98a7d0-cf56-4ca5-f4d3-2af34b50e626"
      },
      "source": [
        "x = 1\n",
        "(x > 0) or (x < 100)"
      ],
      "execution_count": null,
      "outputs": [
        {
          "output_type": "execute_result",
          "data": {
            "text/plain": [
              "True"
            ]
          },
          "metadata": {
            "tags": []
          },
          "execution_count": 6
        }
      ]
    },
    {
      "cell_type": "code",
      "metadata": {
        "id": "eu8Na4CEOnvp",
        "colab_type": "code",
        "colab": {
          "base_uri": "https://localhost:8080/",
          "height": 34
        },
        "outputId": "d95a7f6a-98cc-424d-de2e-78687c585c29"
      },
      "source": [
        "x = 1 \n",
        "y = 102\n",
        "(x > 0) and (y < 100)"
      ],
      "execution_count": null,
      "outputs": [
        {
          "output_type": "execute_result",
          "data": {
            "text/plain": [
              "False"
            ]
          },
          "metadata": {
            "tags": []
          },
          "execution_count": 7
        }
      ]
    },
    {
      "cell_type": "code",
      "metadata": {
        "id": "UY9GbKAMOqzw",
        "colab_type": "code",
        "colab": {
          "base_uri": "https://localhost:8080/",
          "height": 34
        },
        "outputId": "002a6154-f330-4a5e-8cdc-3c7fb3918955"
      },
      "source": [
        "x = 1\n",
        "y = 102\n",
        "(x > 0) or (y < 100)"
      ],
      "execution_count": null,
      "outputs": [
        {
          "output_type": "execute_result",
          "data": {
            "text/plain": [
              "True"
            ]
          },
          "metadata": {
            "tags": []
          },
          "execution_count": 8
        }
      ]
    },
    {
      "cell_type": "markdown",
      "metadata": {
        "id": "jBr2z5AlfBS1",
        "colab_type": "text"
      },
      "source": [
        "#Exercício 1:\n",
        "Escreva um programa que imprima somente os valores que são múltiplos de 157. Esses são os valores a serem verificados e devem ser informados pelo usuário: 5751, 7379, 3103, 7520, 6028, 8780, 1056, 1050, 1256, 7222, 5846, 8380, 1884, 3413, 4867."
      ]
    },
    {
      "cell_type": "code",
      "metadata": {
        "id": "YYVBW2O3SpnZ",
        "colab_type": "code",
        "colab": {
          "base_uri": "https://localhost:8080/",
          "height": 561
        },
        "outputId": "190d43ef-a4d7-46dc-cd1c-18218dcbc1dc"
      },
      "source": [
        "num = [5751, 7379, 3103, 7520, 6028, 8780, 1056, 1050, 1256, 7222, 5846, 8380, 1884, 3413, 4867]\n",
        "\n",
        "print(\"\"\"Insira um número de [5751, 7379, 3103, 7520, 6028, 8780, \n",
        "1056, 1050, 1256, 7222, 5846, 8380, 1884, 3413, 4867]:\"\"\")\n",
        "n = 1\n",
        "l = []\n",
        "while n <= len(num):\n",
        "  a = int(input())\n",
        "  l.append(a)\n",
        "  n = n + 1\n",
        "\n",
        "for a in l:\n",
        "  if(a % 157 == 0):\n",
        "    print(a,\"é múltiplo de 157.\")\n",
        "  else:\n",
        "    print(a,\"não é múltiplo de 157.\")\n"
      ],
      "execution_count": null,
      "outputs": [
        {
          "output_type": "stream",
          "text": [
            "Insira um número de [5751, 7379, 3103, 7520, 6028, 8780, \n",
            "1056, 1050, 1256, 7222, 5846, 8380, 1884, 3413, 4867]:\n",
            "5751\n",
            "7379\n",
            "3103\n",
            "7520\n",
            "6028\n",
            "8780\n",
            "1056\n",
            "1050\n",
            "1256\n",
            "7222\n",
            "5846\n",
            "8380\n",
            "1884\n",
            "3413\n",
            "4867\n",
            "5751 não é múltiplo de 157.\n",
            "7379 é múltiplo de 157.\n",
            "3103 não é múltiplo de 157.\n",
            "7520 não é múltiplo de 157.\n",
            "6028 não é múltiplo de 157.\n",
            "8780 não é múltiplo de 157.\n",
            "1056 não é múltiplo de 157.\n",
            "1050 não é múltiplo de 157.\n",
            "1256 é múltiplo de 157.\n",
            "7222 é múltiplo de 157.\n",
            "5846 não é múltiplo de 157.\n",
            "8380 não é múltiplo de 157.\n",
            "1884 é múltiplo de 157.\n",
            "3413 não é múltiplo de 157.\n",
            "4867 é múltiplo de 157.\n"
          ],
          "name": "stdout"
        }
      ]
    },
    {
      "cell_type": "markdown",
      "metadata": {
        "id": "DU0VCUMeOt8R",
        "colab_type": "text"
      },
      "source": [
        "#Exercício 2:\n",
        "Escreva um programa que aceite dois números como entrada pelo usuário e verifique se estes números estão entre o intervalo fechado de 0 a 100."
      ]
    },
    {
      "cell_type": "code",
      "metadata": {
        "id": "-ofIjpZFOxJs",
        "colab_type": "code",
        "colab": {
          "base_uri": "https://localhost:8080/",
          "height": 68
        },
        "outputId": "7e8ac598-f931-4508-8ae1-2c508653c611"
      },
      "source": [
        "try:\n",
        "  print(\"Escreva dois números:\")\n",
        "  a = int(input())\n",
        "  b = int(input())\n",
        "  if(a in range(101)):\n",
        "    print(a, \"está entre 0 e 100.\")\n",
        "  else:\n",
        "    print(a, \"não está entre 0 e 100.\")\n",
        "  if(b in range(101)):\n",
        "    print(b, \"está entre 0 e 100.\")\n",
        "  else:\n",
        "    print(b, \"não está entre 0 e 100.\")\n",
        "except ValueError:\n",
        "  print(\"O quê?!\")\n",
        "\n",
        "\n"
      ],
      "execution_count": null,
      "outputs": [
        {
          "output_type": "stream",
          "text": [
            "Escreva dois números:\n",
            "-1.5;\n",
            "O quê?!\n"
          ],
          "name": "stdout"
        }
      ]
    },
    {
      "cell_type": "markdown",
      "metadata": {
        "id": "8VM7dA4cO1UU",
        "colab_type": "text"
      },
      "source": [
        "#Fatorando um número inteiro\n",
        "Um divisor, ou fator, é um número que se divide uniformemente em um número inteiro maior.\n",
        "\n",
        "Quando um número inteiro diferente de zero, **a**, divide outro número inteiro **b**, e o resto é 0 (zero), **a** é considerado um fator de **b**. Por exemplo, 2 (dois) é um fator de todos os números inteiros pares. Podemos escrever uma função como a apresentada abaixo para descobrir se qualquer número inteiro diferente de zero, **a**, é um fator de qualquer outro inteiro, **b**:\n",
        "\n",
        "O operador **%** (módulo) já foi apresentado na primeira aula. Então, para verificarmos se 4 (quatro) é um fator de 1024 (mil e vinte e quatro), podemos usar a função *is_factor()*:"
      ]
    },
    {
      "cell_type": "code",
      "metadata": {
        "id": "c2RYLQFfO4uH",
        "colab_type": "code",
        "colab": {
          "base_uri": "https://localhost:8080/",
          "height": 34
        },
        "outputId": "e6a89adf-61bc-4f49-b1de-b3414b81426d"
      },
      "source": [
        "def is_factor(a,b):\n",
        "  if b % a == 0:\n",
        "    return True\n",
        "  else:\n",
        "    return False\n",
        "\n",
        "is_factor(4, 1024)"
      ],
      "execution_count": null,
      "outputs": [
        {
          "output_type": "execute_result",
          "data": {
            "text/plain": [
              "True"
            ]
          },
          "metadata": {
            "tags": []
          },
          "execution_count": 30
        }
      ]
    },
    {
      "cell_type": "markdown",
      "metadata": {
        "id": "VugS4qLGO-ap",
        "colab_type": "text"
      },
      "source": [
        "#Exercício 3:\n",
        "Escreva um programa que verifique se 147 é um fator de 360."
      ]
    },
    {
      "cell_type": "code",
      "metadata": {
        "id": "wTOEuA8hPCCS",
        "colab_type": "code",
        "colab": {
          "base_uri": "https://localhost:8080/",
          "height": 34
        },
        "outputId": "84a799c9-5c01-49d7-a1e9-0e3b84b34b26"
      },
      "source": [
        "if(360 % 147 == 0):\n",
        "  print(True)\n",
        "else:\n",
        "  print(False)"
      ],
      "execution_count": null,
      "outputs": [
        {
          "output_type": "stream",
          "text": [
            "False\n"
          ],
          "name": "stdout"
        }
      ]
    },
    {
      "cell_type": "code",
      "metadata": {
        "id": "fZ4eQ0Q9VdcT",
        "colab_type": "code",
        "colab": {
          "base_uri": "https://localhost:8080/",
          "height": 34
        },
        "outputId": "51e683e0-9a63-4151-bd11-d6b67cc1a93f"
      },
      "source": [
        "#Todos os divisores de um número.\n",
        "\n",
        "def RSA(a):\n",
        "  for i in range(1, a+1):\n",
        "    if(a % i == 0):\n",
        "      print(i, end = \", \")\n",
        "\n",
        "RSA(19)\n"
      ],
      "execution_count": null,
      "outputs": [
        {
          "output_type": "stream",
          "text": [
            "1, 19, "
          ],
          "name": "stdout"
        }
      ]
    },
    {
      "cell_type": "markdown",
      "metadata": {
        "id": "0tft0Xs0PCa0",
        "colab_type": "text"
      },
      "source": [
        "#Introdução a Iteração ou Estrutura de Repetição\n",
        "Iterar é a ação de repetir algo. Na programação, iteração significa a repetição de um conjunto de instruções por uma quantidade finita de vezes ou então, enquanto uma condição for aceita.\n",
        "\n",
        "As estruturas de repetição são utilizadas quando queremos que um bloco de código seja executado várias vezes."
      ]
    },
    {
      "cell_type": "markdown",
      "metadata": {
        "id": "Ne6HS4zwPKTN",
        "colab_type": "text"
      },
      "source": [
        "#Exercício 4:\n",
        "Escreva um programa, sem utilizar as estruturas de repetição, que imprima 20 vezes a seguinte frase \"As estruturas de repetição são muito importantes!\"."
      ]
    },
    {
      "cell_type": "code",
      "metadata": {
        "id": "CvTurpKHPLMi",
        "colab_type": "code",
        "colab": {
          "base_uri": "https://localhost:8080/",
          "height": 374
        },
        "outputId": "43148713-3c68-4258-ce07-f85b475141ee"
      },
      "source": [
        "print(\"As estruturas de repetição são muito importantes! \\n\"*20)"
      ],
      "execution_count": null,
      "outputs": [
        {
          "output_type": "stream",
          "text": [
            "As estruturas de repetição são muito importantes! \n",
            "As estruturas de repetição são muito importantes! \n",
            "As estruturas de repetição são muito importantes! \n",
            "As estruturas de repetição são muito importantes! \n",
            "As estruturas de repetição são muito importantes! \n",
            "As estruturas de repetição são muito importantes! \n",
            "As estruturas de repetição são muito importantes! \n",
            "As estruturas de repetição são muito importantes! \n",
            "As estruturas de repetição são muito importantes! \n",
            "As estruturas de repetição são muito importantes! \n",
            "As estruturas de repetição são muito importantes! \n",
            "As estruturas de repetição são muito importantes! \n",
            "As estruturas de repetição são muito importantes! \n",
            "As estruturas de repetição são muito importantes! \n",
            "As estruturas de repetição são muito importantes! \n",
            "As estruturas de repetição são muito importantes! \n",
            "As estruturas de repetição são muito importantes! \n",
            "As estruturas de repetição são muito importantes! \n",
            "As estruturas de repetição são muito importantes! \n",
            "As estruturas de repetição são muito importantes! \n",
            "\n"
          ],
          "name": "stdout"
        }
      ]
    },
    {
      "cell_type": "markdown",
      "metadata": {
        "id": "NEkJSO-TPOVD",
        "colab_type": "text"
      },
      "source": [
        "#Exercício 5:\n",
        "Achou fácil?\n",
        "Agora escreva um programa que imprima 1000 (mil) vezes a mesma frase a cima \"As estruturas de repetição são muito importantes!\". Também não é permitido utilizar as estruturas de repetição!"
      ]
    },
    {
      "cell_type": "code",
      "metadata": {
        "id": "Vj238A3yPPJo",
        "colab_type": "code",
        "colab": {
          "base_uri": "https://localhost:8080/",
          "height": 1000
        },
        "outputId": "20a4909f-eda4-405f-bb56-30dd4e25cd43"
      },
      "source": [
        "print(\"As estruturas de repetição são muito importantes! \\n\"*1000)"
      ],
      "execution_count": null,
      "outputs": [
        {
          "output_type": "stream",
          "text": [
            "As estruturas de repetição são muito importantes! \n",
            "As estruturas de repetição são muito importantes! \n",
            "As estruturas de repetição são muito importantes! \n",
            "As estruturas de repetição são muito importantes! \n",
            "As estruturas de repetição são muito importantes! \n",
            "As estruturas de repetição são muito importantes! \n",
            "As estruturas de repetição são muito importantes! \n",
            "As estruturas de repetição são muito importantes! \n",
            "As estruturas de repetição são muito importantes! \n",
            "As estruturas de repetição são muito importantes! \n",
            "As estruturas de repetição são muito importantes! \n",
            "As estruturas de repetição são muito importantes! \n",
            "As estruturas de repetição são muito importantes! \n",
            "As estruturas de repetição são muito importantes! \n",
            "As estruturas de repetição são muito importantes! \n",
            "As estruturas de repetição são muito importantes! \n",
            "As estruturas de repetição são muito importantes! \n",
            "As estruturas de repetição são muito importantes! \n",
            "As estruturas de repetição são muito importantes! \n",
            "As estruturas de repetição são muito importantes! \n",
            "As estruturas de repetição são muito importantes! \n",
            "As estruturas de repetição são muito importantes! \n",
            "As estruturas de repetição são muito importantes! \n",
            "As estruturas de repetição são muito importantes! \n",
            "As estruturas de repetição são muito importantes! \n",
            "As estruturas de repetição são muito importantes! \n",
            "As estruturas de repetição são muito importantes! \n",
            "As estruturas de repetição são muito importantes! \n",
            "As estruturas de repetição são muito importantes! \n",
            "As estruturas de repetição são muito importantes! \n",
            "As estruturas de repetição são muito importantes! \n",
            "As estruturas de repetição são muito importantes! \n",
            "As estruturas de repetição são muito importantes! \n",
            "As estruturas de repetição são muito importantes! \n",
            "As estruturas de repetição são muito importantes! \n",
            "As estruturas de repetição são muito importantes! \n",
            "As estruturas de repetição são muito importantes! \n",
            "As estruturas de repetição são muito importantes! \n",
            "As estruturas de repetição são muito importantes! \n",
            "As estruturas de repetição são muito importantes! \n",
            "As estruturas de repetição são muito importantes! \n",
            "As estruturas de repetição são muito importantes! \n",
            "As estruturas de repetição são muito importantes! \n",
            "As estruturas de repetição são muito importantes! \n",
            "As estruturas de repetição são muito importantes! \n",
            "As estruturas de repetição são muito importantes! \n",
            "As estruturas de repetição são muito importantes! \n",
            "As estruturas de repetição são muito importantes! \n",
            "As estruturas de repetição são muito importantes! \n",
            "As estruturas de repetição são muito importantes! \n",
            "As estruturas de repetição são muito importantes! \n",
            "As estruturas de repetição são muito importantes! \n",
            "As estruturas de repetição são muito importantes! \n",
            "As estruturas de repetição são muito importantes! \n",
            "As estruturas de repetição são muito importantes! \n",
            "As estruturas de repetição são muito importantes! \n",
            "As estruturas de repetição são muito importantes! \n",
            "As estruturas de repetição são muito importantes! \n",
            "As estruturas de repetição são muito importantes! \n",
            "As estruturas de repetição são muito importantes! \n",
            "As estruturas de repetição são muito importantes! \n",
            "As estruturas de repetição são muito importantes! \n",
            "As estruturas de repetição são muito importantes! \n",
            "As estruturas de repetição são muito importantes! \n",
            "As estruturas de repetição são muito importantes! \n",
            "As estruturas de repetição são muito importantes! \n",
            "As estruturas de repetição são muito importantes! \n",
            "As estruturas de repetição são muito importantes! \n",
            "As estruturas de repetição são muito importantes! \n",
            "As estruturas de repetição são muito importantes! \n",
            "As estruturas de repetição são muito importantes! \n",
            "As estruturas de repetição são muito importantes! \n",
            "As estruturas de repetição são muito importantes! \n",
            "As estruturas de repetição são muito importantes! \n",
            "As estruturas de repetição são muito importantes! \n",
            "As estruturas de repetição são muito importantes! \n",
            "As estruturas de repetição são muito importantes! \n",
            "As estruturas de repetição são muito importantes! \n",
            "As estruturas de repetição são muito importantes! \n",
            "As estruturas de repetição são muito importantes! \n",
            "As estruturas de repetição são muito importantes! \n",
            "As estruturas de repetição são muito importantes! \n",
            "As estruturas de repetição são muito importantes! \n",
            "As estruturas de repetição são muito importantes! \n",
            "As estruturas de repetição são muito importantes! \n",
            "As estruturas de repetição são muito importantes! \n",
            "As estruturas de repetição são muito importantes! \n",
            "As estruturas de repetição são muito importantes! \n",
            "As estruturas de repetição são muito importantes! \n",
            "As estruturas de repetição são muito importantes! \n",
            "As estruturas de repetição são muito importantes! \n",
            "As estruturas de repetição são muito importantes! \n",
            "As estruturas de repetição são muito importantes! \n",
            "As estruturas de repetição são muito importantes! \n",
            "As estruturas de repetição são muito importantes! \n",
            "As estruturas de repetição são muito importantes! \n",
            "As estruturas de repetição são muito importantes! \n",
            "As estruturas de repetição são muito importantes! \n",
            "As estruturas de repetição são muito importantes! \n",
            "As estruturas de repetição são muito importantes! \n",
            "As estruturas de repetição são muito importantes! \n",
            "As estruturas de repetição são muito importantes! \n",
            "As estruturas de repetição são muito importantes! \n",
            "As estruturas de repetição são muito importantes! \n",
            "As estruturas de repetição são muito importantes! \n",
            "As estruturas de repetição são muito importantes! \n",
            "As estruturas de repetição são muito importantes! \n",
            "As estruturas de repetição são muito importantes! \n",
            "As estruturas de repetição são muito importantes! \n",
            "As estruturas de repetição são muito importantes! \n",
            "As estruturas de repetição são muito importantes! \n",
            "As estruturas de repetição são muito importantes! \n",
            "As estruturas de repetição são muito importantes! \n",
            "As estruturas de repetição são muito importantes! \n",
            "As estruturas de repetição são muito importantes! \n",
            "As estruturas de repetição são muito importantes! \n",
            "As estruturas de repetição são muito importantes! \n",
            "As estruturas de repetição são muito importantes! \n",
            "As estruturas de repetição são muito importantes! \n",
            "As estruturas de repetição são muito importantes! \n",
            "As estruturas de repetição são muito importantes! \n",
            "As estruturas de repetição são muito importantes! \n",
            "As estruturas de repetição são muito importantes! \n",
            "As estruturas de repetição são muito importantes! \n",
            "As estruturas de repetição são muito importantes! \n",
            "As estruturas de repetição são muito importantes! \n",
            "As estruturas de repetição são muito importantes! \n",
            "As estruturas de repetição são muito importantes! \n",
            "As estruturas de repetição são muito importantes! \n",
            "As estruturas de repetição são muito importantes! \n",
            "As estruturas de repetição são muito importantes! \n",
            "As estruturas de repetição são muito importantes! \n",
            "As estruturas de repetição são muito importantes! \n",
            "As estruturas de repetição são muito importantes! \n",
            "As estruturas de repetição são muito importantes! \n",
            "As estruturas de repetição são muito importantes! \n",
            "As estruturas de repetição são muito importantes! \n",
            "As estruturas de repetição são muito importantes! \n",
            "As estruturas de repetição são muito importantes! \n",
            "As estruturas de repetição são muito importantes! \n",
            "As estruturas de repetição são muito importantes! \n",
            "As estruturas de repetição são muito importantes! \n",
            "As estruturas de repetição são muito importantes! \n",
            "As estruturas de repetição são muito importantes! \n",
            "As estruturas de repetição são muito importantes! \n",
            "As estruturas de repetição são muito importantes! \n",
            "As estruturas de repetição são muito importantes! \n",
            "As estruturas de repetição são muito importantes! \n",
            "As estruturas de repetição são muito importantes! \n",
            "As estruturas de repetição são muito importantes! \n",
            "As estruturas de repetição são muito importantes! \n",
            "As estruturas de repetição são muito importantes! \n",
            "As estruturas de repetição são muito importantes! \n",
            "As estruturas de repetição são muito importantes! \n",
            "As estruturas de repetição são muito importantes! \n",
            "As estruturas de repetição são muito importantes! \n",
            "As estruturas de repetição são muito importantes! \n",
            "As estruturas de repetição são muito importantes! \n",
            "As estruturas de repetição são muito importantes! \n",
            "As estruturas de repetição são muito importantes! \n",
            "As estruturas de repetição são muito importantes! \n",
            "As estruturas de repetição são muito importantes! \n",
            "As estruturas de repetição são muito importantes! \n",
            "As estruturas de repetição são muito importantes! \n",
            "As estruturas de repetição são muito importantes! \n",
            "As estruturas de repetição são muito importantes! \n",
            "As estruturas de repetição são muito importantes! \n",
            "As estruturas de repetição são muito importantes! \n",
            "As estruturas de repetição são muito importantes! \n",
            "As estruturas de repetição são muito importantes! \n",
            "As estruturas de repetição são muito importantes! \n",
            "As estruturas de repetição são muito importantes! \n",
            "As estruturas de repetição são muito importantes! \n",
            "As estruturas de repetição são muito importantes! \n",
            "As estruturas de repetição são muito importantes! \n",
            "As estruturas de repetição são muito importantes! \n",
            "As estruturas de repetição são muito importantes! \n",
            "As estruturas de repetição são muito importantes! \n",
            "As estruturas de repetição são muito importantes! \n",
            "As estruturas de repetição são muito importantes! \n",
            "As estruturas de repetição são muito importantes! \n",
            "As estruturas de repetição são muito importantes! \n",
            "As estruturas de repetição são muito importantes! \n",
            "As estruturas de repetição são muito importantes! \n",
            "As estruturas de repetição são muito importantes! \n",
            "As estruturas de repetição são muito importantes! \n",
            "As estruturas de repetição são muito importantes! \n",
            "As estruturas de repetição são muito importantes! \n",
            "As estruturas de repetição são muito importantes! \n",
            "As estruturas de repetição são muito importantes! \n",
            "As estruturas de repetição são muito importantes! \n",
            "As estruturas de repetição são muito importantes! \n",
            "As estruturas de repetição são muito importantes! \n",
            "As estruturas de repetição são muito importantes! \n",
            "As estruturas de repetição são muito importantes! \n",
            "As estruturas de repetição são muito importantes! \n",
            "As estruturas de repetição são muito importantes! \n",
            "As estruturas de repetição são muito importantes! \n",
            "As estruturas de repetição são muito importantes! \n",
            "As estruturas de repetição são muito importantes! \n",
            "As estruturas de repetição são muito importantes! \n",
            "As estruturas de repetição são muito importantes! \n",
            "As estruturas de repetição são muito importantes! \n",
            "As estruturas de repetição são muito importantes! \n",
            "As estruturas de repetição são muito importantes! \n",
            "As estruturas de repetição são muito importantes! \n",
            "As estruturas de repetição são muito importantes! \n",
            "As estruturas de repetição são muito importantes! \n",
            "As estruturas de repetição são muito importantes! \n",
            "As estruturas de repetição são muito importantes! \n",
            "As estruturas de repetição são muito importantes! \n",
            "As estruturas de repetição são muito importantes! \n",
            "As estruturas de repetição são muito importantes! \n",
            "As estruturas de repetição são muito importantes! \n",
            "As estruturas de repetição são muito importantes! \n",
            "As estruturas de repetição são muito importantes! \n",
            "As estruturas de repetição são muito importantes! \n",
            "As estruturas de repetição são muito importantes! \n",
            "As estruturas de repetição são muito importantes! \n",
            "As estruturas de repetição são muito importantes! \n",
            "As estruturas de repetição são muito importantes! \n",
            "As estruturas de repetição são muito importantes! \n",
            "As estruturas de repetição são muito importantes! \n",
            "As estruturas de repetição são muito importantes! \n",
            "As estruturas de repetição são muito importantes! \n",
            "As estruturas de repetição são muito importantes! \n",
            "As estruturas de repetição são muito importantes! \n",
            "As estruturas de repetição são muito importantes! \n",
            "As estruturas de repetição são muito importantes! \n",
            "As estruturas de repetição são muito importantes! \n",
            "As estruturas de repetição são muito importantes! \n",
            "As estruturas de repetição são muito importantes! \n",
            "As estruturas de repetição são muito importantes! \n",
            "As estruturas de repetição são muito importantes! \n",
            "As estruturas de repetição são muito importantes! \n",
            "As estruturas de repetição são muito importantes! \n",
            "As estruturas de repetição são muito importantes! \n",
            "As estruturas de repetição são muito importantes! \n",
            "As estruturas de repetição são muito importantes! \n",
            "As estruturas de repetição são muito importantes! \n",
            "As estruturas de repetição são muito importantes! \n",
            "As estruturas de repetição são muito importantes! \n",
            "As estruturas de repetição são muito importantes! \n",
            "As estruturas de repetição são muito importantes! \n",
            "As estruturas de repetição são muito importantes! \n",
            "As estruturas de repetição são muito importantes! \n",
            "As estruturas de repetição são muito importantes! \n",
            "As estruturas de repetição são muito importantes! \n",
            "As estruturas de repetição são muito importantes! \n",
            "As estruturas de repetição são muito importantes! \n",
            "As estruturas de repetição são muito importantes! \n",
            "As estruturas de repetição são muito importantes! \n",
            "As estruturas de repetição são muito importantes! \n",
            "As estruturas de repetição são muito importantes! \n",
            "As estruturas de repetição são muito importantes! \n",
            "As estruturas de repetição são muito importantes! \n",
            "As estruturas de repetição são muito importantes! \n",
            "As estruturas de repetição são muito importantes! \n",
            "As estruturas de repetição são muito importantes! \n",
            "As estruturas de repetição são muito importantes! \n",
            "As estruturas de repetição são muito importantes! \n",
            "As estruturas de repetição são muito importantes! \n",
            "As estruturas de repetição são muito importantes! \n",
            "As estruturas de repetição são muito importantes! \n",
            "As estruturas de repetição são muito importantes! \n",
            "As estruturas de repetição são muito importantes! \n",
            "As estruturas de repetição são muito importantes! \n",
            "As estruturas de repetição são muito importantes! \n",
            "As estruturas de repetição são muito importantes! \n",
            "As estruturas de repetição são muito importantes! \n",
            "As estruturas de repetição são muito importantes! \n",
            "As estruturas de repetição são muito importantes! \n",
            "As estruturas de repetição são muito importantes! \n",
            "As estruturas de repetição são muito importantes! \n",
            "As estruturas de repetição são muito importantes! \n",
            "As estruturas de repetição são muito importantes! \n",
            "As estruturas de repetição são muito importantes! \n",
            "As estruturas de repetição são muito importantes! \n",
            "As estruturas de repetição são muito importantes! \n",
            "As estruturas de repetição são muito importantes! \n",
            "As estruturas de repetição são muito importantes! \n",
            "As estruturas de repetição são muito importantes! \n",
            "As estruturas de repetição são muito importantes! \n",
            "As estruturas de repetição são muito importantes! \n",
            "As estruturas de repetição são muito importantes! \n",
            "As estruturas de repetição são muito importantes! \n",
            "As estruturas de repetição são muito importantes! \n",
            "As estruturas de repetição são muito importantes! \n",
            "As estruturas de repetição são muito importantes! \n",
            "As estruturas de repetição são muito importantes! \n",
            "As estruturas de repetição são muito importantes! \n",
            "As estruturas de repetição são muito importantes! \n",
            "As estruturas de repetição são muito importantes! \n",
            "As estruturas de repetição são muito importantes! \n",
            "As estruturas de repetição são muito importantes! \n",
            "As estruturas de repetição são muito importantes! \n",
            "As estruturas de repetição são muito importantes! \n",
            "As estruturas de repetição são muito importantes! \n",
            "As estruturas de repetição são muito importantes! \n",
            "As estruturas de repetição são muito importantes! \n",
            "As estruturas de repetição são muito importantes! \n",
            "As estruturas de repetição são muito importantes! \n",
            "As estruturas de repetição são muito importantes! \n",
            "As estruturas de repetição são muito importantes! \n",
            "As estruturas de repetição são muito importantes! \n",
            "As estruturas de repetição são muito importantes! \n",
            "As estruturas de repetição são muito importantes! \n",
            "As estruturas de repetição são muito importantes! \n",
            "As estruturas de repetição são muito importantes! \n",
            "As estruturas de repetição são muito importantes! \n",
            "As estruturas de repetição são muito importantes! \n",
            "As estruturas de repetição são muito importantes! \n",
            "As estruturas de repetição são muito importantes! \n",
            "As estruturas de repetição são muito importantes! \n",
            "As estruturas de repetição são muito importantes! \n",
            "As estruturas de repetição são muito importantes! \n",
            "As estruturas de repetição são muito importantes! \n",
            "As estruturas de repetição são muito importantes! \n",
            "As estruturas de repetição são muito importantes! \n",
            "As estruturas de repetição são muito importantes! \n",
            "As estruturas de repetição são muito importantes! \n",
            "As estruturas de repetição são muito importantes! \n",
            "As estruturas de repetição são muito importantes! \n",
            "As estruturas de repetição são muito importantes! \n",
            "As estruturas de repetição são muito importantes! \n",
            "As estruturas de repetição são muito importantes! \n",
            "As estruturas de repetição são muito importantes! \n",
            "As estruturas de repetição são muito importantes! \n",
            "As estruturas de repetição são muito importantes! \n",
            "As estruturas de repetição são muito importantes! \n",
            "As estruturas de repetição são muito importantes! \n",
            "As estruturas de repetição são muito importantes! \n",
            "As estruturas de repetição são muito importantes! \n",
            "As estruturas de repetição são muito importantes! \n",
            "As estruturas de repetição são muito importantes! \n",
            "As estruturas de repetição são muito importantes! \n",
            "As estruturas de repetição são muito importantes! \n",
            "As estruturas de repetição são muito importantes! \n",
            "As estruturas de repetição são muito importantes! \n",
            "As estruturas de repetição são muito importantes! \n",
            "As estruturas de repetição são muito importantes! \n",
            "As estruturas de repetição são muito importantes! \n",
            "As estruturas de repetição são muito importantes! \n",
            "As estruturas de repetição são muito importantes! \n",
            "As estruturas de repetição são muito importantes! \n",
            "As estruturas de repetição são muito importantes! \n",
            "As estruturas de repetição são muito importantes! \n",
            "As estruturas de repetição são muito importantes! \n",
            "As estruturas de repetição são muito importantes! \n",
            "As estruturas de repetição são muito importantes! \n",
            "As estruturas de repetição são muito importantes! \n",
            "As estruturas de repetição são muito importantes! \n",
            "As estruturas de repetição são muito importantes! \n",
            "As estruturas de repetição são muito importantes! \n",
            "As estruturas de repetição são muito importantes! \n",
            "As estruturas de repetição são muito importantes! \n",
            "As estruturas de repetição são muito importantes! \n",
            "As estruturas de repetição são muito importantes! \n",
            "As estruturas de repetição são muito importantes! \n",
            "As estruturas de repetição são muito importantes! \n",
            "As estruturas de repetição são muito importantes! \n",
            "As estruturas de repetição são muito importantes! \n",
            "As estruturas de repetição são muito importantes! \n",
            "As estruturas de repetição são muito importantes! \n",
            "As estruturas de repetição são muito importantes! \n",
            "As estruturas de repetição são muito importantes! \n",
            "As estruturas de repetição são muito importantes! \n",
            "As estruturas de repetição são muito importantes! \n",
            "As estruturas de repetição são muito importantes! \n",
            "As estruturas de repetição são muito importantes! \n",
            "As estruturas de repetição são muito importantes! \n",
            "As estruturas de repetição são muito importantes! \n",
            "As estruturas de repetição são muito importantes! \n",
            "As estruturas de repetição são muito importantes! \n",
            "As estruturas de repetição são muito importantes! \n",
            "As estruturas de repetição são muito importantes! \n",
            "As estruturas de repetição são muito importantes! \n",
            "As estruturas de repetição são muito importantes! \n",
            "As estruturas de repetição são muito importantes! \n",
            "As estruturas de repetição são muito importantes! \n",
            "As estruturas de repetição são muito importantes! \n",
            "As estruturas de repetição são muito importantes! \n",
            "As estruturas de repetição são muito importantes! \n",
            "As estruturas de repetição são muito importantes! \n",
            "As estruturas de repetição são muito importantes! \n",
            "As estruturas de repetição são muito importantes! \n",
            "As estruturas de repetição são muito importantes! \n",
            "As estruturas de repetição são muito importantes! \n",
            "As estruturas de repetição são muito importantes! \n",
            "As estruturas de repetição são muito importantes! \n",
            "As estruturas de repetição são muito importantes! \n",
            "As estruturas de repetição são muito importantes! \n",
            "As estruturas de repetição são muito importantes! \n",
            "As estruturas de repetição são muito importantes! \n",
            "As estruturas de repetição são muito importantes! \n",
            "As estruturas de repetição são muito importantes! \n",
            "As estruturas de repetição são muito importantes! \n",
            "As estruturas de repetição são muito importantes! \n",
            "As estruturas de repetição são muito importantes! \n",
            "As estruturas de repetição são muito importantes! \n",
            "As estruturas de repetição são muito importantes! \n",
            "As estruturas de repetição são muito importantes! \n",
            "As estruturas de repetição são muito importantes! \n",
            "As estruturas de repetição são muito importantes! \n",
            "As estruturas de repetição são muito importantes! \n",
            "As estruturas de repetição são muito importantes! \n",
            "As estruturas de repetição são muito importantes! \n",
            "As estruturas de repetição são muito importantes! \n",
            "As estruturas de repetição são muito importantes! \n",
            "As estruturas de repetição são muito importantes! \n",
            "As estruturas de repetição são muito importantes! \n",
            "As estruturas de repetição são muito importantes! \n",
            "As estruturas de repetição são muito importantes! \n",
            "As estruturas de repetição são muito importantes! \n",
            "As estruturas de repetição são muito importantes! \n",
            "As estruturas de repetição são muito importantes! \n",
            "As estruturas de repetição são muito importantes! \n",
            "As estruturas de repetição são muito importantes! \n",
            "As estruturas de repetição são muito importantes! \n",
            "As estruturas de repetição são muito importantes! \n",
            "As estruturas de repetição são muito importantes! \n",
            "As estruturas de repetição são muito importantes! \n",
            "As estruturas de repetição são muito importantes! \n",
            "As estruturas de repetição são muito importantes! \n",
            "As estruturas de repetição são muito importantes! \n",
            "As estruturas de repetição são muito importantes! \n",
            "As estruturas de repetição são muito importantes! \n",
            "As estruturas de repetição são muito importantes! \n",
            "As estruturas de repetição são muito importantes! \n",
            "As estruturas de repetição são muito importantes! \n",
            "As estruturas de repetição são muito importantes! \n",
            "As estruturas de repetição são muito importantes! \n",
            "As estruturas de repetição são muito importantes! \n",
            "As estruturas de repetição são muito importantes! \n",
            "As estruturas de repetição são muito importantes! \n",
            "As estruturas de repetição são muito importantes! \n",
            "As estruturas de repetição são muito importantes! \n",
            "As estruturas de repetição são muito importantes! \n",
            "As estruturas de repetição são muito importantes! \n",
            "As estruturas de repetição são muito importantes! \n",
            "As estruturas de repetição são muito importantes! \n",
            "As estruturas de repetição são muito importantes! \n",
            "As estruturas de repetição são muito importantes! \n",
            "As estruturas de repetição são muito importantes! \n",
            "As estruturas de repetição são muito importantes! \n",
            "As estruturas de repetição são muito importantes! \n",
            "As estruturas de repetição são muito importantes! \n",
            "As estruturas de repetição são muito importantes! \n",
            "As estruturas de repetição são muito importantes! \n",
            "As estruturas de repetição são muito importantes! \n",
            "As estruturas de repetição são muito importantes! \n",
            "As estruturas de repetição são muito importantes! \n",
            "As estruturas de repetição são muito importantes! \n",
            "As estruturas de repetição são muito importantes! \n",
            "As estruturas de repetição são muito importantes! \n",
            "As estruturas de repetição são muito importantes! \n",
            "As estruturas de repetição são muito importantes! \n",
            "As estruturas de repetição são muito importantes! \n",
            "As estruturas de repetição são muito importantes! \n",
            "As estruturas de repetição são muito importantes! \n",
            "As estruturas de repetição são muito importantes! \n",
            "As estruturas de repetição são muito importantes! \n",
            "As estruturas de repetição são muito importantes! \n",
            "As estruturas de repetição são muito importantes! \n",
            "As estruturas de repetição são muito importantes! \n",
            "As estruturas de repetição são muito importantes! \n",
            "As estruturas de repetição são muito importantes! \n",
            "As estruturas de repetição são muito importantes! \n",
            "As estruturas de repetição são muito importantes! \n",
            "As estruturas de repetição são muito importantes! \n",
            "As estruturas de repetição são muito importantes! \n",
            "As estruturas de repetição são muito importantes! \n",
            "As estruturas de repetição são muito importantes! \n",
            "As estruturas de repetição são muito importantes! \n",
            "As estruturas de repetição são muito importantes! \n",
            "As estruturas de repetição são muito importantes! \n",
            "As estruturas de repetição são muito importantes! \n",
            "As estruturas de repetição são muito importantes! \n",
            "As estruturas de repetição são muito importantes! \n",
            "As estruturas de repetição são muito importantes! \n",
            "As estruturas de repetição são muito importantes! \n",
            "As estruturas de repetição são muito importantes! \n",
            "As estruturas de repetição são muito importantes! \n",
            "As estruturas de repetição são muito importantes! \n",
            "As estruturas de repetição são muito importantes! \n",
            "As estruturas de repetição são muito importantes! \n",
            "As estruturas de repetição são muito importantes! \n",
            "As estruturas de repetição são muito importantes! \n",
            "As estruturas de repetição são muito importantes! \n",
            "As estruturas de repetição são muito importantes! \n",
            "As estruturas de repetição são muito importantes! \n",
            "As estruturas de repetição são muito importantes! \n",
            "As estruturas de repetição são muito importantes! \n",
            "As estruturas de repetição são muito importantes! \n",
            "As estruturas de repetição são muito importantes! \n",
            "As estruturas de repetição são muito importantes! \n",
            "As estruturas de repetição são muito importantes! \n",
            "As estruturas de repetição são muito importantes! \n",
            "As estruturas de repetição são muito importantes! \n",
            "As estruturas de repetição são muito importantes! \n",
            "As estruturas de repetição são muito importantes! \n",
            "As estruturas de repetição são muito importantes! \n",
            "As estruturas de repetição são muito importantes! \n",
            "As estruturas de repetição são muito importantes! \n",
            "As estruturas de repetição são muito importantes! \n",
            "As estruturas de repetição são muito importantes! \n",
            "As estruturas de repetição são muito importantes! \n",
            "As estruturas de repetição são muito importantes! \n",
            "As estruturas de repetição são muito importantes! \n",
            "As estruturas de repetição são muito importantes! \n",
            "As estruturas de repetição são muito importantes! \n",
            "As estruturas de repetição são muito importantes! \n",
            "As estruturas de repetição são muito importantes! \n",
            "As estruturas de repetição são muito importantes! \n",
            "As estruturas de repetição são muito importantes! \n",
            "As estruturas de repetição são muito importantes! \n",
            "As estruturas de repetição são muito importantes! \n",
            "As estruturas de repetição são muito importantes! \n",
            "As estruturas de repetição são muito importantes! \n",
            "As estruturas de repetição são muito importantes! \n",
            "As estruturas de repetição são muito importantes! \n",
            "As estruturas de repetição são muito importantes! \n",
            "As estruturas de repetição são muito importantes! \n",
            "As estruturas de repetição são muito importantes! \n",
            "As estruturas de repetição são muito importantes! \n",
            "As estruturas de repetição são muito importantes! \n",
            "As estruturas de repetição são muito importantes! \n",
            "As estruturas de repetição são muito importantes! \n",
            "As estruturas de repetição são muito importantes! \n",
            "As estruturas de repetição são muito importantes! \n",
            "As estruturas de repetição são muito importantes! \n",
            "As estruturas de repetição são muito importantes! \n",
            "As estruturas de repetição são muito importantes! \n",
            "As estruturas de repetição são muito importantes! \n",
            "As estruturas de repetição são muito importantes! \n",
            "As estruturas de repetição são muito importantes! \n",
            "As estruturas de repetição são muito importantes! \n",
            "As estruturas de repetição são muito importantes! \n",
            "As estruturas de repetição são muito importantes! \n",
            "As estruturas de repetição são muito importantes! \n",
            "As estruturas de repetição são muito importantes! \n",
            "As estruturas de repetição são muito importantes! \n",
            "As estruturas de repetição são muito importantes! \n",
            "As estruturas de repetição são muito importantes! \n",
            "As estruturas de repetição são muito importantes! \n",
            "As estruturas de repetição são muito importantes! \n",
            "As estruturas de repetição são muito importantes! \n",
            "As estruturas de repetição são muito importantes! \n",
            "As estruturas de repetição são muito importantes! \n",
            "As estruturas de repetição são muito importantes! \n",
            "As estruturas de repetição são muito importantes! \n",
            "As estruturas de repetição são muito importantes! \n",
            "As estruturas de repetição são muito importantes! \n",
            "As estruturas de repetição são muito importantes! \n",
            "As estruturas de repetição são muito importantes! \n",
            "As estruturas de repetição são muito importantes! \n",
            "As estruturas de repetição são muito importantes! \n",
            "As estruturas de repetição são muito importantes! \n",
            "As estruturas de repetição são muito importantes! \n",
            "As estruturas de repetição são muito importantes! \n",
            "As estruturas de repetição são muito importantes! \n",
            "As estruturas de repetição são muito importantes! \n",
            "As estruturas de repetição são muito importantes! \n",
            "As estruturas de repetição são muito importantes! \n",
            "As estruturas de repetição são muito importantes! \n",
            "As estruturas de repetição são muito importantes! \n",
            "As estruturas de repetição são muito importantes! \n",
            "As estruturas de repetição são muito importantes! \n",
            "As estruturas de repetição são muito importantes! \n",
            "As estruturas de repetição são muito importantes! \n",
            "As estruturas de repetição são muito importantes! \n",
            "As estruturas de repetição são muito importantes! \n",
            "As estruturas de repetição são muito importantes! \n",
            "As estruturas de repetição são muito importantes! \n",
            "As estruturas de repetição são muito importantes! \n",
            "As estruturas de repetição são muito importantes! \n",
            "As estruturas de repetição são muito importantes! \n",
            "As estruturas de repetição são muito importantes! \n",
            "As estruturas de repetição são muito importantes! \n",
            "As estruturas de repetição são muito importantes! \n",
            "As estruturas de repetição são muito importantes! \n",
            "As estruturas de repetição são muito importantes! \n",
            "As estruturas de repetição são muito importantes! \n",
            "As estruturas de repetição são muito importantes! \n",
            "As estruturas de repetição são muito importantes! \n",
            "As estruturas de repetição são muito importantes! \n",
            "As estruturas de repetição são muito importantes! \n",
            "As estruturas de repetição são muito importantes! \n",
            "As estruturas de repetição são muito importantes! \n",
            "As estruturas de repetição são muito importantes! \n",
            "As estruturas de repetição são muito importantes! \n",
            "As estruturas de repetição são muito importantes! \n",
            "As estruturas de repetição são muito importantes! \n",
            "As estruturas de repetição são muito importantes! \n",
            "As estruturas de repetição são muito importantes! \n",
            "As estruturas de repetição são muito importantes! \n",
            "As estruturas de repetição são muito importantes! \n",
            "As estruturas de repetição são muito importantes! \n",
            "As estruturas de repetição são muito importantes! \n",
            "As estruturas de repetição são muito importantes! \n",
            "As estruturas de repetição são muito importantes! \n",
            "As estruturas de repetição são muito importantes! \n",
            "As estruturas de repetição são muito importantes! \n",
            "As estruturas de repetição são muito importantes! \n",
            "As estruturas de repetição são muito importantes! \n",
            "As estruturas de repetição são muito importantes! \n",
            "As estruturas de repetição são muito importantes! \n",
            "As estruturas de repetição são muito importantes! \n",
            "As estruturas de repetição são muito importantes! \n",
            "As estruturas de repetição são muito importantes! \n",
            "As estruturas de repetição são muito importantes! \n",
            "As estruturas de repetição são muito importantes! \n",
            "As estruturas de repetição são muito importantes! \n",
            "As estruturas de repetição são muito importantes! \n",
            "As estruturas de repetição são muito importantes! \n",
            "As estruturas de repetição são muito importantes! \n",
            "As estruturas de repetição são muito importantes! \n",
            "As estruturas de repetição são muito importantes! \n",
            "As estruturas de repetição são muito importantes! \n",
            "As estruturas de repetição são muito importantes! \n",
            "As estruturas de repetição são muito importantes! \n",
            "As estruturas de repetição são muito importantes! \n",
            "As estruturas de repetição são muito importantes! \n",
            "As estruturas de repetição são muito importantes! \n",
            "As estruturas de repetição são muito importantes! \n",
            "As estruturas de repetição são muito importantes! \n",
            "As estruturas de repetição são muito importantes! \n",
            "As estruturas de repetição são muito importantes! \n",
            "As estruturas de repetição são muito importantes! \n",
            "As estruturas de repetição são muito importantes! \n",
            "As estruturas de repetição são muito importantes! \n",
            "As estruturas de repetição são muito importantes! \n",
            "As estruturas de repetição são muito importantes! \n",
            "As estruturas de repetição são muito importantes! \n",
            "As estruturas de repetição são muito importantes! \n",
            "As estruturas de repetição são muito importantes! \n",
            "As estruturas de repetição são muito importantes! \n",
            "As estruturas de repetição são muito importantes! \n",
            "As estruturas de repetição são muito importantes! \n",
            "As estruturas de repetição são muito importantes! \n",
            "As estruturas de repetição são muito importantes! \n",
            "As estruturas de repetição são muito importantes! \n",
            "As estruturas de repetição são muito importantes! \n",
            "As estruturas de repetição são muito importantes! \n",
            "As estruturas de repetição são muito importantes! \n",
            "As estruturas de repetição são muito importantes! \n",
            "As estruturas de repetição são muito importantes! \n",
            "As estruturas de repetição são muito importantes! \n",
            "As estruturas de repetição são muito importantes! \n",
            "As estruturas de repetição são muito importantes! \n",
            "As estruturas de repetição são muito importantes! \n",
            "As estruturas de repetição são muito importantes! \n",
            "As estruturas de repetição são muito importantes! \n",
            "As estruturas de repetição são muito importantes! \n",
            "As estruturas de repetição são muito importantes! \n",
            "As estruturas de repetição são muito importantes! \n",
            "As estruturas de repetição são muito importantes! \n",
            "As estruturas de repetição são muito importantes! \n",
            "As estruturas de repetição são muito importantes! \n",
            "As estruturas de repetição são muito importantes! \n",
            "As estruturas de repetição são muito importantes! \n",
            "As estruturas de repetição são muito importantes! \n",
            "As estruturas de repetição são muito importantes! \n",
            "As estruturas de repetição são muito importantes! \n",
            "As estruturas de repetição são muito importantes! \n",
            "As estruturas de repetição são muito importantes! \n",
            "As estruturas de repetição são muito importantes! \n",
            "As estruturas de repetição são muito importantes! \n",
            "As estruturas de repetição são muito importantes! \n",
            "As estruturas de repetição são muito importantes! \n",
            "As estruturas de repetição são muito importantes! \n",
            "As estruturas de repetição são muito importantes! \n",
            "As estruturas de repetição são muito importantes! \n",
            "As estruturas de repetição são muito importantes! \n",
            "As estruturas de repetição são muito importantes! \n",
            "As estruturas de repetição são muito importantes! \n",
            "As estruturas de repetição são muito importantes! \n",
            "As estruturas de repetição são muito importantes! \n",
            "As estruturas de repetição são muito importantes! \n",
            "As estruturas de repetição são muito importantes! \n",
            "As estruturas de repetição são muito importantes! \n",
            "As estruturas de repetição são muito importantes! \n",
            "As estruturas de repetição são muito importantes! \n",
            "As estruturas de repetição são muito importantes! \n",
            "As estruturas de repetição são muito importantes! \n",
            "As estruturas de repetição são muito importantes! \n",
            "As estruturas de repetição são muito importantes! \n",
            "As estruturas de repetição são muito importantes! \n",
            "As estruturas de repetição são muito importantes! \n",
            "As estruturas de repetição são muito importantes! \n",
            "As estruturas de repetição são muito importantes! \n",
            "As estruturas de repetição são muito importantes! \n",
            "As estruturas de repetição são muito importantes! \n",
            "As estruturas de repetição são muito importantes! \n",
            "As estruturas de repetição são muito importantes! \n",
            "As estruturas de repetição são muito importantes! \n",
            "As estruturas de repetição são muito importantes! \n",
            "As estruturas de repetição são muito importantes! \n",
            "As estruturas de repetição são muito importantes! \n",
            "As estruturas de repetição são muito importantes! \n",
            "As estruturas de repetição são muito importantes! \n",
            "As estruturas de repetição são muito importantes! \n",
            "As estruturas de repetição são muito importantes! \n",
            "As estruturas de repetição são muito importantes! \n",
            "As estruturas de repetição são muito importantes! \n",
            "As estruturas de repetição são muito importantes! \n",
            "As estruturas de repetição são muito importantes! \n",
            "As estruturas de repetição são muito importantes! \n",
            "As estruturas de repetição são muito importantes! \n",
            "As estruturas de repetição são muito importantes! \n",
            "As estruturas de repetição são muito importantes! \n",
            "As estruturas de repetição são muito importantes! \n",
            "As estruturas de repetição são muito importantes! \n",
            "As estruturas de repetição são muito importantes! \n",
            "As estruturas de repetição são muito importantes! \n",
            "As estruturas de repetição são muito importantes! \n",
            "As estruturas de repetição são muito importantes! \n",
            "As estruturas de repetição são muito importantes! \n",
            "As estruturas de repetição são muito importantes! \n",
            "As estruturas de repetição são muito importantes! \n",
            "As estruturas de repetição são muito importantes! \n",
            "As estruturas de repetição são muito importantes! \n",
            "As estruturas de repetição são muito importantes! \n",
            "As estruturas de repetição são muito importantes! \n",
            "As estruturas de repetição são muito importantes! \n",
            "As estruturas de repetição são muito importantes! \n",
            "As estruturas de repetição são muito importantes! \n",
            "As estruturas de repetição são muito importantes! \n",
            "As estruturas de repetição são muito importantes! \n",
            "As estruturas de repetição são muito importantes! \n",
            "As estruturas de repetição são muito importantes! \n",
            "As estruturas de repetição são muito importantes! \n",
            "As estruturas de repetição são muito importantes! \n",
            "As estruturas de repetição são muito importantes! \n",
            "As estruturas de repetição são muito importantes! \n",
            "As estruturas de repetição são muito importantes! \n",
            "As estruturas de repetição são muito importantes! \n",
            "As estruturas de repetição são muito importantes! \n",
            "As estruturas de repetição são muito importantes! \n",
            "As estruturas de repetição são muito importantes! \n",
            "As estruturas de repetição são muito importantes! \n",
            "As estruturas de repetição são muito importantes! \n",
            "As estruturas de repetição são muito importantes! \n",
            "As estruturas de repetição são muito importantes! \n",
            "As estruturas de repetição são muito importantes! \n",
            "As estruturas de repetição são muito importantes! \n",
            "As estruturas de repetição são muito importantes! \n",
            "As estruturas de repetição são muito importantes! \n",
            "As estruturas de repetição são muito importantes! \n",
            "As estruturas de repetição são muito importantes! \n",
            "As estruturas de repetição são muito importantes! \n",
            "As estruturas de repetição são muito importantes! \n",
            "As estruturas de repetição são muito importantes! \n",
            "As estruturas de repetição são muito importantes! \n",
            "As estruturas de repetição são muito importantes! \n",
            "As estruturas de repetição são muito importantes! \n",
            "As estruturas de repetição são muito importantes! \n",
            "As estruturas de repetição são muito importantes! \n",
            "As estruturas de repetição são muito importantes! \n",
            "As estruturas de repetição são muito importantes! \n",
            "As estruturas de repetição são muito importantes! \n",
            "As estruturas de repetição são muito importantes! \n",
            "As estruturas de repetição são muito importantes! \n",
            "As estruturas de repetição são muito importantes! \n",
            "As estruturas de repetição são muito importantes! \n",
            "As estruturas de repetição são muito importantes! \n",
            "As estruturas de repetição são muito importantes! \n",
            "As estruturas de repetição são muito importantes! \n",
            "As estruturas de repetição são muito importantes! \n",
            "As estruturas de repetição são muito importantes! \n",
            "As estruturas de repetição são muito importantes! \n",
            "As estruturas de repetição são muito importantes! \n",
            "As estruturas de repetição são muito importantes! \n",
            "As estruturas de repetição são muito importantes! \n",
            "As estruturas de repetição são muito importantes! \n",
            "As estruturas de repetição são muito importantes! \n",
            "As estruturas de repetição são muito importantes! \n",
            "As estruturas de repetição são muito importantes! \n",
            "As estruturas de repetição são muito importantes! \n",
            "As estruturas de repetição são muito importantes! \n",
            "As estruturas de repetição são muito importantes! \n",
            "As estruturas de repetição são muito importantes! \n",
            "As estruturas de repetição são muito importantes! \n",
            "As estruturas de repetição são muito importantes! \n",
            "As estruturas de repetição são muito importantes! \n",
            "As estruturas de repetição são muito importantes! \n",
            "As estruturas de repetição são muito importantes! \n",
            "As estruturas de repetição são muito importantes! \n",
            "As estruturas de repetição são muito importantes! \n",
            "As estruturas de repetição são muito importantes! \n",
            "As estruturas de repetição são muito importantes! \n",
            "As estruturas de repetição são muito importantes! \n",
            "As estruturas de repetição são muito importantes! \n",
            "As estruturas de repetição são muito importantes! \n",
            "As estruturas de repetição são muito importantes! \n",
            "As estruturas de repetição são muito importantes! \n",
            "As estruturas de repetição são muito importantes! \n",
            "As estruturas de repetição são muito importantes! \n",
            "As estruturas de repetição são muito importantes! \n",
            "As estruturas de repetição são muito importantes! \n",
            "As estruturas de repetição são muito importantes! \n",
            "As estruturas de repetição são muito importantes! \n",
            "As estruturas de repetição são muito importantes! \n",
            "As estruturas de repetição são muito importantes! \n",
            "As estruturas de repetição são muito importantes! \n",
            "As estruturas de repetição são muito importantes! \n",
            "As estruturas de repetição são muito importantes! \n",
            "As estruturas de repetição são muito importantes! \n",
            "As estruturas de repetição são muito importantes! \n",
            "As estruturas de repetição são muito importantes! \n",
            "As estruturas de repetição são muito importantes! \n",
            "As estruturas de repetição são muito importantes! \n",
            "As estruturas de repetição são muito importantes! \n",
            "As estruturas de repetição são muito importantes! \n",
            "As estruturas de repetição são muito importantes! \n",
            "As estruturas de repetição são muito importantes! \n",
            "As estruturas de repetição são muito importantes! \n",
            "As estruturas de repetição são muito importantes! \n",
            "As estruturas de repetição são muito importantes! \n",
            "As estruturas de repetição são muito importantes! \n",
            "As estruturas de repetição são muito importantes! \n",
            "As estruturas de repetição são muito importantes! \n",
            "As estruturas de repetição são muito importantes! \n",
            "As estruturas de repetição são muito importantes! \n",
            "As estruturas de repetição são muito importantes! \n",
            "As estruturas de repetição são muito importantes! \n",
            "As estruturas de repetição são muito importantes! \n",
            "As estruturas de repetição são muito importantes! \n",
            "As estruturas de repetição são muito importantes! \n",
            "As estruturas de repetição são muito importantes! \n",
            "As estruturas de repetição são muito importantes! \n",
            "As estruturas de repetição são muito importantes! \n",
            "As estruturas de repetição são muito importantes! \n",
            "As estruturas de repetição são muito importantes! \n",
            "As estruturas de repetição são muito importantes! \n",
            "As estruturas de repetição são muito importantes! \n",
            "As estruturas de repetição são muito importantes! \n",
            "As estruturas de repetição são muito importantes! \n",
            "As estruturas de repetição são muito importantes! \n",
            "As estruturas de repetição são muito importantes! \n",
            "As estruturas de repetição são muito importantes! \n",
            "As estruturas de repetição são muito importantes! \n",
            "As estruturas de repetição são muito importantes! \n",
            "As estruturas de repetição são muito importantes! \n",
            "As estruturas de repetição são muito importantes! \n",
            "As estruturas de repetição são muito importantes! \n",
            "As estruturas de repetição são muito importantes! \n",
            "As estruturas de repetição são muito importantes! \n",
            "As estruturas de repetição são muito importantes! \n",
            "As estruturas de repetição são muito importantes! \n",
            "As estruturas de repetição são muito importantes! \n",
            "As estruturas de repetição são muito importantes! \n",
            "As estruturas de repetição são muito importantes! \n",
            "As estruturas de repetição são muito importantes! \n",
            "As estruturas de repetição são muito importantes! \n",
            "As estruturas de repetição são muito importantes! \n",
            "As estruturas de repetição são muito importantes! \n",
            "As estruturas de repetição são muito importantes! \n",
            "As estruturas de repetição são muito importantes! \n",
            "As estruturas de repetição são muito importantes! \n",
            "As estruturas de repetição são muito importantes! \n",
            "As estruturas de repetição são muito importantes! \n",
            "As estruturas de repetição são muito importantes! \n",
            "As estruturas de repetição são muito importantes! \n",
            "As estruturas de repetição são muito importantes! \n",
            "As estruturas de repetição são muito importantes! \n",
            "As estruturas de repetição são muito importantes! \n",
            "As estruturas de repetição são muito importantes! \n",
            "As estruturas de repetição são muito importantes! \n",
            "As estruturas de repetição são muito importantes! \n",
            "As estruturas de repetição são muito importantes! \n",
            "As estruturas de repetição são muito importantes! \n",
            "As estruturas de repetição são muito importantes! \n",
            "As estruturas de repetição são muito importantes! \n",
            "As estruturas de repetição são muito importantes! \n",
            "As estruturas de repetição são muito importantes! \n",
            "As estruturas de repetição são muito importantes! \n",
            "As estruturas de repetição são muito importantes! \n",
            "As estruturas de repetição são muito importantes! \n",
            "As estruturas de repetição são muito importantes! \n",
            "As estruturas de repetição são muito importantes! \n",
            "As estruturas de repetição são muito importantes! \n",
            "As estruturas de repetição são muito importantes! \n",
            "As estruturas de repetição são muito importantes! \n",
            "As estruturas de repetição são muito importantes! \n",
            "As estruturas de repetição são muito importantes! \n",
            "As estruturas de repetição são muito importantes! \n",
            "As estruturas de repetição são muito importantes! \n",
            "As estruturas de repetição são muito importantes! \n",
            "As estruturas de repetição são muito importantes! \n",
            "As estruturas de repetição são muito importantes! \n",
            "As estruturas de repetição são muito importantes! \n",
            "As estruturas de repetição são muito importantes! \n",
            "As estruturas de repetição são muito importantes! \n",
            "As estruturas de repetição são muito importantes! \n",
            "As estruturas de repetição são muito importantes! \n",
            "As estruturas de repetição são muito importantes! \n",
            "As estruturas de repetição são muito importantes! \n",
            "As estruturas de repetição são muito importantes! \n",
            "As estruturas de repetição são muito importantes! \n",
            "As estruturas de repetição são muito importantes! \n",
            "As estruturas de repetição são muito importantes! \n",
            "As estruturas de repetição são muito importantes! \n",
            "As estruturas de repetição são muito importantes! \n",
            "As estruturas de repetição são muito importantes! \n",
            "As estruturas de repetição são muito importantes! \n",
            "As estruturas de repetição são muito importantes! \n",
            "As estruturas de repetição são muito importantes! \n",
            "As estruturas de repetição são muito importantes! \n",
            "As estruturas de repetição são muito importantes! \n",
            "As estruturas de repetição são muito importantes! \n",
            "As estruturas de repetição são muito importantes! \n",
            "As estruturas de repetição são muito importantes! \n",
            "As estruturas de repetição são muito importantes! \n",
            "As estruturas de repetição são muito importantes! \n",
            "As estruturas de repetição são muito importantes! \n",
            "As estruturas de repetição são muito importantes! \n",
            "As estruturas de repetição são muito importantes! \n",
            "As estruturas de repetição são muito importantes! \n",
            "As estruturas de repetição são muito importantes! \n",
            "As estruturas de repetição são muito importantes! \n",
            "As estruturas de repetição são muito importantes! \n",
            "As estruturas de repetição são muito importantes! \n",
            "As estruturas de repetição são muito importantes! \n",
            "As estruturas de repetição são muito importantes! \n",
            "As estruturas de repetição são muito importantes! \n",
            "As estruturas de repetição são muito importantes! \n",
            "As estruturas de repetição são muito importantes! \n",
            "As estruturas de repetição são muito importantes! \n",
            "As estruturas de repetição são muito importantes! \n",
            "As estruturas de repetição são muito importantes! \n",
            "As estruturas de repetição são muito importantes! \n",
            "As estruturas de repetição são muito importantes! \n",
            "As estruturas de repetição são muito importantes! \n",
            "As estruturas de repetição são muito importantes! \n",
            "As estruturas de repetição são muito importantes! \n",
            "As estruturas de repetição são muito importantes! \n",
            "As estruturas de repetição são muito importantes! \n",
            "As estruturas de repetição são muito importantes! \n",
            "As estruturas de repetição são muito importantes! \n",
            "As estruturas de repetição são muito importantes! \n",
            "As estruturas de repetição são muito importantes! \n",
            "As estruturas de repetição são muito importantes! \n",
            "As estruturas de repetição são muito importantes! \n",
            "As estruturas de repetição são muito importantes! \n",
            "As estruturas de repetição são muito importantes! \n",
            "As estruturas de repetição são muito importantes! \n",
            "As estruturas de repetição são muito importantes! \n",
            "As estruturas de repetição são muito importantes! \n",
            "As estruturas de repetição são muito importantes! \n",
            "As estruturas de repetição são muito importantes! \n",
            "As estruturas de repetição são muito importantes! \n",
            "As estruturas de repetição são muito importantes! \n",
            "As estruturas de repetição são muito importantes! \n",
            "As estruturas de repetição são muito importantes! \n",
            "As estruturas de repetição são muito importantes! \n",
            "As estruturas de repetição são muito importantes! \n",
            "As estruturas de repetição são muito importantes! \n",
            "As estruturas de repetição são muito importantes! \n",
            "As estruturas de repetição são muito importantes! \n",
            "As estruturas de repetição são muito importantes! \n",
            "As estruturas de repetição são muito importantes! \n",
            "As estruturas de repetição são muito importantes! \n",
            "As estruturas de repetição são muito importantes! \n",
            "As estruturas de repetição são muito importantes! \n",
            "As estruturas de repetição são muito importantes! \n",
            "As estruturas de repetição são muito importantes! \n",
            "As estruturas de repetição são muito importantes! \n",
            "As estruturas de repetição são muito importantes! \n",
            "As estruturas de repetição são muito importantes! \n",
            "As estruturas de repetição são muito importantes! \n",
            "As estruturas de repetição são muito importantes! \n",
            "As estruturas de repetição são muito importantes! \n",
            "As estruturas de repetição são muito importantes! \n",
            "As estruturas de repetição são muito importantes! \n",
            "As estruturas de repetição são muito importantes! \n",
            "As estruturas de repetição são muito importantes! \n",
            "As estruturas de repetição são muito importantes! \n",
            "As estruturas de repetição são muito importantes! \n",
            "As estruturas de repetição são muito importantes! \n",
            "As estruturas de repetição são muito importantes! \n",
            "As estruturas de repetição são muito importantes! \n",
            "As estruturas de repetição são muito importantes! \n",
            "As estruturas de repetição são muito importantes! \n",
            "As estruturas de repetição são muito importantes! \n",
            "As estruturas de repetição são muito importantes! \n",
            "As estruturas de repetição são muito importantes! \n",
            "As estruturas de repetição são muito importantes! \n",
            "As estruturas de repetição são muito importantes! \n",
            "As estruturas de repetição são muito importantes! \n",
            "As estruturas de repetição são muito importantes! \n",
            "As estruturas de repetição são muito importantes! \n",
            "As estruturas de repetição são muito importantes! \n",
            "As estruturas de repetição são muito importantes! \n",
            "As estruturas de repetição são muito importantes! \n",
            "As estruturas de repetição são muito importantes! \n",
            "As estruturas de repetição são muito importantes! \n",
            "As estruturas de repetição são muito importantes! \n",
            "As estruturas de repetição são muito importantes! \n",
            "As estruturas de repetição são muito importantes! \n",
            "\n"
          ],
          "name": "stdout"
        }
      ]
    },
    {
      "cell_type": "markdown",
      "metadata": {
        "id": "yqotWWEEPR-d",
        "colab_type": "text"
      },
      "source": [
        "Em quantas linhas você escreveu seu código?\n",
        "Desistiu logo no segundo exercício? Achou que mil era muita coisa?\n",
        "\n",
        "Pois é, temos que entender que para mantermos um código limpo, que possa ser entendido por todos, que facilite a manutenção e que possa automatizar funções (esse é o motivo do computador e das linguagem de programação terem surgido), precisamos e muito das estruturas de repetições.\n",
        "\n",
        "Então, vamos ver agora como podemos escrever os dois programas acima, para imprimir vinte ou mil vezes a mesma frase, utilizando a mesma quantidade de linhas para escrever ambos os códigos."
      ]
    },
    {
      "cell_type": "markdown",
      "metadata": {
        "id": "xfVGWKjOPUwC",
        "colab_type": "text"
      },
      "source": [
        "Em Python, existem duas formas de criar uma estrutura de repetição, através das instruções *for* ou *while*.\n",
        "\n",
        "#A instrução *for*\n",
        "A instrução *for* é utilizada quando se quer iterar sobre um bloco de código um número de vezes determinado, isto é, você sabe quantas vezes precisará que aquele código seja repetido.\n"
      ]
    },
    {
      "cell_type": "code",
      "metadata": {
        "id": "Ga3WhklMmhmI",
        "colab_type": "code",
        "colab": {
          "base_uri": "https://localhost:8080/",
          "height": 357
        },
        "outputId": "d28fe595-4d6f-4696-f0c7-e83bd12d085c"
      },
      "source": [
        "for n in range(0, 20):\n",
        "  print (\"As estruturas de repetição são muito importantes!\")"
      ],
      "execution_count": null,
      "outputs": [
        {
          "output_type": "stream",
          "text": [
            "As estruturas de repetição são muito importantes!\n",
            "As estruturas de repetição são muito importantes!\n",
            "As estruturas de repetição são muito importantes!\n",
            "As estruturas de repetição são muito importantes!\n",
            "As estruturas de repetição são muito importantes!\n",
            "As estruturas de repetição são muito importantes!\n",
            "As estruturas de repetição são muito importantes!\n",
            "As estruturas de repetição são muito importantes!\n",
            "As estruturas de repetição são muito importantes!\n",
            "As estruturas de repetição são muito importantes!\n",
            "As estruturas de repetição são muito importantes!\n",
            "As estruturas de repetição são muito importantes!\n",
            "As estruturas de repetição são muito importantes!\n",
            "As estruturas de repetição são muito importantes!\n",
            "As estruturas de repetição são muito importantes!\n",
            "As estruturas de repetição são muito importantes!\n",
            "As estruturas de repetição são muito importantes!\n",
            "As estruturas de repetição são muito importantes!\n",
            "As estruturas de repetição são muito importantes!\n",
            "As estruturas de repetição são muito importantes!\n"
          ],
          "name": "stdout"
        }
      ]
    },
    {
      "cell_type": "markdown",
      "metadata": {
        "id": "gTNEd3jfPYVY",
        "colab_type": "text"
      },
      "source": [
        "#A instrução while\n",
        "A instrução $while$ é utilizada quando queremos que o bloco de código seja repetido até que uma condição seja satisfeita. Ou seja, é necessário que uma expressão booleana se mantenha verdadeira para que esse bloco de código continue a ser executado. Assim que essa expressão se tornar falsa, o bloco *while* irá parar.\n",
        "\n",
        "**Nota:** Na linguagem Python a indentação é obrigatória. assim como nas estruturas de controle, as estruturas de repetição também precisam ter uma indentação correta para que o Python possa identificar os blocos de código.\n",
        "\n",
        "Então, vamos resolver as questões que vimos acima e se tornaram muito trabalhosas por exigir a repetição de uma função muitas vezes. Usem as instruções *for* e *while* para revolser os exercícios."
      ]
    },
    {
      "cell_type": "markdown",
      "metadata": {
        "id": "wWDkHNPGPiK8",
        "colab_type": "text"
      },
      "source": [
        "Agora que já vimos como o *for* funciona, vamos resolver a mesma questão usando o *while*."
      ]
    },
    {
      "cell_type": "code",
      "metadata": {
        "id": "UyWIGumAPmbq",
        "colab_type": "code",
        "colab": {
          "base_uri": "https://localhost:8080/",
          "height": 357
        },
        "outputId": "926b42ba-b86e-4501-c947-ee035047364f"
      },
      "source": [
        "n = 0\n",
        "while (n < 20):\n",
        "  print (\"As estruturas de repetição são muito importantes!\")\n",
        "  n += 1 #essa linha é a mesma coisa que escrever n = n + 1"
      ],
      "execution_count": null,
      "outputs": [
        {
          "output_type": "stream",
          "text": [
            "As estruturas de repetição são muito importantes!\n",
            "As estruturas de repetição são muito importantes!\n",
            "As estruturas de repetição são muito importantes!\n",
            "As estruturas de repetição são muito importantes!\n",
            "As estruturas de repetição são muito importantes!\n",
            "As estruturas de repetição são muito importantes!\n",
            "As estruturas de repetição são muito importantes!\n",
            "As estruturas de repetição são muito importantes!\n",
            "As estruturas de repetição são muito importantes!\n",
            "As estruturas de repetição são muito importantes!\n",
            "As estruturas de repetição são muito importantes!\n",
            "As estruturas de repetição são muito importantes!\n",
            "As estruturas de repetição são muito importantes!\n",
            "As estruturas de repetição são muito importantes!\n",
            "As estruturas de repetição são muito importantes!\n",
            "As estruturas de repetição são muito importantes!\n",
            "As estruturas de repetição são muito importantes!\n",
            "As estruturas de repetição são muito importantes!\n",
            "As estruturas de repetição são muito importantes!\n",
            "As estruturas de repetição são muito importantes!\n"
          ],
          "name": "stdout"
        }
      ]
    },
    {
      "cell_type": "markdown",
      "metadata": {
        "id": "GWa-YnR5Pe9A",
        "colab_type": "text"
      },
      "source": [
        "#Exercício 6:\n",
        "Resolva a sequinte questão: Como posso provar que tenho 20 linhas como saída no programa a cima, sem precisar contá-las?"
      ]
    },
    {
      "cell_type": "code",
      "metadata": {
        "id": "yck70qqtPh-T",
        "colab_type": "code",
        "colab": {
          "base_uri": "https://localhost:8080/",
          "height": 374
        },
        "outputId": "0503757d-ce30-4c92-d3f3-213f5f7facd2"
      },
      "source": [
        "#Você pode colocar um índice:\n",
        "n = 0\n",
        "while(n < 20):\n",
        "  print(n + 1 , \"As estruturas de repetição são muito importantes!\", sep = \". \")\n",
        "  n += 1\n",
        "\n",
        "#Alternativamente, imprimimos o valor de n:\n",
        "while(n < 20):\n",
        "  print(\"As estruturas de repetição são muito importantes!\")\n",
        "  n += 1\n",
        "\n",
        "print(\"O número de frases é igual a \", n, \".\", sep = \"\")"
      ],
      "execution_count": null,
      "outputs": [
        {
          "output_type": "stream",
          "text": [
            "1. As estruturas de repetição são muito importantes!\n",
            "2. As estruturas de repetição são muito importantes!\n",
            "3. As estruturas de repetição são muito importantes!\n",
            "4. As estruturas de repetição são muito importantes!\n",
            "5. As estruturas de repetição são muito importantes!\n",
            "6. As estruturas de repetição são muito importantes!\n",
            "7. As estruturas de repetição são muito importantes!\n",
            "8. As estruturas de repetição são muito importantes!\n",
            "9. As estruturas de repetição são muito importantes!\n",
            "10. As estruturas de repetição são muito importantes!\n",
            "11. As estruturas de repetição são muito importantes!\n",
            "12. As estruturas de repetição são muito importantes!\n",
            "13. As estruturas de repetição são muito importantes!\n",
            "14. As estruturas de repetição são muito importantes!\n",
            "15. As estruturas de repetição são muito importantes!\n",
            "16. As estruturas de repetição são muito importantes!\n",
            "17. As estruturas de repetição são muito importantes!\n",
            "18. As estruturas de repetição são muito importantes!\n",
            "19. As estruturas de repetição são muito importantes!\n",
            "20. As estruturas de repetição são muito importantes!\n",
            "O número de frases é igual a 20.\n"
          ],
          "name": "stdout"
        }
      ]
    },
    {
      "cell_type": "markdown",
      "metadata": {
        "id": "cFmH_jB8PuFj",
        "colab_type": "text"
      },
      "source": [
        "#Exercício 7:\n",
        "Escreva um programa que receba como entrada dois números,  **a** e **b** e verifique se **a** é um fator de **b**. O programa deverá receber de entrada dois valores inteiros e exibir na saída, independente do resultado ser verdadeiro ou falso, uma resposta ao usuário. Faça o tratamento de erros.\n"
      ]
    },
    {
      "cell_type": "code",
      "metadata": {
        "id": "_wtBga0_3Zai",
        "colab_type": "code",
        "colab": {
          "base_uri": "https://localhost:8080/",
          "height": 85
        },
        "outputId": "7c11ebd9-2728-45c4-b7b6-adc31ac962fa"
      },
      "source": [
        "print(\"Insira dois números inteiros:\")\n",
        "try:\n",
        "  a = int(input(\"O número \", ))\n",
        "  b = int(input(\"é divisível por \",))\n",
        "  if(b % a == 0):\n",
        "    print(\"True.\")\n",
        "  else:\n",
        "    print(\"False.\")\n",
        "except ValueError:\n",
        "  print(\"Opa!\")"
      ],
      "execution_count": null,
      "outputs": [
        {
          "output_type": "stream",
          "text": [
            "Insira dois números inteiros:\n",
            "O número 19\n",
            "é divisível por 19\n",
            "True.\n"
          ],
          "name": "stdout"
        }
      ]
    },
    {
      "cell_type": "markdown",
      "metadata": {
        "id": "fdi9LPpRP2Tc",
        "colab_type": "text"
      },
      "source": [
        "#Exercício 8:\n",
        "Escreva um programa que imprima a tabuada do 8.\n"
      ]
    },
    {
      "cell_type": "code",
      "metadata": {
        "id": "oAAutWOb4-tR",
        "colab_type": "code",
        "colab": {
          "base_uri": "https://localhost:8080/",
          "height": 51
        },
        "outputId": "2889112e-9afd-4efd-840a-2eeaf3573686"
      },
      "source": [
        "print(\"Tabuado do 8.\")\n",
        "for i in range(1, 11):\n",
        "  print(8*i, end = \" \")"
      ],
      "execution_count": null,
      "outputs": [
        {
          "output_type": "stream",
          "text": [
            "Tabuado do 8.\n",
            "8 16 24 32 40 48 56 64 72 80 "
          ],
          "name": "stdout"
        }
      ]
    },
    {
      "cell_type": "markdown",
      "metadata": {
        "id": "ugrY_YkYP6Pb",
        "colab_type": "text"
      },
      "source": [
        "#Exercício 9:\n",
        "Escreva um programa que receba um número de entrada e imprima a tabuada desse número. Faça o tratamento de erros. "
      ]
    },
    {
      "cell_type": "code",
      "metadata": {
        "id": "-yDugPRf5KOj",
        "colab_type": "code",
        "colab": {
          "base_uri": "https://localhost:8080/",
          "height": 204
        },
        "outputId": "1d7cc564-47a4-433a-f9e6-6b07248443b3"
      },
      "source": [
        "try:\n",
        "  num = int(input(\"Insira um número inteiro: \",))\n",
        "  for i in range(1, 11):\n",
        "    print(i * num)\n",
        "except ValueError:\n",
        "  print(\"Um número inteiro.\")"
      ],
      "execution_count": null,
      "outputs": [
        {
          "output_type": "stream",
          "text": [
            "Insira um número inteiro: 9\n",
            "9\n",
            "18\n",
            "27\n",
            "36\n",
            "45\n",
            "54\n",
            "63\n",
            "72\n",
            "81\n",
            "90\n"
          ],
          "name": "stdout"
        }
      ]
    },
    {
      "cell_type": "markdown",
      "metadata": {
        "id": "Z7Jr3PawP-pD",
        "colab_type": "text"
      },
      "source": [
        "#Exercício 10:\n",
        "Escreva um programa que receba um número como   entrada e determine se este número é par ou ímpar  e informe o resultado ao usuário.  Faça o tratamento de erros."
      ]
    },
    {
      "cell_type": "code",
      "metadata": {
        "id": "CS_aq-vV5rmL",
        "colab_type": "code",
        "colab": {
          "base_uri": "https://localhost:8080/",
          "height": 51
        },
        "outputId": "26e3e3e9-a6ec-46ef-aa8c-34b7b1526fff"
      },
      "source": [
        "try:\n",
        "  num = int(input(\"Insira um número inteiro: \"))\n",
        "  if(num % 2 == 0):\n",
        "    print(\"Esse número é par.\")\n",
        "  else:\n",
        "    print(\"Esse número é ímpar.\")\n",
        "except ValueError:\n",
        "  print(\"Ora, que inserção peculiar! Um número inteiro basta.\")"
      ],
      "execution_count": null,
      "outputs": [
        {
          "output_type": "stream",
          "text": [
            "Insira um número inteiro: 9\n",
            "Esse número é ímpar.\n"
          ],
          "name": "stdout"
        }
      ]
    },
    {
      "cell_type": "markdown",
      "metadata": {
        "id": "Cq7JOu4nQCYu",
        "colab_type": "text"
      },
      "source": [
        "#Exercício 11:\n",
        "Escreva um programa que imprima todos os números ímpares no intervalo aberto de 1 a 500."
      ]
    },
    {
      "cell_type": "code",
      "metadata": {
        "id": "aX9MBv8Q6O3w",
        "colab_type": "code",
        "colab": {
          "base_uri": "https://localhost:8080/",
          "height": 54
        },
        "outputId": "c4c4c682-0e79-42f6-bbbb-5b6f640d77e1"
      },
      "source": [
        "for i in range(2, 500):\n",
        "  if(i % 2 != 0):\n",
        "    print(i, end = \", \")"
      ],
      "execution_count": null,
      "outputs": [
        {
          "output_type": "stream",
          "text": [
            "3, 5, 7, 9, 11, 13, 15, 17, 19, 21, 23, 25, 27, 29, 31, 33, 35, 37, 39, 41, 43, 45, 47, 49, 51, 53, 55, 57, 59, 61, 63, 65, 67, 69, 71, 73, 75, 77, 79, 81, 83, 85, 87, 89, 91, 93, 95, 97, 99, 101, 103, 105, 107, 109, 111, 113, 115, 117, 119, 121, 123, 125, 127, 129, 131, 133, 135, 137, 139, 141, 143, 145, 147, 149, 151, 153, 155, 157, 159, 161, 163, 165, 167, 169, 171, 173, 175, 177, 179, 181, 183, 185, 187, 189, 191, 193, 195, 197, 199, 201, 203, 205, 207, 209, 211, 213, 215, 217, 219, 221, 223, 225, 227, 229, 231, 233, 235, 237, 239, 241, 243, 245, 247, 249, 251, 253, 255, 257, 259, 261, 263, 265, 267, 269, 271, 273, 275, 277, 279, 281, 283, 285, 287, 289, 291, 293, 295, 297, 299, 301, 303, 305, 307, 309, 311, 313, 315, 317, 319, 321, 323, 325, 327, 329, 331, 333, 335, 337, 339, 341, 343, 345, 347, 349, 351, 353, 355, 357, 359, 361, 363, 365, 367, 369, 371, 373, 375, 377, 379, 381, 383, 385, 387, 389, 391, 393, 395, 397, 399, 401, 403, 405, 407, 409, 411, 413, 415, 417, 419, 421, 423, 425, 427, 429, 431, 433, 435, 437, 439, 441, 443, 445, 447, 449, 451, 453, 455, 457, 459, 461, 463, 465, 467, 469, 471, 473, 475, 477, 479, 481, 483, 485, 487, 489, 491, 493, 495, 497, 499, "
          ],
          "name": "stdout"
        }
      ]
    },
    {
      "cell_type": "markdown",
      "metadata": {
        "id": "rGN6Yq71QF3G",
        "colab_type": "text"
      },
      "source": [
        "#Exercício 12:\n",
        "Escreva um programa que receba um número como entrada pelo usuário e diga se esse número é  ou não primo. O progroma deverá continuar a ler esses números até que o usuário digite 0. Faça o tratamento de erros."
      ]
    },
    {
      "cell_type": "code",
      "metadata": {
        "id": "taqKnpjG6kcK",
        "colab_type": "code",
        "colab": {
          "base_uri": "https://localhost:8080/",
          "height": 170
        },
        "outputId": "135d512a-7573-4d92-d1b5-06c584404943"
      },
      "source": [
        "n = 2\n",
        "\n",
        "def test(n):\n",
        "  for i in range(2, int(n**0.5) + 1):\n",
        "    if(n % i == 0):\n",
        "      n = i \n",
        "  return n\n",
        "\n",
        "print(\"Para parar, digite 0.\")\n",
        "while(n != 0):\n",
        "  try:\n",
        "    n = int(input(\"Insira um número inteiro:\", ))\n",
        "    if(test(n) < n or n == 0):\n",
        "      print(\"Não é primo.\")\n",
        "    else:\n",
        "      print(\"É primo.\")\n",
        "  except ValueError:\n",
        "    print(\"Ora, poemas não gozam de primalidade! Digite um número inteiro.\")\n"
      ],
      "execution_count": null,
      "outputs": [
        {
          "output_type": "stream",
          "text": [
            "Para parar, digite 0.\n",
            "Insira um número inteiro:44424\n",
            "Não é primo.\n",
            "Insira um número inteiro:1684684\n",
            "Não é primo.\n",
            "Insira um número inteiro:31\n",
            "É primo.\n",
            "Insira um número inteiro:0\n",
            "Não é primo.\n"
          ],
          "name": "stdout"
        }
      ]
    }
  ]
}